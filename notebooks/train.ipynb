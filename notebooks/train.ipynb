{
 "cells": [
  {
   "cell_type": "code",
   "execution_count": 1,
   "metadata": {},
   "outputs": [
    {
     "name": "stderr",
     "output_type": "stream",
     "text": [
      "2024-01-19 03:27:21.470216: E tensorflow/compiler/xla/stream_executor/cuda/cuda_dnn.cc:9342] Unable to register cuDNN factory: Attempting to register factory for plugin cuDNN when one has already been registered\n",
      "2024-01-19 03:27:21.470259: E tensorflow/compiler/xla/stream_executor/cuda/cuda_fft.cc:609] Unable to register cuFFT factory: Attempting to register factory for plugin cuFFT when one has already been registered\n",
      "2024-01-19 03:27:21.471737: E tensorflow/compiler/xla/stream_executor/cuda/cuda_blas.cc:1518] Unable to register cuBLAS factory: Attempting to register factory for plugin cuBLAS when one has already been registered\n",
      "2024-01-19 03:27:21.593446: I tensorflow/core/platform/cpu_feature_guard.cc:182] This TensorFlow binary is optimized to use available CPU instructions in performance-critical operations.\n",
      "To enable the following instructions: AVX2 FMA, in other operations, rebuild TensorFlow with the appropriate compiler flags.\n",
      "2024-01-19 03:27:22.798854: W tensorflow/compiler/tf2tensorrt/utils/py_utils.cc:38] TF-TRT Warning: Could not find TensorRT\n"
     ]
    }
   ],
   "source": [
    "from pathlib import Path\n",
    "\n",
    "import numpy as np\n",
    "import pandas as pd\n",
    "import seaborn as sns\n",
    "import sklearn\n",
    "import sklearn.linear_model\n",
    "from sklearn.metrics import accuracy_score\n",
    "from sklearn.model_selection import train_test_split, cross_val_score\n",
    "import sklearn.multioutput\n",
    "import tensorflow_text as text  # tf registers ops on import\n",
    "import tensorflow as tf\n",
    "from tensorflow.keras.regularizers import L2\n",
    "from tensorflow.keras.metrics import Precision\n",
    "import tensorflow_hub as hub\n",
    "import transformers\n",
    "\n",
    "from retrain_bert import settings\n",
    "from retrain_bert.preprocessor import load_labels, get_labels_conf"
   ]
  },
  {
   "cell_type": "code",
   "execution_count": 2,
   "metadata": {},
   "outputs": [
    {
     "name": "stdout",
     "output_type": "stream",
     "text": [
      "GPU is available.\n"
     ]
    },
    {
     "name": "stderr",
     "output_type": "stream",
     "text": [
      "2024-01-19 03:27:24.226940: I tensorflow/compiler/xla/stream_executor/cuda/cuda_gpu_executor.cc:894] successful NUMA node read from SysFS had negative value (-1), but there must be at least one NUMA node, so returning NUMA node zero. See more at https://github.com/torvalds/linux/blob/v6.0/Documentation/ABI/testing/sysfs-bus-pci#L344-L355\n",
      "2024-01-19 03:27:24.395306: I tensorflow/compiler/xla/stream_executor/cuda/cuda_gpu_executor.cc:894] successful NUMA node read from SysFS had negative value (-1), but there must be at least one NUMA node, so returning NUMA node zero. See more at https://github.com/torvalds/linux/blob/v6.0/Documentation/ABI/testing/sysfs-bus-pci#L344-L355\n",
      "2024-01-19 03:27:24.395604: I tensorflow/compiler/xla/stream_executor/cuda/cuda_gpu_executor.cc:894] successful NUMA node read from SysFS had negative value (-1), but there must be at least one NUMA node, so returning NUMA node zero. See more at https://github.com/torvalds/linux/blob/v6.0/Documentation/ABI/testing/sysfs-bus-pci#L344-L355\n"
     ]
    }
   ],
   "source": [
    "physical_devices = tf.config.list_physical_devices('GPU')\n",
    "if physical_devices:\n",
    "    print(\"GPU is available.\")\n",
    "else:\n",
    "    print(\"No GPU detected.\")"
   ]
  },
  {
   "cell_type": "code",
   "execution_count": 3,
   "metadata": {},
   "outputs": [],
   "source": [
    "if Path('/code').exists():\n",
    "    settings.PROJECT_DIR = Path('/code')\n",
    "    settings.INFERENCE_MODEL_PATH = settings.PROJECT_DIR / \"models/bert_finetuned.h5\"\n",
    "    settings.CATEGORIES_PATH = settings.PROJECT_DIR / \"data/categories.csv\""
   ]
  },
  {
   "cell_type": "code",
   "execution_count": 4,
   "metadata": {},
   "outputs": [],
   "source": [
    "train_data = pd.read_csv(settings.DATA_DIR / \"train/train.csv\")\n",
    "extra_data = pd.read_csv(settings.DATA_DIR / \"train/human_train.csv\")\n",
    "\n",
    "extra_data = extra_data.query(\"OcrValue not in @train_data.OcrValue\")\n",
    "train_data = pd.concat([train_data, extra_data], ignore_index=True)\n",
    "\n",
    "train_data = train_data.dropna(subset=['OcrValue']).drop_duplicates(subset=['OcrValue'])\n",
    "\n",
    "train_data, val_data = train_test_split(train_data, test_size=0.1, random_state=42)\n",
    "\n",
    "labels = load_labels(settings.DATA_DIR / \"mp_labels.csv\")"
   ]
  },
  {
   "cell_type": "code",
   "execution_count": 5,
   "metadata": {},
   "outputs": [],
   "source": [
    "fuzzy_mappings = pd.read_csv(\n",
    "    settings.PROJECT_DIR / \"data/raw/Fuzzy_Mappings.csv\",\n",
    "    usecols=[\"OcrValue\", \"Correct_Desc\"]\n",
    ").dropna(subset=[\"Correct_Desc\", \"OcrValue\"]\n",
    ").drop_duplicates(subset=[\"OcrValue\"])\n",
    "unlabelled = pd.read_csv(settings.PROJECT_DIR / \"data/raw/unverified classifications.csv\").dropna(subset=[\"OCR\"])\n",
    "try:\n",
    "    generated_train_data = pd.read_csv(settings.PROJECT_DIR / \"data/train/generated_train.csv\").dropna(subset=[\"OcrValue\"])\n",
    "    unlabelled = unlabelled.query(\"OCR not in @generated_train_data.OcrValue\")\n",
    "except FileNotFoundError:\n",
    "    generated_train_data = None"
   ]
  },
  {
   "cell_type": "code",
   "execution_count": 6,
   "metadata": {},
   "outputs": [],
   "source": [
    "fuzzy_validation = pd.merge(\n",
    "    val_data,\n",
    "    fuzzy_mappings,\n",
    "    left_on=\"OcrValue\",\n",
    "    right_on=\"Correct_Desc\",\n",
    "    how=\"inner\",\n",
    "    suffixes=[\"_l\", \"_r\"]\n",
    ").drop(columns=[\"OcrValue_l\", \"Correct_Desc\"]\n",
    ").rename(columns={\"OcrValue_r\": \"OcrValue\"})\n",
    "\n",
    "val_data = pd.concat([val_data, fuzzy_validation], ignore_index=True)"
   ]
  },
  {
   "cell_type": "code",
   "execution_count": 7,
   "metadata": {},
   "outputs": [],
   "source": [
    "fuzzy_train = pd.merge(\n",
    "    train_data,\n",
    "    fuzzy_mappings,\n",
    "    left_on=\"OcrValue\",\n",
    "    right_on=\"Correct_Desc\",\n",
    "    how=\"inner\",\n",
    "    suffixes=[\"_l\", \"_r\"]\n",
    ").drop(columns=[\"OcrValue_l\", \"Correct_Desc\"]\n",
    ").rename(columns={\"OcrValue_r\": \"OcrValue\"})\n",
    "\n",
    "train_data = pd.concat([train_data, fuzzy_train], ignore_index=True)"
   ]
  },
  {
   "cell_type": "code",
   "execution_count": 8,
   "metadata": {},
   "outputs": [],
   "source": [
    "unlabelled = unlabelled.query(\"OCR not in @train_data.OcrValue\")\n",
    "unlabelled = unlabelled.query(\"OCR not in @val_data.OcrValue\")"
   ]
  },
  {
   "cell_type": "code",
   "execution_count": 9,
   "metadata": {},
   "outputs": [],
   "source": [
    "import unidecode\n",
    "def clean_ocrs(ocrs: pd.Series):\n",
    "    ocrs = ocrs.str.replace(r\"\\s+\", \" \")\n",
    "    ocrs = ocrs.str.strip()\n",
    "    ocrs = ocrs.str.lower()\n",
    "    ocrs = ocrs.apply(unidecode.unidecode)\n",
    "    return ocrs\n",
    "\n",
    "train_data[\"OcrValue\"] = clean_ocrs(train_data[\"OcrValue\"])\n",
    "val_data[\"OcrValue\"] = clean_ocrs(val_data[\"OcrValue\"])\n",
    "unlabelled[\"OCR\"] = clean_ocrs(unlabelled[\"OCR\"])"
   ]
  },
  {
   "cell_type": "code",
   "execution_count": 10,
   "metadata": {},
   "outputs": [],
   "source": [
    "labels_conf = get_labels_conf(labels=labels)"
   ]
  },
  {
   "cell_type": "code",
   "execution_count": 11,
   "metadata": {},
   "outputs": [
    {
     "name": "stderr",
     "output_type": "stream",
     "text": [
      "2024-01-19 03:28:51.763568: I tensorflow/compiler/xla/stream_executor/cuda/cuda_gpu_executor.cc:894] successful NUMA node read from SysFS had negative value (-1), but there must be at least one NUMA node, so returning NUMA node zero. See more at https://github.com/torvalds/linux/blob/v6.0/Documentation/ABI/testing/sysfs-bus-pci#L344-L355\n",
      "2024-01-19 03:28:51.763956: I tensorflow/compiler/xla/stream_executor/cuda/cuda_gpu_executor.cc:894] successful NUMA node read from SysFS had negative value (-1), but there must be at least one NUMA node, so returning NUMA node zero. See more at https://github.com/torvalds/linux/blob/v6.0/Documentation/ABI/testing/sysfs-bus-pci#L344-L355\n",
      "2024-01-19 03:28:51.764240: I tensorflow/compiler/xla/stream_executor/cuda/cuda_gpu_executor.cc:894] successful NUMA node read from SysFS had negative value (-1), but there must be at least one NUMA node, so returning NUMA node zero. See more at https://github.com/torvalds/linux/blob/v6.0/Documentation/ABI/testing/sysfs-bus-pci#L344-L355\n",
      "2024-01-19 03:28:51.863251: I tensorflow/compiler/xla/stream_executor/cuda/cuda_gpu_executor.cc:894] successful NUMA node read from SysFS had negative value (-1), but there must be at least one NUMA node, so returning NUMA node zero. See more at https://github.com/torvalds/linux/blob/v6.0/Documentation/ABI/testing/sysfs-bus-pci#L344-L355\n",
      "2024-01-19 03:28:51.863492: I tensorflow/compiler/xla/stream_executor/cuda/cuda_gpu_executor.cc:894] successful NUMA node read from SysFS had negative value (-1), but there must be at least one NUMA node, so returning NUMA node zero. See more at https://github.com/torvalds/linux/blob/v6.0/Documentation/ABI/testing/sysfs-bus-pci#L344-L355\n",
      "2024-01-19 03:28:51.863606: I tensorflow/core/common_runtime/gpu/gpu_process_state.cc:236] Using CUDA malloc Async allocator for GPU: 0\n",
      "2024-01-19 03:28:51.864245: I tensorflow/compiler/xla/stream_executor/cuda/cuda_gpu_executor.cc:894] successful NUMA node read from SysFS had negative value (-1), but there must be at least one NUMA node, so returning NUMA node zero. See more at https://github.com/torvalds/linux/blob/v6.0/Documentation/ABI/testing/sysfs-bus-pci#L344-L355\n",
      "2024-01-19 03:28:51.864374: I tensorflow/core/common_runtime/gpu/gpu_device.cc:1886] Created device /job:localhost/replica:0/task:0/device:GPU:0 with 9667 MB memory:  -> device: 0, name: NVIDIA GeForce RTX 3060, pci bus id: 0000:01:00.0, compute capability: 8.6\n"
     ]
    }
   ],
   "source": [
    "text_inputs = tf.keras.layers.Input(shape=(), dtype=tf.string)\n",
    "# TODO: reduce seq_length (128 is an overkill)\n",
    "# https://tfhub.dev/tensorflow/bert_multi_cased_preprocess/3\n",
    "# data_augmentation = ReplaceWithSynonims(ft_model)\n",
    "#tokenizer_inputs = data_augmentation(text_inputs)\n",
    "lowercase = tf.strings.lower(text_inputs)\n",
    "tokenizer_inputs = lowercase\n",
    "tokenizer = hub.KerasLayer(\n",
    "   \"https://tfhub.dev/tensorflow/bert_multi_cased_preprocess/3\",\n",
    "    #arguments={\"seq_length\": 32}\n",
    ")\n",
    "encoder_inputs = tokenizer(tokenizer_inputs)\n",
    "encoder = hub.KerasLayer(\n",
    "   \"https://tfhub.dev/tensorflow/bert_multi_cased_L-12_H-768_A-12/4\",\n",
    "    trainable=False\n",
    ")\n",
    "encoder_outputs = encoder(encoder_inputs)\n",
    "pooled_output = encoder_outputs[\"pooled_output\"]\n",
    "pooled_output = tf.keras.layers.GaussianNoise(0.1)(pooled_output)\n",
    "X = tf.keras.layers.Dense(settings.DEEPEST_LEVEL * settings.DEEPEST_LEVEL, activation=\"relu\")(pooled_output)\n",
    "X = tf.keras.layers.Dense(settings.DEEPEST_LEVEL * settings.DEEPEST_LEVEL, activation=\"relu\")(X)\n",
    "X = tf.keras.layers.Dense(settings.DEEPEST_LEVEL * settings.DEEPEST_LEVEL, activation=\"relu\")(X)\n",
    "X = tf.keras.layers.Dense(settings.DEEPEST_LEVEL * settings.DEEPEST_LEVEL, activation=\"relu\")(X)\n",
    "\n",
    "sequence_output = encoder_outputs[\"sequence_output\"]\n",
    "sequence_output = tf.keras.layers.GaussianNoise(0.1)(sequence_output)\n",
    "sequence_output = tf.keras.layers.Dropout(0.5)(sequence_output)\n",
    "sequence_output = tf.keras.layers.Conv1D(16, 3, padding=\"same\", kernel_regularizer=L2(1e-5))(sequence_output)\n",
    "sequence_output = tf.keras.layers.Conv1D(32, 3, padding=\"same\", kernel_regularizer=L2(1e-5))(sequence_output)\n",
    "sequence_output = tf.keras.layers.Conv1D(64, 3, padding=\"same\", kernel_regularizer=L2(1e-5))(sequence_output)\n",
    "sequence_output = tf.keras.layers.Conv1D(128, 3, padding=\"same\", kernel_regularizer=L2(1e-5))(sequence_output)\n",
    "sequence_output = tf.keras.layers.Conv1D(256, 3, padding=\"same\", kernel_regularizer=L2(1e-5))(sequence_output)\n",
    "sequence_output = tf.keras.layers.Flatten()(sequence_output)\n",
    "\n",
    "X = tf.keras.layers.Concatenate()([X, sequence_output])\n",
    "X = tf.keras.layers.Dropout(.5)(X)\n",
    "\n",
    "heads = []\n",
    "for level in range(settings.DEEPEST_LEVEL):\n",
    "    head = tf.keras.layers.Dense(\n",
    "        labels_conf[level][\"num_classes\"],\n",
    "        activation=\"softmax\",\n",
    "        name=f\"level_{level}\",\n",
    "        kernel_regularizer=L2(1e-5)\n",
    "    )(X)\n",
    "    X = tf.keras.layers.Concatenate()([X, head])\n",
    "    heads.append(head)\n",
    "\n",
    "model = tf.keras.Model(text_inputs, heads)"
   ]
  },
  {
   "cell_type": "code",
   "execution_count": 12,
   "metadata": {},
   "outputs": [],
   "source": [
    "def reshape_for_fit(*batch):\n",
    "    X = batch[0]\n",
    "    num_classes = len(batch) // 2\n",
    "    y = batch[1:num_classes + 1]\n",
    "    sample_weights = batch[num_classes + 1:]\n",
    "    return X, y, sample_weights\n",
    "\n",
    "def _calculate_sample_weights(targets):\n",
    "    sample_weights = [np.ones(len(targets[0])) for _ in range(settings.DEEPEST_LEVEL)]\n",
    "    for level in range(settings.DEEPEST_LEVEL):\n",
    "        unknown_label = labels_conf[level][\"num_classes\"] - 1\n",
    "        sample_weights[level][targets[level][:, unknown_label] == 1] = 0\n",
    "    return sample_weights\n",
    "\n",
    "def _create_dataset(data, targets, sample_weights, shuffle=True):\n",
    "    target_datasets = [tf.data.Dataset.from_tensor_slices(t).map(lambda x: tf.cast(x, tf.float32)) for t in targets]\n",
    "    sample_weight_datasets = [tf.data.Dataset.from_tensor_slices(w) for w in sample_weights]\n",
    "\n",
    "    dataset = tf.data.Dataset.zip(tf.data.Dataset.from_tensor_slices(data), *target_datasets, *sample_weight_datasets)\n",
    "\n",
    "    if shuffle:\n",
    "        dataset = dataset.shuffle(buffer_size=len(data))\n",
    "    return dataset.prefetch(tf.data.AUTOTUNE)\n",
    "\n",
    "def encode_label(label_ids, labels_table=labels):\n",
    "    one_hot = np.zeros(len(labels_table))\n",
    "    one_hot[label_ids] = 1\n",
    "    return one_hot\n",
    "\n",
    "def make_targets(data):\n",
    "    labels = data.drop(\"OcrValue\", axis=\"columns\")\n",
    "    targets = []\n",
    "    for level, col in zip(range(settings.DEEPEST_LEVEL), labels.columns):\n",
    "        level_targets = np.zeros((len(labels), labels_conf[level][\"num_classes\"]))\n",
    "        for i, label in enumerate(labels[col]):\n",
    "            level_targets[i, label] = 1\n",
    "        targets.append(level_targets.astype(np.float32))\n",
    "\n",
    "    return targets\n",
    "\n",
    "def create_balanced_dataset(data, ignore_unknown=False):\n",
    "    datasets = []\n",
    "    lengths = data.groupby(\"level_1\").count()[\"OcrValue\"]\n",
    "    groups = data.groupby(\"level_1\")\n",
    "    for _category, group in groups:\n",
    "        targets = make_targets(group)\n",
    "        if ignore_unknown:\n",
    "            sample_weights = _calculate_sample_weights(targets)\n",
    "        else:\n",
    "            sample_weights = [np.ones(len(group)) for _ in range(settings.DEEPEST_LEVEL)]\n",
    "        datasets.append(_create_dataset(group[\"OcrValue\"], targets, sample_weights=sample_weights))\n",
    "    return tf.data.Dataset.sample_from_datasets(datasets, stop_on_empty_dataset=True)\n",
    "\n",
    "def create_train_dataset(model, labelled_data, generated_data, unlabelled_data, batch_size):\n",
    "    verified_dataset = create_balanced_dataset(labelled_data)\n",
    "\n",
    "    if generated_data is not None:\n",
    "        generated_dataset = create_balanced_dataset(generated_data)\n",
    "        train_dataset = verified_dataset.concatenate(generated_dataset)\n",
    "    else:\n",
    "        train_dataset = verified_dataset\n",
    "\n",
    "    if unlabelled_data is not None:\n",
    "        unlabelled_sample = unlabelled_data.sample(n=len(labelled_data) // 10).values\n",
    "        unlabelled_targets = model.predict(unlabelled_sample, batch_size=batch_size * 8)\n",
    "        unlabelled_target_datasets = [tf.data.Dataset.from_tensor_slices(t) for t in unlabelled_targets]\n",
    "        unlabelled_sample_weight_datasets = [tf.data.Dataset.from_tensor_slices(np.ones(len(unlabelled_sample))) for _ in range(settings.DEEPEST_LEVEL)]\n",
    "        unlabelled_dataset = tf.data.Dataset.zip((tf.data.Dataset.from_tensor_slices(unlabelled_sample), *unlabelled_target_datasets, *unlabelled_sample_weight_datasets))\n",
    "        mixed_dataset = tf.data.Dataset.sample_from_datasets([train_dataset, unlabelled_dataset], stop_on_empty_dataset=True)\n",
    "    else:\n",
    "        mixed_dataset = train_dataset\n",
    "\n",
    "    return mixed_dataset.map(reshape_for_fit).shuffle(buffer_size=len(labelled_data)).batch(batch_size).prefetch(tf.data.AUTOTUNE)"
   ]
  },
  {
   "cell_type": "code",
   "execution_count": 13,
   "metadata": {},
   "outputs": [
    {
     "data": {
      "text/html": [
       "<div>\n",
       "<style scoped>\n",
       "    .dataframe tbody tr th:only-of-type {\n",
       "        vertical-align: middle;\n",
       "    }\n",
       "\n",
       "    .dataframe tbody tr th {\n",
       "        vertical-align: top;\n",
       "    }\n",
       "\n",
       "    .dataframe thead th {\n",
       "        text-align: right;\n",
       "    }\n",
       "</style>\n",
       "<table border=\"1\" class=\"dataframe\">\n",
       "  <thead>\n",
       "    <tr style=\"text-align: right;\">\n",
       "      <th></th>\n",
       "      <th>OcrValue</th>\n",
       "      <th>level_1</th>\n",
       "      <th>level_2</th>\n",
       "      <th>level_3</th>\n",
       "      <th>level_4</th>\n",
       "      <th>level_5</th>\n",
       "    </tr>\n",
       "  </thead>\n",
       "  <tbody>\n",
       "    <tr>\n",
       "      <th>0</th>\n",
       "      <td>combinado aperitivo</td>\n",
       "      <td>1</td>\n",
       "      <td>0</td>\n",
       "      <td>18</td>\n",
       "      <td>1</td>\n",
       "      <td>43</td>\n",
       "    </tr>\n",
       "    <tr>\n",
       "      <th>1</th>\n",
       "      <td>gel fructis style</td>\n",
       "      <td>3</td>\n",
       "      <td>1</td>\n",
       "      <td>0</td>\n",
       "      <td>2</td>\n",
       "      <td>2</td>\n",
       "    </tr>\n",
       "    <tr>\n",
       "      <th>2</th>\n",
       "      <td>sondey/maria original xx</td>\n",
       "      <td>1</td>\n",
       "      <td>0</td>\n",
       "      <td>10</td>\n",
       "      <td>0</td>\n",
       "      <td>0</td>\n",
       "    </tr>\n",
       "    <tr>\n",
       "      <th>3</th>\n",
       "      <td>gofres lotus lieja</td>\n",
       "      <td>1</td>\n",
       "      <td>0</td>\n",
       "      <td>12</td>\n",
       "      <td>0</td>\n",
       "      <td>43</td>\n",
       "    </tr>\n",
       "    <tr>\n",
       "      <th>4</th>\n",
       "      <td>amb. spray fresco</td>\n",
       "      <td>3</td>\n",
       "      <td>0</td>\n",
       "      <td>8</td>\n",
       "      <td>0</td>\n",
       "      <td>43</td>\n",
       "    </tr>\n",
       "    <tr>\n",
       "      <th>...</th>\n",
       "      <td>...</td>\n",
       "      <td>...</td>\n",
       "      <td>...</td>\n",
       "      <td>...</td>\n",
       "      <td>...</td>\n",
       "      <td>...</td>\n",
       "    </tr>\n",
       "    <tr>\n",
       "      <th>4828486</th>\n",
       "      <td>bayetas multius0</td>\n",
       "      <td>3</td>\n",
       "      <td>0</td>\n",
       "      <td>6</td>\n",
       "      <td>2</td>\n",
       "      <td>2</td>\n",
       "    </tr>\n",
       "    <tr>\n",
       "      <th>4828487</th>\n",
       "      <td>bayetas mul 1uso</td>\n",
       "      <td>3</td>\n",
       "      <td>0</td>\n",
       "      <td>6</td>\n",
       "      <td>2</td>\n",
       "      <td>2</td>\n",
       "    </tr>\n",
       "    <tr>\n",
       "      <th>4828488</th>\n",
       "      <td>bayetas nultiuso</td>\n",
       "      <td>3</td>\n",
       "      <td>0</td>\n",
       "      <td>6</td>\n",
       "      <td>2</td>\n",
       "      <td>2</td>\n",
       "    </tr>\n",
       "    <tr>\n",
       "      <th>4828489</th>\n",
       "      <td>ravetas multiuso</td>\n",
       "      <td>3</td>\n",
       "      <td>0</td>\n",
       "      <td>6</td>\n",
       "      <td>2</td>\n",
       "      <td>2</td>\n",
       "    </tr>\n",
       "    <tr>\n",
       "      <th>4828490</th>\n",
       "      <td>bayetas multhuso</td>\n",
       "      <td>3</td>\n",
       "      <td>0</td>\n",
       "      <td>6</td>\n",
       "      <td>2</td>\n",
       "      <td>2</td>\n",
       "    </tr>\n",
       "  </tbody>\n",
       "</table>\n",
       "<p>4828491 rows × 6 columns</p>\n",
       "</div>"
      ],
      "text/plain": [
       "                         OcrValue  level_1  level_2  level_3  level_4  level_5\n",
       "0             combinado aperitivo        1        0       18        1       43\n",
       "1               gel fructis style        3        1        0        2        2\n",
       "2        sondey/maria original xx        1        0       10        0        0\n",
       "3              gofres lotus lieja        1        0       12        0       43\n",
       "4               amb. spray fresco        3        0        8        0       43\n",
       "...                           ...      ...      ...      ...      ...      ...\n",
       "4828486          bayetas multius0        3        0        6        2        2\n",
       "4828487          bayetas mul 1uso        3        0        6        2        2\n",
       "4828488          bayetas nultiuso        3        0        6        2        2\n",
       "4828489          ravetas multiuso        3        0        6        2        2\n",
       "4828490          bayetas multhuso        3        0        6        2        2\n",
       "\n",
       "[4828491 rows x 6 columns]"
      ]
     },
     "execution_count": 13,
     "metadata": {},
     "output_type": "execute_result"
    }
   ],
   "source": [
    "train_data"
   ]
  },
  {
   "cell_type": "code",
   "execution_count": 14,
   "metadata": {},
   "outputs": [],
   "source": [
    "val_labels = make_targets(val_data)"
   ]
  },
  {
   "cell_type": "code",
   "execution_count": 15,
   "metadata": {},
   "outputs": [
    {
     "ename": "InterruptedError",
     "evalue": "Stop here",
     "output_type": "error",
     "traceback": [
      "\u001b[0;31m---------------------------------------------------------------------------\u001b[0m",
      "\u001b[0;31mInterruptedError\u001b[0m                          Traceback (most recent call last)",
      "Cell \u001b[0;32mIn[15], line 1\u001b[0m\n\u001b[0;32m----> 1\u001b[0m \u001b[38;5;28;01mraise\u001b[39;00m \u001b[38;5;167;01mInterruptedError\u001b[39;00m(\u001b[38;5;124m\"\u001b[39m\u001b[38;5;124mStop here\u001b[39m\u001b[38;5;124m\"\u001b[39m)\n",
      "\u001b[0;31mInterruptedError\u001b[0m: Stop here"
     ]
    }
   ],
   "source": [
    "raise InterruptedError(\"Stop here\")"
   ]
  },
  {
   "cell_type": "code",
   "execution_count": null,
   "metadata": {},
   "outputs": [
    {
     "name": "stderr",
     "output_type": "stream",
     "text": [
      "2024-01-12 01:10:52.838352: I tensorflow/core/kernels/data/shuffle_dataset_op.cc:422] ShuffleDatasetV3:36: Filling up shuffle buffer (this may take a while): 1169129 of 2221486\n",
      "2024-01-12 01:11:01.848778: I tensorflow/core/kernels/data/shuffle_dataset_op.cc:452] Shuffle buffer filled.\n",
      "2024-01-12 01:11:11.848973: I tensorflow/core/kernels/data/shuffle_dataset_op.cc:422] ShuffleDatasetV3:55: Filling up shuffle buffer (this may take a while): 1216593 of 1917780\n",
      "2024-01-12 01:11:18.314440: I tensorflow/core/kernels/data/shuffle_dataset_op.cc:452] Shuffle buffer filled.\n",
      "2024-01-12 01:11:24.033554: I tensorflow/core/kernels/data/shuffle_dataset_op.cc:422] ShuffleDatasetV3:100: Filling up shuffle buffer (this may take a while): 10 of 4828491\n",
      "2024-01-12 01:11:26.599118: I tensorflow/core/kernels/data/shuffle_dataset_op.cc:452] Shuffle buffer filled.\n",
      "2024-01-12 01:11:28.612791: I tensorflow/compiler/xla/stream_executor/cuda/cuda_dnn.cc:442] Loaded cuDNN version 8700\n",
      "2024-01-12 01:11:28.964641: I tensorflow/compiler/xla/service/service.cc:168] XLA service 0x7fa8e0179340 initialized for platform CUDA (this does not guarantee that XLA will be used). Devices:\n",
      "2024-01-12 01:11:28.964663: I tensorflow/compiler/xla/service/service.cc:176]   StreamExecutor device (0): NVIDIA GeForce RTX 3060, Compute Capability 8.6\n",
      "2024-01-12 01:11:28.974001: I tensorflow/compiler/mlir/tensorflow/utils/dump_mlir_util.cc:269] disabling MLIR crash reproducer, set env var `MLIR_CRASH_REPRODUCER_DIRECTORY` to enable.\n",
      "2024-01-12 01:11:29.049330: I ./tensorflow/compiler/jit/device_compiler.h:186] Compiled cluster using XLA!  This line is logged at most once for the lifetime of the process.\n"
     ]
    },
    {
     "name": "stdout",
     "output_type": "stream",
     "text": [
      "      5/Unknown - 63s 327ms/step - loss: 16.2064 - level_0_loss: 1.9975 - level_1_loss: 2.5914 - level_2_loss: 3.4422 - level_3_loss: 4.1580 - level_4_loss: 4.0112 - level_0_precision: 0.0000e+00 - level_1_precision: 0.0000e+00 - level_2_precision: 0.0000e+00 - level_3_precision: 0.0000e+00 - level_4_precision: 0.0000e+00"
     ]
    },
    {
     "name": "stderr",
     "output_type": "stream",
     "text": [
      "2024-01-12 01:11:35.626552: I tensorflow/core/framework/local_rendezvous.cc:421] Local rendezvous recv item cancelled. Key hash: 16388047199294386396\n",
      "2024-01-12 01:11:35.626579: I tensorflow/core/framework/local_rendezvous.cc:421] Local rendezvous recv item cancelled. Key hash: 13962787879389757952\n",
      "2024-01-12 01:11:35.626588: I tensorflow/core/framework/local_rendezvous.cc:421] Local rendezvous recv item cancelled. Key hash: 18084907532210406500\n",
      "2024-01-12 01:11:35.626595: I tensorflow/core/framework/local_rendezvous.cc:421] Local rendezvous recv item cancelled. Key hash: 3081856177733698976\n",
      "2024-01-12 01:11:35.626602: I tensorflow/core/framework/local_rendezvous.cc:421] Local rendezvous recv item cancelled. Key hash: 9589873591851607678\n",
      "2024-01-12 01:11:35.626609: I tensorflow/core/framework/local_rendezvous.cc:421] Local rendezvous recv item cancelled. Key hash: 11241466177732515798\n",
      "2024-01-12 01:11:35.626615: I tensorflow/core/framework/local_rendezvous.cc:421] Local rendezvous recv item cancelled. Key hash: 6678318734239504698\n",
      "2024-01-12 01:11:35.626622: I tensorflow/core/framework/local_rendezvous.cc:421] Local rendezvous recv item cancelled. Key hash: 7369481494700590230\n",
      "2024-01-12 01:11:35.626630: I tensorflow/core/framework/local_rendezvous.cc:421] Local rendezvous recv item cancelled. Key hash: 12086183398594284642\n",
      "2024-01-12 01:11:35.626639: I tensorflow/core/framework/local_rendezvous.cc:421] Local rendezvous recv item cancelled. Key hash: 12311403910980693414\n",
      "2024-01-12 01:11:35.626647: I tensorflow/core/framework/local_rendezvous.cc:421] Local rendezvous recv item cancelled. Key hash: 17316205269920509384\n",
      "2024-01-12 01:11:35.626655: I tensorflow/core/framework/local_rendezvous.cc:421] Local rendezvous recv item cancelled. Key hash: 11353696237618789992\n",
      "2024-01-12 01:11:35.626665: I tensorflow/core/framework/local_rendezvous.cc:421] Local rendezvous recv item cancelled. Key hash: 16817699349029446617\n",
      "2024-01-12 01:11:35.626684: I tensorflow/core/framework/local_rendezvous.cc:421] Local rendezvous recv item cancelled. Key hash: 952459734685328295\n",
      "2024-01-12 01:11:35.626694: I tensorflow/core/framework/local_rendezvous.cc:421] Local rendezvous recv item cancelled. Key hash: 10601867199628739425\n",
      "2024-01-12 01:11:35.626704: I tensorflow/core/framework/local_rendezvous.cc:421] Local rendezvous recv item cancelled. Key hash: 11614649435581241361\n",
      "2024-01-12 01:11:35.626713: I tensorflow/core/framework/local_rendezvous.cc:421] Local rendezvous recv item cancelled. Key hash: 7642940755303625517\n",
      "2024-01-12 01:11:35.626723: I tensorflow/core/framework/local_rendezvous.cc:421] Local rendezvous recv item cancelled. Key hash: 13005381467907250897\n",
      "2024-01-12 01:11:35.626732: I tensorflow/core/framework/local_rendezvous.cc:421] Local rendezvous recv item cancelled. Key hash: 16228819253573811229\n",
      "2024-01-12 01:11:35.626746: I tensorflow/core/framework/local_rendezvous.cc:421] Local rendezvous recv item cancelled. Key hash: 18082298508904627999\n"
     ]
    },
    {
     "name": "stdout",
     "output_type": "stream",
     "text": [
      "5/5 [==============================] - 4012s 988s/step - loss: 16.2064 - level_0_loss: 1.9975 - level_1_loss: 2.5914 - level_2_loss: 3.4422 - level_3_loss: 4.1580 - level_4_loss: 4.0112 - level_0_precision: 0.0000e+00 - level_1_precision: 0.0000e+00 - level_2_precision: 0.0000e+00 - level_3_precision: 0.0000e+00 - level_4_precision: 0.0000e+00 - val_loss: 15.0612 - val_level_0_loss: 1.8189 - val_level_1_loss: 2.4475 - val_level_2_loss: 3.2655 - val_level_3_loss: 3.8259 - val_level_4_loss: 3.6973 - val_level_0_precision: 0.8182 - val_level_1_precision: 0.0000e+00 - val_level_2_precision: 0.0000e+00 - val_level_3_precision: 0.0000e+00 - val_level_4_precision: 0.0000e+00\n",
      "Epoch 0\n"
     ]
    },
    {
     "name": "stderr",
     "output_type": "stream",
     "text": [
      "2024-01-12 02:17:34.503174: I tensorflow/core/kernels/data/shuffle_dataset_op.cc:422] ShuffleDatasetV3:36: Filling up shuffle buffer (this may take a while): 1287268 of 2221486\n",
      "2024-01-12 02:17:41.822499: I tensorflow/core/kernels/data/shuffle_dataset_op.cc:452] Shuffle buffer filled.\n",
      "2024-01-12 02:17:51.822730: I tensorflow/core/kernels/data/shuffle_dataset_op.cc:422] ShuffleDatasetV3:55: Filling up shuffle buffer (this may take a while): 1295947 of 1917780\n",
      "2024-01-12 02:17:56.776181: I tensorflow/core/kernels/data/shuffle_dataset_op.cc:452] Shuffle buffer filled.\n",
      "2024-01-12 02:18:04.167153: I tensorflow/core/kernels/data/shuffle_dataset_op.cc:452] Shuffle buffer filled.\n"
     ]
    },
    {
     "name": "stdout",
     "output_type": "stream",
     "text": [
      "      5/Unknown - 41s 201ms/step - loss: 15.5284 - level_0_loss: 1.9326 - level_1_loss: 2.5630 - level_2_loss: 3.2924 - level_3_loss: 4.0012 - level_4_loss: 3.7331 - level_0_precision: 0.2727 - level_1_precision: 0.0000e+00 - level_2_precision: 0.0000e+00 - level_3_precision: 0.0000e+00 - level_4_precision: 0.0000e+00   "
     ]
    },
    {
     "name": "stderr",
     "output_type": "stream",
     "text": [
      "2024-01-12 02:18:05.202884: I tensorflow/core/framework/local_rendezvous.cc:421] Local rendezvous recv item cancelled. Key hash: 16388047199294386396\n",
      "2024-01-12 02:18:05.202928: I tensorflow/core/framework/local_rendezvous.cc:421] Local rendezvous recv item cancelled. Key hash: 13962787879389757952\n",
      "2024-01-12 02:18:05.202946: I tensorflow/core/framework/local_rendezvous.cc:421] Local rendezvous recv item cancelled. Key hash: 18084907532210406500\n",
      "2024-01-12 02:18:05.202961: I tensorflow/core/framework/local_rendezvous.cc:421] Local rendezvous recv item cancelled. Key hash: 3081856177733698976\n",
      "2024-01-12 02:18:05.202976: I tensorflow/core/framework/local_rendezvous.cc:421] Local rendezvous recv item cancelled. Key hash: 9589873591851607678\n",
      "2024-01-12 02:18:05.202990: I tensorflow/core/framework/local_rendezvous.cc:421] Local rendezvous recv item cancelled. Key hash: 11241466177732515798\n",
      "2024-01-12 02:18:05.203004: I tensorflow/core/framework/local_rendezvous.cc:421] Local rendezvous recv item cancelled. Key hash: 6678318734239504698\n",
      "2024-01-12 02:18:05.203018: I tensorflow/core/framework/local_rendezvous.cc:421] Local rendezvous recv item cancelled. Key hash: 17316205269920509384\n",
      "2024-01-12 02:18:05.203032: I tensorflow/core/framework/local_rendezvous.cc:421] Local rendezvous recv item cancelled. Key hash: 12311403910980693414\n",
      "2024-01-12 02:18:05.203045: I tensorflow/core/framework/local_rendezvous.cc:421] Local rendezvous recv item cancelled. Key hash: 11353696237618789992\n",
      "2024-01-12 02:18:05.203061: I tensorflow/core/framework/local_rendezvous.cc:421] Local rendezvous recv item cancelled. Key hash: 16817699349029446617\n",
      "2024-01-12 02:18:05.203075: I tensorflow/core/framework/local_rendezvous.cc:421] Local rendezvous recv item cancelled. Key hash: 952459734685328295\n",
      "2024-01-12 02:18:05.203089: I tensorflow/core/framework/local_rendezvous.cc:421] Local rendezvous recv item cancelled. Key hash: 7642940755303625517\n",
      "2024-01-12 02:18:05.203108: I tensorflow/core/framework/local_rendezvous.cc:421] Local rendezvous recv item cancelled. Key hash: 11614649435581241361\n",
      "2024-01-12 02:18:05.203123: I tensorflow/core/framework/local_rendezvous.cc:421] Local rendezvous recv item cancelled. Key hash: 7369481494700590230\n",
      "2024-01-12 02:18:05.203175: I tensorflow/core/framework/local_rendezvous.cc:421] Local rendezvous recv item cancelled. Key hash: 12086183398594284642\n",
      "2024-01-12 02:18:05.203207: I tensorflow/core/framework/local_rendezvous.cc:421] Local rendezvous recv item cancelled. Key hash: 10601867199628739425\n",
      "2024-01-12 02:18:05.203248: I tensorflow/core/framework/local_rendezvous.cc:421] Local rendezvous recv item cancelled. Key hash: 13005381467907250897\n",
      "2024-01-12 02:18:05.203265: I tensorflow/core/framework/local_rendezvous.cc:421] Local rendezvous recv item cancelled. Key hash: 16228819253573811229\n",
      "2024-01-12 02:18:05.203279: I tensorflow/core/framework/local_rendezvous.cc:421] Local rendezvous recv item cancelled. Key hash: 18082298508904627999\n"
     ]
    },
    {
     "name": "stdout",
     "output_type": "stream",
     "text": [
      "5/5 [==============================] - 3915s 969s/step - loss: 15.5284 - level_0_loss: 1.9326 - level_1_loss: 2.5630 - level_2_loss: 3.2924 - level_3_loss: 4.0012 - level_4_loss: 3.7331 - level_0_precision: 0.2727 - level_1_precision: 0.0000e+00 - level_2_precision: 0.0000e+00 - level_3_precision: 0.0000e+00 - level_4_precision: 0.0000e+00 - val_loss: 14.5287 - val_level_0_loss: 1.7748 - val_level_1_loss: 2.3995 - val_level_2_loss: 3.2267 - val_level_3_loss: 3.6466 - val_level_4_loss: 3.4749 - val_level_0_precision: 0.9000 - val_level_1_precision: 0.0000e+00 - val_level_2_precision: 0.0000e+00 - val_level_3_precision: 0.0000e+00 - val_level_4_precision: 0.0000e+00\n",
      "Epoch 1\n"
     ]
    },
    {
     "name": "stderr",
     "output_type": "stream",
     "text": [
      "2024-01-12 03:22:49.953712: I tensorflow/core/kernels/data/shuffle_dataset_op.cc:422] ShuffleDatasetV3:36: Filling up shuffle buffer (this may take a while): 1301347 of 2221486\n",
      "2024-01-12 03:22:57.218391: I tensorflow/core/kernels/data/shuffle_dataset_op.cc:452] Shuffle buffer filled.\n",
      "2024-01-12 03:23:07.218640: I tensorflow/core/kernels/data/shuffle_dataset_op.cc:422] ShuffleDatasetV3:55: Filling up shuffle buffer (this may take a while): 1278965 of 1917780\n",
      "2024-01-12 03:23:12.226386: I tensorflow/core/kernels/data/shuffle_dataset_op.cc:452] Shuffle buffer filled.\n",
      "2024-01-12 03:23:19.466652: I tensorflow/core/kernels/data/shuffle_dataset_op.cc:452] Shuffle buffer filled.\n"
     ]
    },
    {
     "name": "stdout",
     "output_type": "stream",
     "text": [
      "      5/Unknown - 41s 196ms/step - loss: 15.0814 - level_0_loss: 1.8873 - level_1_loss: 2.5690 - level_2_loss: 3.4057 - level_3_loss: 3.7298 - level_4_loss: 3.4834 - level_0_precision: 0.0000e+00 - level_1_precision: 0.0000e+00 - level_2_precision: 0.0000e+00 - level_3_precision: 0.0000e+00 - level_4_precision: 0.0000e+00"
     ]
    },
    {
     "name": "stderr",
     "output_type": "stream",
     "text": [
      "2024-01-12 03:23:20.486195: I tensorflow/core/framework/local_rendezvous.cc:421] Local rendezvous recv item cancelled. Key hash: 16388047199294386396\n",
      "2024-01-12 03:23:20.486257: I tensorflow/core/framework/local_rendezvous.cc:421] Local rendezvous recv item cancelled. Key hash: 13962787879389757952\n",
      "2024-01-12 03:23:20.486289: I tensorflow/core/framework/local_rendezvous.cc:421] Local rendezvous recv item cancelled. Key hash: 3081856177733698976\n",
      "2024-01-12 03:23:20.486316: I tensorflow/core/framework/local_rendezvous.cc:421] Local rendezvous recv item cancelled. Key hash: 9589873591851607678\n",
      "2024-01-12 03:23:20.486342: I tensorflow/core/framework/local_rendezvous.cc:421] Local rendezvous recv item cancelled. Key hash: 11241466177732515798\n",
      "2024-01-12 03:23:20.486369: I tensorflow/core/framework/local_rendezvous.cc:421] Local rendezvous recv item cancelled. Key hash: 6678318734239504698\n",
      "2024-01-12 03:23:20.486428: I tensorflow/core/framework/local_rendezvous.cc:421] Local rendezvous recv item cancelled. Key hash: 18084907532210406500\n",
      "2024-01-12 03:23:20.486456: I tensorflow/core/framework/local_rendezvous.cc:421] Local rendezvous recv item cancelled. Key hash: 7369481494700590230\n",
      "2024-01-12 03:23:20.486476: I tensorflow/core/framework/local_rendezvous.cc:421] Local rendezvous recv item cancelled. Key hash: 12086183398594284642\n",
      "2024-01-12 03:23:20.486533: I tensorflow/core/framework/local_rendezvous.cc:421] Local rendezvous recv item cancelled. Key hash: 12311403910980693414\n",
      "2024-01-12 03:23:20.486564: I tensorflow/core/framework/local_rendezvous.cc:421] Local rendezvous recv item cancelled. Key hash: 17316205269920509384\n",
      "2024-01-12 03:23:20.486599: I tensorflow/core/framework/local_rendezvous.cc:421] Local rendezvous recv item cancelled. Key hash: 11353696237618789992\n",
      "2024-01-12 03:23:20.486674: I tensorflow/core/framework/local_rendezvous.cc:421] Local rendezvous recv item cancelled. Key hash: 16817699349029446617\n",
      "2024-01-12 03:23:20.486728: I tensorflow/core/framework/local_rendezvous.cc:421] Local rendezvous recv item cancelled. Key hash: 7642940755303625517\n",
      "2024-01-12 03:23:20.486763: I tensorflow/core/framework/local_rendezvous.cc:421] Local rendezvous recv item cancelled. Key hash: 10601867199628739425\n",
      "2024-01-12 03:23:20.486792: I tensorflow/core/framework/local_rendezvous.cc:421] Local rendezvous recv item cancelled. Key hash: 11614649435581241361\n",
      "2024-01-12 03:23:20.486829: I tensorflow/core/framework/local_rendezvous.cc:421] Local rendezvous recv item cancelled. Key hash: 952459734685328295\n",
      "2024-01-12 03:23:20.486864: I tensorflow/core/framework/local_rendezvous.cc:421] Local rendezvous recv item cancelled. Key hash: 13005381467907250897\n",
      "2024-01-12 03:23:20.486896: I tensorflow/core/framework/local_rendezvous.cc:421] Local rendezvous recv item cancelled. Key hash: 16228819253573811229\n",
      "2024-01-12 03:23:20.486949: I tensorflow/core/framework/local_rendezvous.cc:421] Local rendezvous recv item cancelled. Key hash: 18082298508904627999\n"
     ]
    },
    {
     "name": "stdout",
     "output_type": "stream",
     "text": [
      "5/5 [==============================] - 3905s 966s/step - loss: 15.0814 - level_0_loss: 1.8873 - level_1_loss: 2.5690 - level_2_loss: 3.4057 - level_3_loss: 3.7298 - level_4_loss: 3.4834 - level_0_precision: 0.0000e+00 - level_1_precision: 0.0000e+00 - level_2_precision: 0.0000e+00 - level_3_precision: 0.0000e+00 - level_4_precision: 0.0000e+00 - val_loss: 14.0165 - val_level_0_loss: 1.7426 - val_level_1_loss: 2.3618 - val_level_2_loss: 3.1864 - val_level_3_loss: 3.4707 - val_level_4_loss: 3.2489 - val_level_0_precision: 0.6000 - val_level_1_precision: 0.0000e+00 - val_level_2_precision: 0.0000e+00 - val_level_3_precision: 0.0000e+00 - val_level_4_precision: 0.0000e+00\n",
      "Epoch 2\n"
     ]
    },
    {
     "name": "stderr",
     "output_type": "stream",
     "text": [
      "2024-01-12 04:27:54.999932: I tensorflow/core/kernels/data/shuffle_dataset_op.cc:422] ShuffleDatasetV3:36: Filling up shuffle buffer (this may take a while): 1309403 of 2221486\n",
      "2024-01-12 04:28:02.436927: I tensorflow/core/kernels/data/shuffle_dataset_op.cc:452] Shuffle buffer filled.\n",
      "2024-01-12 04:28:12.437119: I tensorflow/core/kernels/data/shuffle_dataset_op.cc:422] ShuffleDatasetV3:55: Filling up shuffle buffer (this may take a while): 1292551 of 1917780\n",
      "2024-01-12 04:28:17.472427: I tensorflow/core/kernels/data/shuffle_dataset_op.cc:452] Shuffle buffer filled.\n",
      "2024-01-12 04:28:24.823106: I tensorflow/core/kernels/data/shuffle_dataset_op.cc:452] Shuffle buffer filled.\n"
     ]
    },
    {
     "name": "stdout",
     "output_type": "stream",
     "text": [
      "      5/Unknown - 41s 200ms/step - loss: 14.4842 - level_0_loss: 1.8854 - level_1_loss: 2.4170 - level_2_loss: 3.2805 - level_3_loss: 3.5184 - level_4_loss: 3.3767 - level_0_precision: 0.0000e+00 - level_1_precision: 0.0000e+00 - level_2_precision: 0.0000e+00 - level_3_precision: 0.0000e+00 - level_4_precision: 0.0000e+00"
     ]
    },
    {
     "name": "stderr",
     "output_type": "stream",
     "text": [
      "2024-01-12 04:28:25.844407: I tensorflow/core/framework/local_rendezvous.cc:421] Local rendezvous recv item cancelled. Key hash: 16388047199294386396\n",
      "2024-01-12 04:28:25.844437: I tensorflow/core/framework/local_rendezvous.cc:421] Local rendezvous recv item cancelled. Key hash: 10601867199628739425\n",
      "2024-01-12 04:28:25.844455: I tensorflow/core/framework/local_rendezvous.cc:421] Local rendezvous recv item cancelled. Key hash: 13962787879389757952\n",
      "2024-01-12 04:28:25.844467: I tensorflow/core/framework/local_rendezvous.cc:421] Local rendezvous recv item cancelled. Key hash: 952459734685328295\n",
      "2024-01-12 04:28:25.844486: I tensorflow/core/framework/local_rendezvous.cc:421] Local rendezvous recv item cancelled. Key hash: 16817699349029446617\n",
      "2024-01-12 04:28:25.844494: I tensorflow/core/framework/local_rendezvous.cc:421] Local rendezvous recv item cancelled. Key hash: 11614649435581241361\n",
      "2024-01-12 04:28:25.844501: I tensorflow/core/framework/local_rendezvous.cc:421] Local rendezvous recv item cancelled. Key hash: 7642940755303625517\n",
      "2024-01-12 04:28:25.844508: I tensorflow/core/framework/local_rendezvous.cc:421] Local rendezvous recv item cancelled. Key hash: 13005381467907250897\n",
      "2024-01-12 04:28:25.844514: I tensorflow/core/framework/local_rendezvous.cc:421] Local rendezvous recv item cancelled. Key hash: 16228819253573811229\n",
      "2024-01-12 04:28:25.844520: I tensorflow/core/framework/local_rendezvous.cc:421] Local rendezvous recv item cancelled. Key hash: 18084907532210406500\n",
      "2024-01-12 04:28:25.844537: I tensorflow/core/framework/local_rendezvous.cc:421] Local rendezvous recv item cancelled. Key hash: 3081856177733698976\n",
      "2024-01-12 04:28:25.844547: I tensorflow/core/framework/local_rendezvous.cc:421] Local rendezvous recv item cancelled. Key hash: 9589873591851607678\n",
      "2024-01-12 04:28:25.844557: I tensorflow/core/framework/local_rendezvous.cc:421] Local rendezvous recv item cancelled. Key hash: 11241466177732515798\n",
      "2024-01-12 04:28:25.844566: I tensorflow/core/framework/local_rendezvous.cc:421] Local rendezvous recv item cancelled. Key hash: 18082298508904627999\n",
      "2024-01-12 04:28:25.844609: I tensorflow/core/framework/local_rendezvous.cc:421] Local rendezvous recv item cancelled. Key hash: 6678318734239504698\n",
      "2024-01-12 04:28:25.844622: I tensorflow/core/framework/local_rendezvous.cc:421] Local rendezvous recv item cancelled. Key hash: 7369481494700590230\n",
      "2024-01-12 04:28:25.844632: I tensorflow/core/framework/local_rendezvous.cc:421] Local rendezvous recv item cancelled. Key hash: 12086183398594284642\n",
      "2024-01-12 04:28:25.844641: I tensorflow/core/framework/local_rendezvous.cc:421] Local rendezvous recv item cancelled. Key hash: 17316205269920509384\n",
      "2024-01-12 04:28:25.844651: I tensorflow/core/framework/local_rendezvous.cc:421] Local rendezvous recv item cancelled. Key hash: 12311403910980693414\n",
      "2024-01-12 04:28:25.844660: I tensorflow/core/framework/local_rendezvous.cc:421] Local rendezvous recv item cancelled. Key hash: 11353696237618789992\n"
     ]
    },
    {
     "name": "stdout",
     "output_type": "stream",
     "text": [
      "5/5 [==============================] - 3908s 967s/step - loss: 14.4842 - level_0_loss: 1.8854 - level_1_loss: 2.4170 - level_2_loss: 3.2805 - level_3_loss: 3.5184 - level_4_loss: 3.3767 - level_0_precision: 0.0000e+00 - level_1_precision: 0.0000e+00 - level_2_precision: 0.0000e+00 - level_3_precision: 0.0000e+00 - level_4_precision: 0.0000e+00 - val_loss: 13.4814 - val_level_0_loss: 1.7093 - val_level_1_loss: 2.3276 - val_level_2_loss: 3.1497 - val_level_3_loss: 3.2861 - val_level_4_loss: 3.0027 - val_level_0_precision: 0.4130 - val_level_1_precision: 0.0000e+00 - val_level_2_precision: 0.0000e+00 - val_level_3_precision: 0.0000e+00 - val_level_4_precision: 0.0000e+00\n"
     ]
    },
    {
     "name": "stderr",
     "output_type": "stream",
     "text": [
      "/home/julius/lp/algori/retrain_bert/venv/lib/python3.11/site-packages/keras/src/engine/training.py:3079: UserWarning: You are saving your model as an HDF5 file via `model.save()`. This file format is considered legacy. We recommend using instead the native Keras format, e.g. `model.save('my_model.keras')`.\n",
      "  saving_api.save_model(\n"
     ]
    }
   ],
   "source": [
    "ds = create_train_dataset(model, train_data, None, unlabelled_data=None, batch_size=64)\n",
    "\n",
    "model.compile(\n",
    "    optimizer=tf.keras.optimizers.Adam(learning_rate=1e-5),\n",
    "    loss=\"categorical_crossentropy\",\n",
    "    metrics=[\"accuracy\"]\n",
    ")\n",
    "\n",
    "model.fit(ds, epochs=1, validation_data=(val_data.OcrValue, val_labels))\n",
    "\n",
    "for epoch in range(3):\n",
    "    print(f\"Epoch {epoch}\")\n",
    "    model.fit(ds, epochs=1, validation_data=(val_data.OcrValue, val_labels))\n",
    "model.save(settings.PROJECT_DIR / \"models/bert_finetuned.h5\")"
   ]
  },
  {
   "cell_type": "code",
   "execution_count": 16,
   "metadata": {},
   "outputs": [],
   "source": [
    "model.load_weights(settings.PROJECT_DIR / \"models/bert_1705614238.350094.keras\")"
   ]
  },
  {
   "cell_type": "code",
   "execution_count": 17,
   "metadata": {},
   "outputs": [
    {
     "name": "stdout",
     "output_type": "stream",
     "text": [
      "Epoch 0\n"
     ]
    },
    {
     "name": "stderr",
     "output_type": "stream",
     "text": [
      "ERROR:absl:hub.KerasLayer is trainable but has zero trainable weights.\n",
      "2024-01-19 03:58:46.733067: I tensorflow/compiler/xla/stream_executor/cuda/cuda_dnn.cc:442] Loaded cuDNN version 8700\n"
     ]
    },
    {
     "name": "stdout",
     "output_type": "stream",
     "text": [
      "1887/1887 [==============================] - 4594s 2s/step\n"
     ]
    },
    {
     "name": "stderr",
     "output_type": "stream",
     "text": [
      "2024-01-19 05:15:51.897516: I tensorflow/core/kernels/data/shuffle_dataset_op.cc:422] ShuffleDatasetV3:36: Filling up shuffle buffer (this may take a while): 1310091 of 2221486\n",
      "2024-01-19 05:15:59.058155: I tensorflow/core/kernels/data/shuffle_dataset_op.cc:452] Shuffle buffer filled.\n",
      "2024-01-19 05:16:03.037201: I tensorflow/core/kernels/data/shuffle_dataset_op.cc:422] ShuffleDatasetV3:132: Filling up shuffle buffer (this may take a while): 13 of 4828491\n",
      "2024-01-19 05:16:13.037333: I tensorflow/core/kernels/data/shuffle_dataset_op.cc:422] ShuffleDatasetV3:55: Filling up shuffle buffer (this may take a while): 1296578 of 1917780\n",
      "2024-01-19 05:16:18.032639: I tensorflow/core/kernels/data/shuffle_dataset_op.cc:452] Shuffle buffer filled.\n",
      "2024-01-19 05:16:20.430031: I tensorflow/core/kernels/data/shuffle_dataset_op.cc:452] Shuffle buffer filled.\n",
      "2024-01-19 05:16:21.415173: I tensorflow/compiler/xla/service/service.cc:168] XLA service 0x7f6a680f0740 initialized for platform CUDA (this does not guarantee that XLA will be used). Devices:\n",
      "2024-01-19 05:16:21.415194: I tensorflow/compiler/xla/service/service.cc:176]   StreamExecutor device (0): NVIDIA GeForce RTX 3060, Compute Capability 8.6\n",
      "2024-01-19 05:16:21.422436: I tensorflow/compiler/mlir/tensorflow/utils/dump_mlir_util.cc:269] disabling MLIR crash reproducer, set env var `MLIR_CRASH_REPRODUCER_DIRECTORY` to enable.\n",
      "2024-01-19 05:16:21.495301: I ./tensorflow/compiler/jit/device_compiler.h:186] Compiled cluster using XLA!  This line is logged at most once for the lifetime of the process.\n"
     ]
    },
    {
     "name": "stdout",
     "output_type": "stream",
     "text": [
      "10/10 [==============================] - 84s 650ms/step - loss: 9.1913 - level_0_loss: 1.3573 - level_1_loss: 1.8246 - level_2_loss: 2.6099 - level_3_loss: 1.9313 - level_4_loss: 1.4620 - level_0_accuracy: 0.3477 - level_1_accuracy: 0.6060 - level_2_accuracy: 0.3377 - level_3_accuracy: 0.6358 - level_4_accuracy: 0.8377\n"
     ]
    },
    {
     "name": "stderr",
     "output_type": "stream",
     "text": [
      "2024-01-19 05:16:43.383092: I tensorflow/core/framework/local_rendezvous.cc:421] Local rendezvous recv item cancelled. Key hash: 357991655568445794\n",
      "2024-01-19 05:16:43.383124: I tensorflow/core/framework/local_rendezvous.cc:421] Local rendezvous recv item cancelled. Key hash: 14045915274136282206\n",
      "2024-01-19 05:16:43.383141: I tensorflow/core/framework/local_rendezvous.cc:421] Local rendezvous recv item cancelled. Key hash: 4412841268327032716\n",
      "2024-01-19 05:16:43.383150: I tensorflow/core/framework/local_rendezvous.cc:421] Local rendezvous recv item cancelled. Key hash: 1546593457043882003\n",
      "2024-01-19 05:16:43.383158: I tensorflow/core/framework/local_rendezvous.cc:421] Local rendezvous recv item cancelled. Key hash: 18168589636988814941\n",
      "2024-01-19 05:16:43.383165: I tensorflow/core/framework/local_rendezvous.cc:421] Local rendezvous recv item cancelled. Key hash: 16858714891071157905\n",
      "2024-01-19 05:16:43.383172: I tensorflow/core/framework/local_rendezvous.cc:421] Local rendezvous recv item cancelled. Key hash: 16707998802403719353\n",
      "2024-01-19 05:16:43.383181: I tensorflow/core/framework/local_rendezvous.cc:421] Local rendezvous recv item cancelled. Key hash: 180566545981184413\n",
      "2024-01-19 05:16:43.383190: I tensorflow/core/framework/local_rendezvous.cc:421] Local rendezvous recv item cancelled. Key hash: 12374973695613573759\n",
      "2024-01-19 05:16:43.383198: I tensorflow/core/framework/local_rendezvous.cc:421] Local rendezvous recv item cancelled. Key hash: 13966163948189965749\n",
      "2024-01-19 05:16:43.383205: I tensorflow/core/framework/local_rendezvous.cc:421] Local rendezvous recv item cancelled. Key hash: 17994347524521169472\n",
      "2024-01-19 05:16:43.383232: I tensorflow/core/framework/local_rendezvous.cc:421] Local rendezvous recv item cancelled. Key hash: 11756340917554525022\n",
      "2024-01-19 05:16:43.383246: I tensorflow/core/framework/local_rendezvous.cc:421] Local rendezvous recv item cancelled. Key hash: 12055204088903910314\n",
      "2024-01-19 05:16:43.383257: I tensorflow/core/framework/local_rendezvous.cc:421] Local rendezvous recv item cancelled. Key hash: 2020002007975390861\n",
      "2024-01-19 05:16:43.383275: I tensorflow/core/framework/local_rendezvous.cc:421] Local rendezvous recv item cancelled. Key hash: 2099277232661902144\n",
      "2024-01-19 05:16:43.383291: I tensorflow/core/framework/local_rendezvous.cc:421] Local rendezvous recv item cancelled. Key hash: 9488858533282417314\n",
      "2024-01-19 05:16:43.383305: I tensorflow/core/framework/local_rendezvous.cc:421] Local rendezvous recv item cancelled. Key hash: 1057999654025124650\n",
      "2024-01-19 05:16:43.383317: I tensorflow/core/framework/local_rendezvous.cc:421] Local rendezvous recv item cancelled. Key hash: 296867503505141580\n",
      "2024-01-19 05:16:43.383371: I tensorflow/core/framework/local_rendezvous.cc:421] Local rendezvous recv item cancelled. Key hash: 10209810047070343149\n"
     ]
    },
    {
     "name": "stdout",
     "output_type": "stream",
     "text": [
      "Epoch 1\n",
      "1887/1887 [==============================] - 4595s 2s/step\n"
     ]
    },
    {
     "name": "stderr",
     "output_type": "stream",
     "text": [
      "2024-01-19 06:33:49.724223: I tensorflow/core/kernels/data/shuffle_dataset_op.cc:422] ShuffleDatasetV3:193: Filling up shuffle buffer (this may take a while): 1316244 of 1917780\n",
      "2024-01-19 06:33:54.378775: I tensorflow/core/kernels/data/shuffle_dataset_op.cc:452] Shuffle buffer filled.\n",
      "2024-01-19 06:34:04.379387: I tensorflow/core/kernels/data/shuffle_dataset_op.cc:422] ShuffleDatasetV3:174: Filling up shuffle buffer (this may take a while): 1317653 of 2221486\n",
      "2024-01-19 06:34:11.319574: I tensorflow/core/kernels/data/shuffle_dataset_op.cc:452] Shuffle buffer filled.\n",
      "2024-01-19 06:34:13.720520: I tensorflow/core/kernels/data/shuffle_dataset_op.cc:452] Shuffle buffer filled.\n"
     ]
    },
    {
     "name": "stdout",
     "output_type": "stream",
     "text": [
      "12/12 [==============================] - 49s 880ms/step - loss: 9.6066 - level_0_loss: 1.3681 - level_1_loss: 1.8403 - level_2_loss: 2.7037 - level_3_loss: 2.0492 - level_4_loss: 1.6389 - level_0_accuracy: 0.3919 - level_1_accuracy: 0.5811 - level_2_accuracy: 0.3676 - level_3_accuracy: 0.5649 - level_4_accuracy: 0.7703\n"
     ]
    },
    {
     "name": "stderr",
     "output_type": "stream",
     "text": [
      "2024-01-19 06:34:23.998368: I tensorflow/core/framework/local_rendezvous.cc:421] Local rendezvous recv item cancelled. Key hash: 17994347524521169472\n",
      "2024-01-19 06:34:23.998402: I tensorflow/core/framework/local_rendezvous.cc:421] Local rendezvous recv item cancelled. Key hash: 2099277232661902144\n",
      "2024-01-19 06:34:23.998424: I tensorflow/core/framework/local_rendezvous.cc:421] Local rendezvous recv item cancelled. Key hash: 12055204088903910314\n",
      "2024-01-19 06:34:23.998435: I tensorflow/core/framework/local_rendezvous.cc:421] Local rendezvous recv item cancelled. Key hash: 1546593457043882003\n",
      "2024-01-19 06:34:23.998446: I tensorflow/core/framework/local_rendezvous.cc:421] Local rendezvous recv item cancelled. Key hash: 18168589636988814941\n",
      "2024-01-19 06:34:23.998454: I tensorflow/core/framework/local_rendezvous.cc:421] Local rendezvous recv item cancelled. Key hash: 16858714891071157905\n",
      "2024-01-19 06:34:23.998463: I tensorflow/core/framework/local_rendezvous.cc:421] Local rendezvous recv item cancelled. Key hash: 16707998802403719353\n",
      "2024-01-19 06:34:23.998475: I tensorflow/core/framework/local_rendezvous.cc:421] Local rendezvous recv item cancelled. Key hash: 11756340917554525022\n",
      "2024-01-19 06:34:23.998496: I tensorflow/core/framework/local_rendezvous.cc:421] Local rendezvous recv item cancelled. Key hash: 180566545981184413\n",
      "2024-01-19 06:34:23.998512: I tensorflow/core/framework/local_rendezvous.cc:421] Local rendezvous recv item cancelled. Key hash: 14045915274136282206\n",
      "2024-01-19 06:34:23.998527: I tensorflow/core/framework/local_rendezvous.cc:421] Local rendezvous recv item cancelled. Key hash: 4412841268327032716\n",
      "2024-01-19 06:34:23.998539: I tensorflow/core/framework/local_rendezvous.cc:421] Local rendezvous recv item cancelled. Key hash: 9488858533282417314\n",
      "2024-01-19 06:34:23.998550: I tensorflow/core/framework/local_rendezvous.cc:421] Local rendezvous recv item cancelled. Key hash: 1057999654025124650\n",
      "2024-01-19 06:34:23.998560: I tensorflow/core/framework/local_rendezvous.cc:421] Local rendezvous recv item cancelled. Key hash: 12374973695613573759\n",
      "2024-01-19 06:34:23.998573: I tensorflow/core/framework/local_rendezvous.cc:421] Local rendezvous recv item cancelled. Key hash: 296867503505141580\n",
      "2024-01-19 06:34:23.998584: I tensorflow/core/framework/local_rendezvous.cc:421] Local rendezvous recv item cancelled. Key hash: 13966163948189965749\n",
      "2024-01-19 06:34:23.998598: I tensorflow/core/framework/local_rendezvous.cc:421] Local rendezvous recv item cancelled. Key hash: 2020002007975390861\n",
      "2024-01-19 06:34:23.998618: I tensorflow/core/framework/local_rendezvous.cc:421] Local rendezvous recv item cancelled. Key hash: 10209810047070343149\n"
     ]
    },
    {
     "name": "stdout",
     "output_type": "stream",
     "text": [
      "Epoch 2\n",
      "1887/1887 [==============================] - 4588s 2s/step\n"
     ]
    },
    {
     "name": "stderr",
     "output_type": "stream",
     "text": [
      "2024-01-19 07:51:23.701237: I tensorflow/core/kernels/data/shuffle_dataset_op.cc:422] ShuffleDatasetV3:331: Filling up shuffle buffer (this may take a while): 1323848 of 1917780\n",
      "2024-01-19 07:51:28.340234: I tensorflow/core/kernels/data/shuffle_dataset_op.cc:452] Shuffle buffer filled.\n",
      "2024-01-19 07:51:38.340423: I tensorflow/core/kernels/data/shuffle_dataset_op.cc:422] ShuffleDatasetV3:312: Filling up shuffle buffer (this may take a while): 1308040 of 2221486\n",
      "2024-01-19 07:51:45.631452: I tensorflow/core/kernels/data/shuffle_dataset_op.cc:452] Shuffle buffer filled.\n",
      "2024-01-19 07:51:48.003123: I tensorflow/core/kernels/data/shuffle_dataset_op.cc:452] Shuffle buffer filled.\n"
     ]
    },
    {
     "name": "stdout",
     "output_type": "stream",
     "text": [
      "7/7 [==============================] - 44s 678ms/step - loss: 8.9464 - level_0_loss: 1.3019 - level_1_loss: 1.7380 - level_2_loss: 2.5458 - level_3_loss: 1.9048 - level_4_loss: 1.4497 - level_0_accuracy: 0.5278 - level_1_accuracy: 0.6065 - level_2_accuracy: 0.4028 - level_3_accuracy: 0.5648 - level_4_accuracy: 0.7731\n"
     ]
    },
    {
     "name": "stderr",
     "output_type": "stream",
     "text": [
      "2024-01-19 07:51:52.658811: I tensorflow/core/framework/local_rendezvous.cc:421] Local rendezvous recv item cancelled. Key hash: 357991655568445794\n",
      "2024-01-19 07:51:52.658840: I tensorflow/core/framework/local_rendezvous.cc:421] Local rendezvous recv item cancelled. Key hash: 17994347524521169472\n",
      "2024-01-19 07:51:52.658846: I tensorflow/core/framework/local_rendezvous.cc:421] Local rendezvous recv item cancelled. Key hash: 14045915274136282206\n",
      "2024-01-19 07:51:52.658866: I tensorflow/core/framework/local_rendezvous.cc:421] Local rendezvous recv item cancelled. Key hash: 1546593457043882003\n",
      "2024-01-19 07:51:52.658877: I tensorflow/core/framework/local_rendezvous.cc:421] Local rendezvous recv item cancelled. Key hash: 18168589636988814941\n",
      "2024-01-19 07:51:52.658887: I tensorflow/core/framework/local_rendezvous.cc:421] Local rendezvous recv item cancelled. Key hash: 16858714891071157905\n",
      "2024-01-19 07:51:52.658897: I tensorflow/core/framework/local_rendezvous.cc:421] Local rendezvous recv item cancelled. Key hash: 16707998802403719353\n",
      "2024-01-19 07:51:52.658908: I tensorflow/core/framework/local_rendezvous.cc:421] Local rendezvous recv item cancelled. Key hash: 11756340917554525022\n",
      "2024-01-19 07:51:52.658927: I tensorflow/core/framework/local_rendezvous.cc:421] Local rendezvous recv item cancelled. Key hash: 180566545981184413\n",
      "2024-01-19 07:51:52.658943: I tensorflow/core/framework/local_rendezvous.cc:421] Local rendezvous recv item cancelled. Key hash: 2099277232661902144\n",
      "2024-01-19 07:51:52.658958: I tensorflow/core/framework/local_rendezvous.cc:421] Local rendezvous recv item cancelled. Key hash: 12374973695613573759\n",
      "2024-01-19 07:51:52.658971: I tensorflow/core/framework/local_rendezvous.cc:421] Local rendezvous recv item cancelled. Key hash: 12055204088903910314\n",
      "2024-01-19 07:51:52.658985: I tensorflow/core/framework/local_rendezvous.cc:421] Local rendezvous recv item cancelled. Key hash: 13966163948189965749\n",
      "2024-01-19 07:51:52.658996: I tensorflow/core/framework/local_rendezvous.cc:421] Local rendezvous recv item cancelled. Key hash: 4412841268327032716\n",
      "2024-01-19 07:51:52.659008: I tensorflow/core/framework/local_rendezvous.cc:421] Local rendezvous recv item cancelled. Key hash: 2020002007975390861\n",
      "2024-01-19 07:51:52.659020: I tensorflow/core/framework/local_rendezvous.cc:421] Local rendezvous recv item cancelled. Key hash: 9488858533282417314\n",
      "2024-01-19 07:51:52.659032: I tensorflow/core/framework/local_rendezvous.cc:421] Local rendezvous recv item cancelled. Key hash: 10209810047070343149\n",
      "2024-01-19 07:51:52.659044: I tensorflow/core/framework/local_rendezvous.cc:421] Local rendezvous recv item cancelled. Key hash: 1057999654025124650\n",
      "2024-01-19 07:51:52.659054: I tensorflow/core/framework/local_rendezvous.cc:421] Local rendezvous recv item cancelled. Key hash: 11592712701031550624\n",
      "2024-01-19 07:51:52.659064: I tensorflow/core/framework/local_rendezvous.cc:421] Local rendezvous recv item cancelled. Key hash: 296867503505141580\n"
     ]
    },
    {
     "name": "stdout",
     "output_type": "stream",
     "text": [
      "Epoch 3\n",
      "1887/1887 [==============================] - 4592s 2s/step\n"
     ]
    },
    {
     "name": "stderr",
     "output_type": "stream",
     "text": [
      "2024-01-19 09:08:50.763891: I tensorflow/core/kernels/data/shuffle_dataset_op.cc:422] ShuffleDatasetV3:450: Filling up shuffle buffer (this may take a while): 1334941 of 2221486\n",
      "2024-01-19 09:08:57.617886: I tensorflow/core/kernels/data/shuffle_dataset_op.cc:452] Shuffle buffer filled.\n",
      "2024-01-19 09:09:07.618602: I tensorflow/core/kernels/data/shuffle_dataset_op.cc:422] ShuffleDatasetV3:469: Filling up shuffle buffer (this may take a while): 1321977 of 1917780\n",
      "2024-01-19 09:09:12.257667: I tensorflow/core/kernels/data/shuffle_dataset_op.cc:452] Shuffle buffer filled.\n",
      "2024-01-19 09:09:19.826661: I tensorflow/core/kernels/data/shuffle_dataset_op.cc:452] Shuffle buffer filled.\n"
     ]
    },
    {
     "name": "stdout",
     "output_type": "stream",
     "text": [
      "10/10 [==============================] - 49s 1s/step - loss: 8.9436 - level_0_loss: 1.3239 - level_1_loss: 1.7654 - level_2_loss: 2.6273 - level_3_loss: 1.7788 - level_4_loss: 1.4420 - level_0_accuracy: 0.4286 - level_1_accuracy: 0.6156 - level_2_accuracy: 0.3946 - level_3_accuracy: 0.6293 - level_4_accuracy: 0.7415\n"
     ]
    },
    {
     "name": "stderr",
     "output_type": "stream",
     "text": [
      "2024-01-19 09:09:29.752034: I tensorflow/core/framework/local_rendezvous.cc:421] Local rendezvous recv item cancelled. Key hash: 17994347524521169472\n",
      "2024-01-19 09:09:29.752063: I tensorflow/core/framework/local_rendezvous.cc:421] Local rendezvous recv item cancelled. Key hash: 12055204088903910314\n",
      "2024-01-19 09:09:29.752073: I tensorflow/core/framework/local_rendezvous.cc:421] Local rendezvous recv item cancelled. Key hash: 1546593457043882003\n",
      "2024-01-19 09:09:29.752092: I tensorflow/core/framework/local_rendezvous.cc:421] Local rendezvous recv item cancelled. Key hash: 16858714891071157905\n",
      "2024-01-19 09:09:29.752105: I tensorflow/core/framework/local_rendezvous.cc:421] Local rendezvous recv item cancelled. Key hash: 18168589636988814941\n",
      "2024-01-19 09:09:29.752115: I tensorflow/core/framework/local_rendezvous.cc:421] Local rendezvous recv item cancelled. Key hash: 16707998802403719353\n",
      "2024-01-19 09:09:29.752125: I tensorflow/core/framework/local_rendezvous.cc:421] Local rendezvous recv item cancelled. Key hash: 180566545981184413\n",
      "2024-01-19 09:09:29.752135: I tensorflow/core/framework/local_rendezvous.cc:421] Local rendezvous recv item cancelled. Key hash: 12374973695613573759\n",
      "2024-01-19 09:09:29.752144: I tensorflow/core/framework/local_rendezvous.cc:421] Local rendezvous recv item cancelled. Key hash: 11756340917554525022\n",
      "2024-01-19 09:09:29.752164: I tensorflow/core/framework/local_rendezvous.cc:421] Local rendezvous recv item cancelled. Key hash: 13966163948189965749\n",
      "2024-01-19 09:09:29.752181: I tensorflow/core/framework/local_rendezvous.cc:421] Local rendezvous recv item cancelled. Key hash: 2020002007975390861\n",
      "2024-01-19 09:09:29.752192: I tensorflow/core/framework/local_rendezvous.cc:421] Local rendezvous recv item cancelled. Key hash: 10209810047070343149\n",
      "2024-01-19 09:09:29.752203: I tensorflow/core/framework/local_rendezvous.cc:421] Local rendezvous recv item cancelled. Key hash: 2099277232661902144\n",
      "2024-01-19 09:09:29.752222: I tensorflow/core/framework/local_rendezvous.cc:421] Local rendezvous recv item cancelled. Key hash: 4412841268327032716\n",
      "2024-01-19 09:09:29.752234: I tensorflow/core/framework/local_rendezvous.cc:421] Local rendezvous recv item cancelled. Key hash: 9488858533282417314\n",
      "2024-01-19 09:09:29.752248: I tensorflow/core/framework/local_rendezvous.cc:421] Local rendezvous recv item cancelled. Key hash: 1057999654025124650\n",
      "2024-01-19 09:09:29.752266: I tensorflow/core/framework/local_rendezvous.cc:421] Local rendezvous recv item cancelled. Key hash: 296867503505141580\n"
     ]
    },
    {
     "name": "stdout",
     "output_type": "stream",
     "text": [
      "Epoch 4\n",
      "1887/1887 [==============================] - 4605s 2s/step\n"
     ]
    },
    {
     "name": "stderr",
     "output_type": "stream",
     "text": [
      "2024-01-19 10:26:45.413143: I tensorflow/core/kernels/data/shuffle_dataset_op.cc:422] ShuffleDatasetV3:607: Filling up shuffle buffer (this may take a while): 1312442 of 1917780\n",
      "2024-01-19 10:26:50.110411: I tensorflow/core/kernels/data/shuffle_dataset_op.cc:452] Shuffle buffer filled.\n",
      "2024-01-19 10:27:00.110584: I tensorflow/core/kernels/data/shuffle_dataset_op.cc:422] ShuffleDatasetV3:588: Filling up shuffle buffer (this may take a while): 1329202 of 2221486\n",
      "2024-01-19 10:27:07.012402: I tensorflow/core/kernels/data/shuffle_dataset_op.cc:452] Shuffle buffer filled.\n",
      "2024-01-19 10:27:10.545795: I tensorflow/core/kernels/data/shuffle_dataset_op.cc:452] Shuffle buffer filled.\n"
     ]
    },
    {
     "name": "stdout",
     "output_type": "stream",
     "text": [
      "9/9 [==============================] - 48s 1s/step - loss: 8.9079 - level_0_loss: 1.3035 - level_1_loss: 1.7366 - level_2_loss: 2.5493 - level_3_loss: 1.8651 - level_4_loss: 1.4473 - level_0_accuracy: 0.4556 - level_1_accuracy: 0.5946 - level_2_accuracy: 0.3977 - level_3_accuracy: 0.5676 - level_4_accuracy: 0.7568\n"
     ]
    },
    {
     "name": "stderr",
     "output_type": "stream",
     "text": [
      "2024-01-19 10:27:20.180843: I tensorflow/core/framework/local_rendezvous.cc:421] Local rendezvous recv item cancelled. Key hash: 357991655568445794\n",
      "2024-01-19 10:27:20.180873: I tensorflow/core/framework/local_rendezvous.cc:421] Local rendezvous recv item cancelled. Key hash: 1546593457043882003\n",
      "2024-01-19 10:27:20.180894: I tensorflow/core/framework/local_rendezvous.cc:421] Local rendezvous recv item cancelled. Key hash: 17994347524521169472\n",
      "2024-01-19 10:27:20.180915: I tensorflow/core/framework/local_rendezvous.cc:421] Local rendezvous recv item cancelled. Key hash: 11756340917554525022\n",
      "2024-01-19 10:27:20.180924: I tensorflow/core/framework/local_rendezvous.cc:421] Local rendezvous recv item cancelled. Key hash: 2099277232661902144\n",
      "2024-01-19 10:27:20.180935: I tensorflow/core/framework/local_rendezvous.cc:421] Local rendezvous recv item cancelled. Key hash: 12055204088903910314\n",
      "2024-01-19 10:27:20.180949: I tensorflow/core/framework/local_rendezvous.cc:421] Local rendezvous recv item cancelled. Key hash: 9488858533282417314\n",
      "2024-01-19 10:27:20.180959: I tensorflow/core/framework/local_rendezvous.cc:421] Local rendezvous recv item cancelled. Key hash: 1057999654025124650\n",
      "2024-01-19 10:27:20.180968: I tensorflow/core/framework/local_rendezvous.cc:421] Local rendezvous recv item cancelled. Key hash: 296867503505141580\n",
      "2024-01-19 10:27:20.180974: I tensorflow/core/framework/local_rendezvous.cc:421] Local rendezvous recv item cancelled. Key hash: 16858714891071157905\n",
      "2024-01-19 10:27:20.180995: I tensorflow/core/framework/local_rendezvous.cc:421] Local rendezvous recv item cancelled. Key hash: 13966163948189965749\n",
      "2024-01-19 10:27:20.181007: I tensorflow/core/framework/local_rendezvous.cc:421] Local rendezvous recv item cancelled. Key hash: 18168589636988814941\n",
      "2024-01-19 10:27:20.181023: I tensorflow/core/framework/local_rendezvous.cc:421] Local rendezvous recv item cancelled. Key hash: 16707998802403719353\n",
      "2024-01-19 10:27:20.181035: I tensorflow/core/framework/local_rendezvous.cc:421] Local rendezvous recv item cancelled. Key hash: 180566545981184413\n",
      "2024-01-19 10:27:20.181046: I tensorflow/core/framework/local_rendezvous.cc:421] Local rendezvous recv item cancelled. Key hash: 12374973695613573759\n",
      "2024-01-19 10:27:20.181057: I tensorflow/core/framework/local_rendezvous.cc:421] Local rendezvous recv item cancelled. Key hash: 2020002007975390861\n",
      "2024-01-19 10:27:20.181072: I tensorflow/core/framework/local_rendezvous.cc:421] Local rendezvous recv item cancelled. Key hash: 10209810047070343149\n"
     ]
    },
    {
     "name": "stdout",
     "output_type": "stream",
     "text": [
      "Epoch 5\n",
      "1887/1887 [==============================] - 4614s 2s/step\n"
     ]
    },
    {
     "name": "stderr",
     "output_type": "stream",
     "text": [
      "2024-01-19 11:44:45.809435: I tensorflow/core/kernels/data/shuffle_dataset_op.cc:422] ShuffleDatasetV3:726: Filling up shuffle buffer (this may take a while): 1311578 of 2221486\n",
      "2024-01-19 11:44:53.071661: I tensorflow/core/kernels/data/shuffle_dataset_op.cc:452] Shuffle buffer filled.\n",
      "2024-01-19 11:45:03.072169: I tensorflow/core/kernels/data/shuffle_dataset_op.cc:422] ShuffleDatasetV3:745: Filling up shuffle buffer (this may take a while): 1291251 of 1917780\n",
      "2024-01-19 11:45:07.955565: I tensorflow/core/kernels/data/shuffle_dataset_op.cc:452] Shuffle buffer filled.\n",
      "2024-01-19 11:45:10.312752: I tensorflow/core/kernels/data/shuffle_dataset_op.cc:452] Shuffle buffer filled.\n"
     ]
    },
    {
     "name": "stdout",
     "output_type": "stream",
     "text": [
      "10/10 [==============================] - 49s 945ms/step - loss: 9.1887 - level_0_loss: 1.3209 - level_1_loss: 1.8184 - level_2_loss: 2.5796 - level_3_loss: 1.9188 - level_4_loss: 1.5448 - level_0_accuracy: 0.4332 - level_1_accuracy: 0.5928 - level_2_accuracy: 0.3746 - level_3_accuracy: 0.5961 - level_4_accuracy: 0.7427\n"
     ]
    },
    {
     "name": "stderr",
     "output_type": "stream",
     "text": [
      "2024-01-19 11:45:19.418029: I tensorflow/core/framework/local_rendezvous.cc:421] Local rendezvous recv item cancelled. Key hash: 17994347524521169472\n",
      "2024-01-19 11:45:19.418060: I tensorflow/core/framework/local_rendezvous.cc:421] Local rendezvous recv item cancelled. Key hash: 12055204088903910314\n",
      "2024-01-19 11:45:19.418070: I tensorflow/core/framework/local_rendezvous.cc:421] Local rendezvous recv item cancelled. Key hash: 11756340917554525022\n",
      "2024-01-19 11:45:19.418078: I tensorflow/core/framework/local_rendezvous.cc:421] Local rendezvous recv item cancelled. Key hash: 14045915274136282206\n",
      "2024-01-19 11:45:19.418085: I tensorflow/core/framework/local_rendezvous.cc:421] Local rendezvous recv item cancelled. Key hash: 2099277232661902144\n",
      "2024-01-19 11:45:19.418092: I tensorflow/core/framework/local_rendezvous.cc:421] Local rendezvous recv item cancelled. Key hash: 1546593457043882003\n",
      "2024-01-19 11:45:19.418114: I tensorflow/core/framework/local_rendezvous.cc:421] Local rendezvous recv item cancelled. Key hash: 15402155975830589655\n",
      "2024-01-19 11:45:19.418123: I tensorflow/core/framework/local_rendezvous.cc:421] Local rendezvous recv item cancelled. Key hash: 16858714891071157905\n",
      "2024-01-19 11:45:19.418130: I tensorflow/core/framework/local_rendezvous.cc:421] Local rendezvous recv item cancelled. Key hash: 16707998802403719353\n",
      "2024-01-19 11:45:19.418139: I tensorflow/core/framework/local_rendezvous.cc:421] Local rendezvous recv item cancelled. Key hash: 180566545981184413\n",
      "2024-01-19 11:45:19.418147: I tensorflow/core/framework/local_rendezvous.cc:421] Local rendezvous recv item cancelled. Key hash: 12374973695613573759\n",
      "2024-01-19 11:45:19.418155: I tensorflow/core/framework/local_rendezvous.cc:421] Local rendezvous recv item cancelled. Key hash: 13966163948189965749\n",
      "2024-01-19 11:45:19.418164: I tensorflow/core/framework/local_rendezvous.cc:421] Local rendezvous recv item cancelled. Key hash: 2020002007975390861\n",
      "2024-01-19 11:45:19.418172: I tensorflow/core/framework/local_rendezvous.cc:421] Local rendezvous recv item cancelled. Key hash: 10209810047070343149\n",
      "2024-01-19 11:45:19.418182: I tensorflow/core/framework/local_rendezvous.cc:421] Local rendezvous recv item cancelled. Key hash: 4412841268327032716\n",
      "2024-01-19 11:45:19.418198: I tensorflow/core/framework/local_rendezvous.cc:421] Local rendezvous recv item cancelled. Key hash: 9488858533282417314\n",
      "2024-01-19 11:45:19.418208: I tensorflow/core/framework/local_rendezvous.cc:421] Local rendezvous recv item cancelled. Key hash: 1057999654025124650\n",
      "2024-01-19 11:45:19.418218: I tensorflow/core/framework/local_rendezvous.cc:421] Local rendezvous recv item cancelled. Key hash: 296867503505141580\n"
     ]
    },
    {
     "name": "stdout",
     "output_type": "stream",
     "text": [
      "Epoch 6\n",
      "1887/1887 [==============================] - 4845s 3s/step\n"
     ]
    },
    {
     "name": "stderr",
     "output_type": "stream",
     "text": [
      "2024-01-19 13:06:32.025469: I tensorflow/core/kernels/data/shuffle_dataset_op.cc:422] ShuffleDatasetV3:864: Filling up shuffle buffer (this may take a while): 1144326 of 2221486\n",
      "2024-01-19 13:06:41.378144: I tensorflow/core/kernels/data/shuffle_dataset_op.cc:452] Shuffle buffer filled.\n",
      "2024-01-19 13:06:51.378910: I tensorflow/core/kernels/data/shuffle_dataset_op.cc:422] ShuffleDatasetV3:883: Filling up shuffle buffer (this may take a while): 1158661 of 1917780\n",
      "2024-01-19 13:06:58.398999: I tensorflow/core/kernels/data/shuffle_dataset_op.cc:452] Shuffle buffer filled.\n",
      "2024-01-19 13:07:04.262459: I tensorflow/core/kernels/data/shuffle_dataset_op.cc:422] ShuffleDatasetV3:960: Filling up shuffle buffer (this may take a while): 17 of 4828491\n",
      "2024-01-19 13:07:06.922015: I tensorflow/core/kernels/data/shuffle_dataset_op.cc:452] Shuffle buffer filled.\n"
     ]
    },
    {
     "name": "stdout",
     "output_type": "stream",
     "text": [
      "13/13 [==============================] - 53s 650ms/step - loss: 9.3279 - level_0_loss: 1.3252 - level_1_loss: 1.7714 - level_2_loss: 2.6614 - level_3_loss: 2.0031 - level_4_loss: 1.5607 - level_0_accuracy: 0.4113 - level_1_accuracy: 0.6710 - level_2_accuracy: 0.4113 - level_3_accuracy: 0.5887 - level_4_accuracy: 0.7532\n"
     ]
    },
    {
     "name": "stderr",
     "output_type": "stream",
     "text": [
      "2024-01-19 13:07:15.331697: I tensorflow/core/framework/local_rendezvous.cc:421] Local rendezvous recv item cancelled. Key hash: 357991655568445794\n",
      "2024-01-19 13:07:15.331731: I tensorflow/core/framework/local_rendezvous.cc:421] Local rendezvous recv item cancelled. Key hash: 17994347524521169472\n",
      "2024-01-19 13:07:15.331746: I tensorflow/core/framework/local_rendezvous.cc:421] Local rendezvous recv item cancelled. Key hash: 1546593457043882003\n",
      "2024-01-19 13:07:15.331770: I tensorflow/core/framework/local_rendezvous.cc:421] Local rendezvous recv item cancelled. Key hash: 12055204088903910314\n",
      "2024-01-19 13:07:15.331784: I tensorflow/core/framework/local_rendezvous.cc:421] Local rendezvous recv item cancelled. Key hash: 16858714891071157905\n",
      "2024-01-19 13:07:15.331800: I tensorflow/core/framework/local_rendezvous.cc:421] Local rendezvous recv item cancelled. Key hash: 11756340917554525022\n",
      "2024-01-19 13:07:15.331815: I tensorflow/core/framework/local_rendezvous.cc:421] Local rendezvous recv item cancelled. Key hash: 18168589636988814941\n",
      "2024-01-19 13:07:15.331833: I tensorflow/core/framework/local_rendezvous.cc:421] Local rendezvous recv item cancelled. Key hash: 14045915274136282206\n",
      "2024-01-19 13:07:15.331860: I tensorflow/core/framework/local_rendezvous.cc:421] Local rendezvous recv item cancelled. Key hash: 2099277232661902144\n",
      "2024-01-19 13:07:15.331873: I tensorflow/core/framework/local_rendezvous.cc:421] Local rendezvous recv item cancelled. Key hash: 4412841268327032716\n",
      "2024-01-19 13:07:15.331886: I tensorflow/core/framework/local_rendezvous.cc:421] Local rendezvous recv item cancelled. Key hash: 9488858533282417314\n",
      "2024-01-19 13:07:15.331896: I tensorflow/core/framework/local_rendezvous.cc:421] Local rendezvous recv item cancelled. Key hash: 16707998802403719353\n",
      "2024-01-19 13:07:15.331918: I tensorflow/core/framework/local_rendezvous.cc:421] Local rendezvous recv item cancelled. Key hash: 1057999654025124650\n",
      "2024-01-19 13:07:15.331936: I tensorflow/core/framework/local_rendezvous.cc:421] Local rendezvous recv item cancelled. Key hash: 180566545981184413\n",
      "2024-01-19 13:07:15.331953: I tensorflow/core/framework/local_rendezvous.cc:421] Local rendezvous recv item cancelled. Key hash: 12374973695613573759\n",
      "2024-01-19 13:07:15.331969: I tensorflow/core/framework/local_rendezvous.cc:421] Local rendezvous recv item cancelled. Key hash: 13966163948189965749\n",
      "2024-01-19 13:07:15.331986: I tensorflow/core/framework/local_rendezvous.cc:421] Local rendezvous recv item cancelled. Key hash: 11592712701031550624\n",
      "2024-01-19 13:07:15.332008: I tensorflow/core/framework/local_rendezvous.cc:421] Local rendezvous recv item cancelled. Key hash: 2020002007975390861\n",
      "2024-01-19 13:07:15.332025: I tensorflow/core/framework/local_rendezvous.cc:421] Local rendezvous recv item cancelled. Key hash: 10209810047070343149\n",
      "2024-01-19 13:07:15.332042: I tensorflow/core/framework/local_rendezvous.cc:421] Local rendezvous recv item cancelled. Key hash: 296867503505141580\n"
     ]
    },
    {
     "name": "stdout",
     "output_type": "stream",
     "text": [
      "Epoch 7\n",
      "1887/1887 [==============================] - 5031s 3s/step\n"
     ]
    },
    {
     "name": "stderr",
     "output_type": "stream",
     "text": [
      "2024-01-19 14:31:34.171208: I tensorflow/core/kernels/data/shuffle_dataset_op.cc:422] ShuffleDatasetV3:1002: Filling up shuffle buffer (this may take a while): 1175357 of 2221486\n",
      "2024-01-19 14:31:43.302442: I tensorflow/core/kernels/data/shuffle_dataset_op.cc:452] Shuffle buffer filled.\n",
      "2024-01-19 14:31:47.771528: I tensorflow/core/kernels/data/shuffle_dataset_op.cc:422] ShuffleDatasetV3:1098: Filling up shuffle buffer (this may take a while): 4 of 4828491\n",
      "2024-01-19 14:31:59.118051: I tensorflow/core/kernels/data/shuffle_dataset_op.cc:422] ShuffleDatasetV3:1021: Filling up shuffle buffer (this may take a while): 1282612 of 1917780\n",
      "2024-01-19 14:32:04.057941: I tensorflow/core/kernels/data/shuffle_dataset_op.cc:452] Shuffle buffer filled.\n",
      "2024-01-19 14:32:06.642396: I tensorflow/core/kernels/data/shuffle_dataset_op.cc:452] Shuffle buffer filled.\n"
     ]
    },
    {
     "name": "stdout",
     "output_type": "stream",
     "text": [
      "9/9 [==============================] - 48s 614ms/step - loss: 9.4052 - level_0_loss: 1.2591 - level_1_loss: 1.7665 - level_2_loss: 2.5426 - level_3_loss: 2.0763 - level_4_loss: 1.7544 - level_0_accuracy: 0.4429 - level_1_accuracy: 0.5929 - level_2_accuracy: 0.4179 - level_3_accuracy: 0.6357 - level_4_accuracy: 0.6964\n"
     ]
    },
    {
     "name": "stderr",
     "output_type": "stream",
     "text": [
      "2024-01-19 14:32:12.164660: I tensorflow/core/framework/local_rendezvous.cc:421] Local rendezvous recv item cancelled. Key hash: 357991655568445794\n",
      "2024-01-19 14:32:12.164690: I tensorflow/core/framework/local_rendezvous.cc:421] Local rendezvous recv item cancelled. Key hash: 1546593457043882003\n",
      "2024-01-19 14:32:12.164711: I tensorflow/core/framework/local_rendezvous.cc:421] Local rendezvous recv item cancelled. Key hash: 16858714891071157905\n",
      "2024-01-19 14:32:12.164723: I tensorflow/core/framework/local_rendezvous.cc:421] Local rendezvous recv item cancelled. Key hash: 18168589636988814941\n",
      "2024-01-19 14:32:12.164735: I tensorflow/core/framework/local_rendezvous.cc:421] Local rendezvous recv item cancelled. Key hash: 16707998802403719353\n",
      "2024-01-19 14:32:12.164746: I tensorflow/core/framework/local_rendezvous.cc:421] Local rendezvous recv item cancelled. Key hash: 180566545981184413\n",
      "2024-01-19 14:32:12.164757: I tensorflow/core/framework/local_rendezvous.cc:421] Local rendezvous recv item cancelled. Key hash: 12374973695613573759\n",
      "2024-01-19 14:32:12.164769: I tensorflow/core/framework/local_rendezvous.cc:421] Local rendezvous recv item cancelled. Key hash: 17994347524521169472\n",
      "2024-01-19 14:32:12.164786: I tensorflow/core/framework/local_rendezvous.cc:421] Local rendezvous recv item cancelled. Key hash: 13966163948189965749\n",
      "2024-01-19 14:32:12.164798: I tensorflow/core/framework/local_rendezvous.cc:421] Local rendezvous recv item cancelled. Key hash: 11756340917554525022\n",
      "2024-01-19 14:32:12.164810: I tensorflow/core/framework/local_rendezvous.cc:421] Local rendezvous recv item cancelled. Key hash: 2020002007975390861\n",
      "2024-01-19 14:32:12.164822: I tensorflow/core/framework/local_rendezvous.cc:421] Local rendezvous recv item cancelled. Key hash: 14045915274136282206\n",
      "2024-01-19 14:32:12.164834: I tensorflow/core/framework/local_rendezvous.cc:421] Local rendezvous recv item cancelled. Key hash: 10209810047070343149\n",
      "2024-01-19 14:32:12.164846: I tensorflow/core/framework/local_rendezvous.cc:421] Local rendezvous recv item cancelled. Key hash: 2099277232661902144\n",
      "2024-01-19 14:32:12.164857: I tensorflow/core/framework/local_rendezvous.cc:421] Local rendezvous recv item cancelled. Key hash: 12055204088903910314\n",
      "2024-01-19 14:32:12.164864: I tensorflow/core/framework/local_rendezvous.cc:421] Local rendezvous recv item cancelled. Key hash: 9488858533282417314\n",
      "2024-01-19 14:32:12.164870: I tensorflow/core/framework/local_rendezvous.cc:421] Local rendezvous recv item cancelled. Key hash: 1057999654025124650\n",
      "2024-01-19 14:32:12.164877: I tensorflow/core/framework/local_rendezvous.cc:421] Local rendezvous recv item cancelled. Key hash: 11592712701031550624\n",
      "2024-01-19 14:32:12.164884: I tensorflow/core/framework/local_rendezvous.cc:421] Local rendezvous recv item cancelled. Key hash: 296867503505141580\n"
     ]
    },
    {
     "name": "stdout",
     "output_type": "stream",
     "text": [
      "Epoch 8\n",
      "1887/1887 [==============================] - 5087s 3s/step\n"
     ]
    },
    {
     "name": "stderr",
     "output_type": "stream",
     "text": [
      "2024-01-19 15:57:31.109848: I tensorflow/core/kernels/data/shuffle_dataset_op.cc:422] ShuffleDatasetV3:1140: Filling up shuffle buffer (this may take a while): 1406597 of 2221486\n",
      "2024-01-19 15:57:36.707511: I tensorflow/core/kernels/data/shuffle_dataset_op.cc:452] Shuffle buffer filled.\n",
      "2024-01-19 15:57:46.707793: I tensorflow/core/kernels/data/shuffle_dataset_op.cc:422] ShuffleDatasetV3:1159: Filling up shuffle buffer (this may take a while): 1164060 of 1917780\n",
      "2024-01-19 15:57:53.540335: I tensorflow/core/kernels/data/shuffle_dataset_op.cc:452] Shuffle buffer filled.\n",
      "2024-01-19 15:58:02.388734: I tensorflow/core/kernels/data/shuffle_dataset_op.cc:452] Shuffle buffer filled.\n"
     ]
    },
    {
     "name": "stdout",
     "output_type": "stream",
     "text": [
      "10/10 [==============================] - 50s 884ms/step - loss: 9.2082 - level_0_loss: 1.3003 - level_1_loss: 1.7049 - level_2_loss: 2.5704 - level_3_loss: 2.0196 - level_4_loss: 1.6068 - level_0_accuracy: 0.3889 - level_1_accuracy: 0.6993 - level_2_accuracy: 0.4183 - level_3_accuracy: 0.5686 - level_4_accuracy: 0.7353\n"
     ]
    },
    {
     "name": "stderr",
     "output_type": "stream",
     "text": [
      "2024-01-19 15:58:10.965685: I tensorflow/core/framework/local_rendezvous.cc:421] Local rendezvous recv item cancelled. Key hash: 357991655568445794\n",
      "2024-01-19 15:58:10.965717: I tensorflow/core/framework/local_rendezvous.cc:421] Local rendezvous recv item cancelled. Key hash: 1546593457043882003\n",
      "2024-01-19 15:58:10.965739: I tensorflow/core/framework/local_rendezvous.cc:421] Local rendezvous recv item cancelled. Key hash: 17994347524521169472\n",
      "2024-01-19 15:58:10.965754: I tensorflow/core/framework/local_rendezvous.cc:421] Local rendezvous recv item cancelled. Key hash: 15402155975830589655\n",
      "2024-01-19 15:58:10.965767: I tensorflow/core/framework/local_rendezvous.cc:421] Local rendezvous recv item cancelled. Key hash: 11756340917554525022\n",
      "2024-01-19 15:58:10.965779: I tensorflow/core/framework/local_rendezvous.cc:421] Local rendezvous recv item cancelled. Key hash: 16858714891071157905\n",
      "2024-01-19 15:58:10.965792: I tensorflow/core/framework/local_rendezvous.cc:421] Local rendezvous recv item cancelled. Key hash: 14045915274136282206\n",
      "2024-01-19 15:58:10.965807: I tensorflow/core/framework/local_rendezvous.cc:421] Local rendezvous recv item cancelled. Key hash: 18168589636988814941\n",
      "2024-01-19 15:58:10.965819: I tensorflow/core/framework/local_rendezvous.cc:421] Local rendezvous recv item cancelled. Key hash: 12055204088903910314\n",
      "2024-01-19 15:58:10.965832: I tensorflow/core/framework/local_rendezvous.cc:421] Local rendezvous recv item cancelled. Key hash: 16707998802403719353\n",
      "2024-01-19 15:58:10.965843: I tensorflow/core/framework/local_rendezvous.cc:421] Local rendezvous recv item cancelled. Key hash: 4412841268327032716\n",
      "2024-01-19 15:58:10.965856: I tensorflow/core/framework/local_rendezvous.cc:421] Local rendezvous recv item cancelled. Key hash: 180566545981184413\n",
      "2024-01-19 15:58:10.965875: I tensorflow/core/framework/local_rendezvous.cc:421] Local rendezvous recv item cancelled. Key hash: 2099277232661902144\n",
      "2024-01-19 15:58:10.965891: I tensorflow/core/framework/local_rendezvous.cc:421] Local rendezvous recv item cancelled. Key hash: 12374973695613573759\n",
      "2024-01-19 15:58:10.965903: I tensorflow/core/framework/local_rendezvous.cc:421] Local rendezvous recv item cancelled. Key hash: 9488858533282417314\n",
      "2024-01-19 15:58:10.965914: I tensorflow/core/framework/local_rendezvous.cc:421] Local rendezvous recv item cancelled. Key hash: 13966163948189965749\n",
      "2024-01-19 15:58:10.965925: I tensorflow/core/framework/local_rendezvous.cc:421] Local rendezvous recv item cancelled. Key hash: 1057999654025124650\n",
      "2024-01-19 15:58:10.965935: I tensorflow/core/framework/local_rendezvous.cc:421] Local rendezvous recv item cancelled. Key hash: 2020002007975390861\n",
      "2024-01-19 15:58:10.965946: I tensorflow/core/framework/local_rendezvous.cc:421] Local rendezvous recv item cancelled. Key hash: 10209810047070343149\n",
      "2024-01-19 15:58:10.965956: I tensorflow/core/framework/local_rendezvous.cc:421] Local rendezvous recv item cancelled. Key hash: 11592712701031550624\n",
      "2024-01-19 15:58:10.965971: I tensorflow/core/framework/local_rendezvous.cc:421] Local rendezvous recv item cancelled. Key hash: 296867503505141580\n"
     ]
    },
    {
     "name": "stdout",
     "output_type": "stream",
     "text": [
      "Epoch 9\n",
      "1887/1887 [==============================] - 5187s 3s/step\n"
     ]
    },
    {
     "name": "stderr",
     "output_type": "stream",
     "text": [
      "2024-01-19 17:25:08.303464: I tensorflow/core/kernels/data/shuffle_dataset_op.cc:422] ShuffleDatasetV3:1297: Filling up shuffle buffer (this may take a while): 1144174 of 1917780\n",
      "2024-01-19 17:25:15.415229: I tensorflow/core/kernels/data/shuffle_dataset_op.cc:452] Shuffle buffer filled.\n",
      "2024-01-19 17:25:25.415443: I tensorflow/core/kernels/data/shuffle_dataset_op.cc:422] ShuffleDatasetV3:1278: Filling up shuffle buffer (this may take a while): 1436697 of 2221486\n",
      "2024-01-19 17:25:31.387881: I tensorflow/core/kernels/data/shuffle_dataset_op.cc:452] Shuffle buffer filled.\n",
      "2024-01-19 17:25:39.900399: I tensorflow/core/kernels/data/shuffle_dataset_op.cc:452] Shuffle buffer filled.\n"
     ]
    },
    {
     "name": "stdout",
     "output_type": "stream",
     "text": [
      "10/10 [==============================] - 48s 684ms/step - loss: 8.9391 - level_0_loss: 1.2771 - level_1_loss: 1.6679 - level_2_loss: 2.5793 - level_3_loss: 1.9325 - level_4_loss: 1.4762 - level_0_accuracy: 0.4515 - level_1_accuracy: 0.6856 - level_2_accuracy: 0.4348 - level_3_accuracy: 0.5987 - level_4_accuracy: 0.7826\n"
     ]
    },
    {
     "name": "stderr",
     "output_type": "stream",
     "text": [
      "2024-01-19 17:25:46.694376: I tensorflow/core/framework/local_rendezvous.cc:421] Local rendezvous recv item cancelled. Key hash: 357991655568445794\n",
      "2024-01-19 17:25:46.694406: I tensorflow/core/framework/local_rendezvous.cc:421] Local rendezvous recv item cancelled. Key hash: 17994347524521169472\n",
      "2024-01-19 17:25:46.694414: I tensorflow/core/framework/local_rendezvous.cc:421] Local rendezvous recv item cancelled. Key hash: 1057999654025124650\n",
      "2024-01-19 17:25:46.694434: I tensorflow/core/framework/local_rendezvous.cc:421] Local rendezvous recv item cancelled. Key hash: 1546593457043882003\n",
      "2024-01-19 17:25:46.694444: I tensorflow/core/framework/local_rendezvous.cc:421] Local rendezvous recv item cancelled. Key hash: 16858714891071157905\n",
      "2024-01-19 17:25:46.694453: I tensorflow/core/framework/local_rendezvous.cc:421] Local rendezvous recv item cancelled. Key hash: 18168589636988814941\n",
      "2024-01-19 17:25:46.694461: I tensorflow/core/framework/local_rendezvous.cc:421] Local rendezvous recv item cancelled. Key hash: 16707998802403719353\n",
      "2024-01-19 17:25:46.694471: I tensorflow/core/framework/local_rendezvous.cc:421] Local rendezvous recv item cancelled. Key hash: 180566545981184413\n",
      "2024-01-19 17:25:46.694480: I tensorflow/core/framework/local_rendezvous.cc:421] Local rendezvous recv item cancelled. Key hash: 12374973695613573759\n",
      "2024-01-19 17:25:46.694489: I tensorflow/core/framework/local_rendezvous.cc:421] Local rendezvous recv item cancelled. Key hash: 13966163948189965749\n",
      "2024-01-19 17:25:46.694497: I tensorflow/core/framework/local_rendezvous.cc:421] Local rendezvous recv item cancelled. Key hash: 2020002007975390861\n",
      "2024-01-19 17:25:46.694507: I tensorflow/core/framework/local_rendezvous.cc:421] Local rendezvous recv item cancelled. Key hash: 10209810047070343149\n",
      "2024-01-19 17:25:46.694513: I tensorflow/core/framework/local_rendezvous.cc:421] Local rendezvous recv item cancelled. Key hash: 11756340917554525022\n",
      "2024-01-19 17:25:46.694537: I tensorflow/core/framework/local_rendezvous.cc:421] Local rendezvous recv item cancelled. Key hash: 12055204088903910314\n",
      "2024-01-19 17:25:46.694553: I tensorflow/core/framework/local_rendezvous.cc:421] Local rendezvous recv item cancelled. Key hash: 14045915274136282206\n",
      "2024-01-19 17:25:46.694566: I tensorflow/core/framework/local_rendezvous.cc:421] Local rendezvous recv item cancelled. Key hash: 4412841268327032716\n",
      "2024-01-19 17:25:46.694579: I tensorflow/core/framework/local_rendezvous.cc:421] Local rendezvous recv item cancelled. Key hash: 9488858533282417314\n",
      "2024-01-19 17:25:46.694590: I tensorflow/core/framework/local_rendezvous.cc:421] Local rendezvous recv item cancelled. Key hash: 11592712701031550624\n"
     ]
    },
    {
     "name": "stdout",
     "output_type": "stream",
     "text": [
      "Epoch 10\n",
      "1887/1887 [==============================] - 5096s 3s/step\n"
     ]
    },
    {
     "name": "stderr",
     "output_type": "stream",
     "text": [
      "2024-01-19 18:51:14.357674: I tensorflow/core/kernels/data/shuffle_dataset_op.cc:422] ShuffleDatasetV3:1435: Filling up shuffle buffer (this may take a while): 1067947 of 1917780\n",
      "2024-01-19 18:51:22.092068: I tensorflow/core/kernels/data/shuffle_dataset_op.cc:452] Shuffle buffer filled.\n",
      "2024-01-19 18:51:26.700908: I tensorflow/core/kernels/data/shuffle_dataset_op.cc:422] ShuffleDatasetV3:1512: Filling up shuffle buffer (this may take a while): 3 of 4828491\n",
      "2024-01-19 18:51:36.701143: I tensorflow/core/kernels/data/shuffle_dataset_op.cc:422] ShuffleDatasetV3:1416: Filling up shuffle buffer (this may take a while): 1118169 of 2221486\n",
      "2024-01-19 18:51:46.701149: I tensorflow/core/kernels/data/shuffle_dataset_op.cc:422] ShuffleDatasetV3:1416: Filling up shuffle buffer (this may take a while): 2184256 of 2221486\n",
      "2024-01-19 18:51:47.079535: I tensorflow/core/kernels/data/shuffle_dataset_op.cc:452] Shuffle buffer filled.\n",
      "2024-01-19 18:51:51.552767: I tensorflow/core/kernels/data/shuffle_dataset_op.cc:452] Shuffle buffer filled.\n"
     ]
    },
    {
     "name": "stdout",
     "output_type": "stream",
     "text": [
      "13/13 [==============================] - 58s 846ms/step - loss: 9.3139 - level_0_loss: 1.2579 - level_1_loss: 1.6918 - level_2_loss: 2.6351 - level_3_loss: 2.0948 - level_4_loss: 1.6282 - level_0_accuracy: 0.4663 - level_1_accuracy: 0.7032 - level_2_accuracy: 0.4214 - level_3_accuracy: 0.5162 - level_4_accuracy: 0.7830\n"
     ]
    },
    {
     "name": "stderr",
     "output_type": "stream",
     "text": [
      "2024-01-19 18:52:02.326981: I tensorflow/core/framework/local_rendezvous.cc:421] Local rendezvous recv item cancelled. Key hash: 357991655568445794\n",
      "2024-01-19 18:52:02.327011: I tensorflow/core/framework/local_rendezvous.cc:421] Local rendezvous recv item cancelled. Key hash: 17994347524521169472\n",
      "2024-01-19 18:52:02.327020: I tensorflow/core/framework/local_rendezvous.cc:421] Local rendezvous recv item cancelled. Key hash: 11756340917554525022\n",
      "2024-01-19 18:52:02.327028: I tensorflow/core/framework/local_rendezvous.cc:421] Local rendezvous recv item cancelled. Key hash: 14045915274136282206\n",
      "2024-01-19 18:52:02.327035: I tensorflow/core/framework/local_rendezvous.cc:421] Local rendezvous recv item cancelled. Key hash: 12055204088903910314\n",
      "2024-01-19 18:52:02.327042: I tensorflow/core/framework/local_rendezvous.cc:421] Local rendezvous recv item cancelled. Key hash: 2099277232661902144\n",
      "2024-01-19 18:52:02.327051: I tensorflow/core/framework/local_rendezvous.cc:421] Local rendezvous recv item cancelled. Key hash: 9488858533282417314\n",
      "2024-01-19 18:52:02.327059: I tensorflow/core/framework/local_rendezvous.cc:421] Local rendezvous recv item cancelled. Key hash: 1057999654025124650\n",
      "2024-01-19 18:52:02.327069: I tensorflow/core/framework/local_rendezvous.cc:421] Local rendezvous recv item cancelled. Key hash: 296867503505141580\n",
      "2024-01-19 18:52:02.327078: I tensorflow/core/framework/local_rendezvous.cc:421] Local rendezvous recv item cancelled. Key hash: 1546593457043882003\n",
      "2024-01-19 18:52:02.327086: I tensorflow/core/framework/local_rendezvous.cc:421] Local rendezvous recv item cancelled. Key hash: 16858714891071157905\n",
      "2024-01-19 18:52:02.327095: I tensorflow/core/framework/local_rendezvous.cc:421] Local rendezvous recv item cancelled. Key hash: 18168589636988814941\n",
      "2024-01-19 18:52:02.327104: I tensorflow/core/framework/local_rendezvous.cc:421] Local rendezvous recv item cancelled. Key hash: 16707998802403719353\n",
      "2024-01-19 18:52:02.327112: I tensorflow/core/framework/local_rendezvous.cc:421] Local rendezvous recv item cancelled. Key hash: 180566545981184413\n",
      "2024-01-19 18:52:02.327121: I tensorflow/core/framework/local_rendezvous.cc:421] Local rendezvous recv item cancelled. Key hash: 12374973695613573759\n",
      "2024-01-19 18:52:02.327129: I tensorflow/core/framework/local_rendezvous.cc:421] Local rendezvous recv item cancelled. Key hash: 13966163948189965749\n",
      "2024-01-19 18:52:02.327137: I tensorflow/core/framework/local_rendezvous.cc:421] Local rendezvous recv item cancelled. Key hash: 2020002007975390861\n",
      "2024-01-19 18:52:02.327146: I tensorflow/core/framework/local_rendezvous.cc:421] Local rendezvous recv item cancelled. Key hash: 10209810047070343149\n",
      "2024-01-19 18:52:02.327156: I tensorflow/core/framework/local_rendezvous.cc:421] Local rendezvous recv item cancelled. Key hash: 11592712701031550624\n",
      "2024-01-19 18:52:02.327184: I tensorflow/core/framework/local_rendezvous.cc:421] Local rendezvous recv item cancelled. Key hash: 4412841268327032716\n"
     ]
    },
    {
     "name": "stdout",
     "output_type": "stream",
     "text": [
      "Epoch 11\n",
      " 662/1887 [=========>....................] - ETA: 54:05"
     ]
    },
    {
     "ename": "KeyboardInterrupt",
     "evalue": "",
     "output_type": "error",
     "traceback": [
      "\u001b[0;31m---------------------------------------------------------------------------\u001b[0m",
      "\u001b[0;31mKeyboardInterrupt\u001b[0m                         Traceback (most recent call last)",
      "Cell \u001b[0;32mIn[17], line 17\u001b[0m\n\u001b[1;32m     15\u001b[0m \u001b[38;5;28;01mfor\u001b[39;00m epoch \u001b[38;5;129;01min\u001b[39;00m \u001b[38;5;28mrange\u001b[39m(\u001b[38;5;241m20\u001b[39m):\n\u001b[1;32m     16\u001b[0m     \u001b[38;5;28mprint\u001b[39m(\u001b[38;5;124mf\u001b[39m\u001b[38;5;124m\"\u001b[39m\u001b[38;5;124mEpoch \u001b[39m\u001b[38;5;132;01m{\u001b[39;00mepoch\u001b[38;5;132;01m}\u001b[39;00m\u001b[38;5;124m\"\u001b[39m)\n\u001b[0;32m---> 17\u001b[0m     ds \u001b[38;5;241m=\u001b[39m \u001b[43mcreate_train_dataset\u001b[49m\u001b[43m(\u001b[49m\u001b[43mmodel\u001b[49m\u001b[43m,\u001b[49m\u001b[43m \u001b[49m\u001b[43mtrain_data\u001b[49m\u001b[43m,\u001b[49m\u001b[43m \u001b[49m\u001b[38;5;28;43;01mNone\u001b[39;49;00m\u001b[43m,\u001b[49m\u001b[43m \u001b[49m\u001b[43munlabelled_data\u001b[49m\u001b[38;5;241;43m=\u001b[39;49m\u001b[43munlabelled\u001b[49m\u001b[38;5;241;43m.\u001b[39;49m\u001b[43mOCR\u001b[49m\u001b[43m,\u001b[49m\u001b[43m \u001b[49m\u001b[43mbatch_size\u001b[49m\u001b[38;5;241;43m=\u001b[39;49m\u001b[38;5;241;43m32\u001b[39;49m\u001b[43m)\u001b[49m\n\u001b[1;32m     18\u001b[0m     model\u001b[38;5;241m.\u001b[39mfit(ds, epochs\u001b[38;5;241m=\u001b[39m\u001b[38;5;241m1\u001b[39m)\n\u001b[1;32m     19\u001b[0m     seconds_since_epoch \u001b[38;5;241m=\u001b[39m (datetime\u001b[38;5;241m.\u001b[39mnow() \u001b[38;5;241m-\u001b[39m datetime(\u001b[38;5;241m1970\u001b[39m,\u001b[38;5;241m1\u001b[39m,\u001b[38;5;241m1\u001b[39m))\u001b[38;5;241m.\u001b[39mtotal_seconds()\n",
      "Cell \u001b[0;32mIn[12], line 65\u001b[0m, in \u001b[0;36mcreate_train_dataset\u001b[0;34m(model, labelled_data, generated_data, unlabelled_data, batch_size)\u001b[0m\n\u001b[1;32m     63\u001b[0m \u001b[38;5;28;01mif\u001b[39;00m unlabelled_data \u001b[38;5;129;01mis\u001b[39;00m \u001b[38;5;129;01mnot\u001b[39;00m \u001b[38;5;28;01mNone\u001b[39;00m:\n\u001b[1;32m     64\u001b[0m     unlabelled_sample \u001b[38;5;241m=\u001b[39m unlabelled_data\u001b[38;5;241m.\u001b[39msample(n\u001b[38;5;241m=\u001b[39m\u001b[38;5;28mlen\u001b[39m(labelled_data) \u001b[38;5;241m/\u001b[39m\u001b[38;5;241m/\u001b[39m \u001b[38;5;241m10\u001b[39m)\u001b[38;5;241m.\u001b[39mvalues\n\u001b[0;32m---> 65\u001b[0m     unlabelled_targets \u001b[38;5;241m=\u001b[39m \u001b[43mmodel\u001b[49m\u001b[38;5;241;43m.\u001b[39;49m\u001b[43mpredict\u001b[49m\u001b[43m(\u001b[49m\u001b[43munlabelled_sample\u001b[49m\u001b[43m,\u001b[49m\u001b[43m \u001b[49m\u001b[43mbatch_size\u001b[49m\u001b[38;5;241;43m=\u001b[39;49m\u001b[43mbatch_size\u001b[49m\u001b[43m \u001b[49m\u001b[38;5;241;43m*\u001b[39;49m\u001b[43m \u001b[49m\u001b[38;5;241;43m8\u001b[39;49m\u001b[43m)\u001b[49m\n\u001b[1;32m     66\u001b[0m     unlabelled_target_datasets \u001b[38;5;241m=\u001b[39m [tf\u001b[38;5;241m.\u001b[39mdata\u001b[38;5;241m.\u001b[39mDataset\u001b[38;5;241m.\u001b[39mfrom_tensor_slices(t) \u001b[38;5;28;01mfor\u001b[39;00m t \u001b[38;5;129;01min\u001b[39;00m unlabelled_targets]\n\u001b[1;32m     67\u001b[0m     unlabelled_sample_weight_datasets \u001b[38;5;241m=\u001b[39m [tf\u001b[38;5;241m.\u001b[39mdata\u001b[38;5;241m.\u001b[39mDataset\u001b[38;5;241m.\u001b[39mfrom_tensor_slices(np\u001b[38;5;241m.\u001b[39mones(\u001b[38;5;28mlen\u001b[39m(unlabelled_sample))) \u001b[38;5;28;01mfor\u001b[39;00m _ \u001b[38;5;129;01min\u001b[39;00m \u001b[38;5;28mrange\u001b[39m(settings\u001b[38;5;241m.\u001b[39mDEEPEST_LEVEL)]\n",
      "File \u001b[0;32m~/lp/algori/retrain_bert/venv/lib/python3.11/site-packages/keras/src/utils/traceback_utils.py:65\u001b[0m, in \u001b[0;36mfilter_traceback.<locals>.error_handler\u001b[0;34m(*args, **kwargs)\u001b[0m\n\u001b[1;32m     63\u001b[0m filtered_tb \u001b[38;5;241m=\u001b[39m \u001b[38;5;28;01mNone\u001b[39;00m\n\u001b[1;32m     64\u001b[0m \u001b[38;5;28;01mtry\u001b[39;00m:\n\u001b[0;32m---> 65\u001b[0m     \u001b[38;5;28;01mreturn\u001b[39;00m \u001b[43mfn\u001b[49m\u001b[43m(\u001b[49m\u001b[38;5;241;43m*\u001b[39;49m\u001b[43margs\u001b[49m\u001b[43m,\u001b[49m\u001b[43m \u001b[49m\u001b[38;5;241;43m*\u001b[39;49m\u001b[38;5;241;43m*\u001b[39;49m\u001b[43mkwargs\u001b[49m\u001b[43m)\u001b[49m\n\u001b[1;32m     66\u001b[0m \u001b[38;5;28;01mexcept\u001b[39;00m \u001b[38;5;167;01mException\u001b[39;00m \u001b[38;5;28;01mas\u001b[39;00m e:\n\u001b[1;32m     67\u001b[0m     filtered_tb \u001b[38;5;241m=\u001b[39m _process_traceback_frames(e\u001b[38;5;241m.\u001b[39m__traceback__)\n",
      "File \u001b[0;32m~/lp/algori/retrain_bert/venv/lib/python3.11/site-packages/keras/src/engine/training.py:2631\u001b[0m, in \u001b[0;36mModel.predict\u001b[0;34m(self, x, batch_size, verbose, steps, callbacks, max_queue_size, workers, use_multiprocessing)\u001b[0m\n\u001b[1;32m   2629\u001b[0m \u001b[38;5;28;01mfor\u001b[39;00m step \u001b[38;5;129;01min\u001b[39;00m data_handler\u001b[38;5;241m.\u001b[39msteps():\n\u001b[1;32m   2630\u001b[0m     callbacks\u001b[38;5;241m.\u001b[39mon_predict_batch_begin(step)\n\u001b[0;32m-> 2631\u001b[0m     tmp_batch_outputs \u001b[38;5;241m=\u001b[39m \u001b[38;5;28;43mself\u001b[39;49m\u001b[38;5;241;43m.\u001b[39;49m\u001b[43mpredict_function\u001b[49m\u001b[43m(\u001b[49m\u001b[43miterator\u001b[49m\u001b[43m)\u001b[49m\n\u001b[1;32m   2632\u001b[0m     \u001b[38;5;28;01mif\u001b[39;00m data_handler\u001b[38;5;241m.\u001b[39mshould_sync:\n\u001b[1;32m   2633\u001b[0m         context\u001b[38;5;241m.\u001b[39masync_wait()\n",
      "File \u001b[0;32m~/lp/algori/retrain_bert/venv/lib/python3.11/site-packages/tensorflow/python/util/traceback_utils.py:150\u001b[0m, in \u001b[0;36mfilter_traceback.<locals>.error_handler\u001b[0;34m(*args, **kwargs)\u001b[0m\n\u001b[1;32m    148\u001b[0m filtered_tb \u001b[38;5;241m=\u001b[39m \u001b[38;5;28;01mNone\u001b[39;00m\n\u001b[1;32m    149\u001b[0m \u001b[38;5;28;01mtry\u001b[39;00m:\n\u001b[0;32m--> 150\u001b[0m   \u001b[38;5;28;01mreturn\u001b[39;00m \u001b[43mfn\u001b[49m\u001b[43m(\u001b[49m\u001b[38;5;241;43m*\u001b[39;49m\u001b[43margs\u001b[49m\u001b[43m,\u001b[49m\u001b[43m \u001b[49m\u001b[38;5;241;43m*\u001b[39;49m\u001b[38;5;241;43m*\u001b[39;49m\u001b[43mkwargs\u001b[49m\u001b[43m)\u001b[49m\n\u001b[1;32m    151\u001b[0m \u001b[38;5;28;01mexcept\u001b[39;00m \u001b[38;5;167;01mException\u001b[39;00m \u001b[38;5;28;01mas\u001b[39;00m e:\n\u001b[1;32m    152\u001b[0m   filtered_tb \u001b[38;5;241m=\u001b[39m _process_traceback_frames(e\u001b[38;5;241m.\u001b[39m__traceback__)\n",
      "File \u001b[0;32m~/lp/algori/retrain_bert/venv/lib/python3.11/site-packages/tensorflow/python/eager/polymorphic_function/polymorphic_function.py:831\u001b[0m, in \u001b[0;36mFunction.__call__\u001b[0;34m(self, *args, **kwds)\u001b[0m\n\u001b[1;32m    828\u001b[0m compiler \u001b[38;5;241m=\u001b[39m \u001b[38;5;124m\"\u001b[39m\u001b[38;5;124mxla\u001b[39m\u001b[38;5;124m\"\u001b[39m \u001b[38;5;28;01mif\u001b[39;00m \u001b[38;5;28mself\u001b[39m\u001b[38;5;241m.\u001b[39m_jit_compile \u001b[38;5;28;01melse\u001b[39;00m \u001b[38;5;124m\"\u001b[39m\u001b[38;5;124mnonXla\u001b[39m\u001b[38;5;124m\"\u001b[39m\n\u001b[1;32m    830\u001b[0m \u001b[38;5;28;01mwith\u001b[39;00m OptionalXlaContext(\u001b[38;5;28mself\u001b[39m\u001b[38;5;241m.\u001b[39m_jit_compile):\n\u001b[0;32m--> 831\u001b[0m   result \u001b[38;5;241m=\u001b[39m \u001b[38;5;28;43mself\u001b[39;49m\u001b[38;5;241;43m.\u001b[39;49m\u001b[43m_call\u001b[49m\u001b[43m(\u001b[49m\u001b[38;5;241;43m*\u001b[39;49m\u001b[43margs\u001b[49m\u001b[43m,\u001b[49m\u001b[43m \u001b[49m\u001b[38;5;241;43m*\u001b[39;49m\u001b[38;5;241;43m*\u001b[39;49m\u001b[43mkwds\u001b[49m\u001b[43m)\u001b[49m\n\u001b[1;32m    833\u001b[0m new_tracing_count \u001b[38;5;241m=\u001b[39m \u001b[38;5;28mself\u001b[39m\u001b[38;5;241m.\u001b[39mexperimental_get_tracing_count()\n\u001b[1;32m    834\u001b[0m without_tracing \u001b[38;5;241m=\u001b[39m (tracing_count \u001b[38;5;241m==\u001b[39m new_tracing_count)\n",
      "File \u001b[0;32m~/lp/algori/retrain_bert/venv/lib/python3.11/site-packages/tensorflow/python/eager/polymorphic_function/polymorphic_function.py:876\u001b[0m, in \u001b[0;36mFunction._call\u001b[0;34m(self, *args, **kwds)\u001b[0m\n\u001b[1;32m    873\u001b[0m \u001b[38;5;28mself\u001b[39m\u001b[38;5;241m.\u001b[39m_lock\u001b[38;5;241m.\u001b[39mrelease()\n\u001b[1;32m    874\u001b[0m \u001b[38;5;66;03m# In this case we have not created variables on the first call. So we can\u001b[39;00m\n\u001b[1;32m    875\u001b[0m \u001b[38;5;66;03m# run the first trace but we should fail if variables are created.\u001b[39;00m\n\u001b[0;32m--> 876\u001b[0m results \u001b[38;5;241m=\u001b[39m \u001b[43mtracing_compilation\u001b[49m\u001b[38;5;241;43m.\u001b[39;49m\u001b[43mcall_function\u001b[49m\u001b[43m(\u001b[49m\n\u001b[1;32m    877\u001b[0m \u001b[43m    \u001b[49m\u001b[43margs\u001b[49m\u001b[43m,\u001b[49m\u001b[43m \u001b[49m\u001b[43mkwds\u001b[49m\u001b[43m,\u001b[49m\u001b[43m \u001b[49m\u001b[38;5;28;43mself\u001b[39;49m\u001b[38;5;241;43m.\u001b[39;49m\u001b[43m_variable_creation_config\u001b[49m\n\u001b[1;32m    878\u001b[0m \u001b[43m\u001b[49m\u001b[43m)\u001b[49m\n\u001b[1;32m    879\u001b[0m \u001b[38;5;28;01mif\u001b[39;00m \u001b[38;5;28mself\u001b[39m\u001b[38;5;241m.\u001b[39m_created_variables:\n\u001b[1;32m    880\u001b[0m   \u001b[38;5;28;01mraise\u001b[39;00m \u001b[38;5;167;01mValueError\u001b[39;00m(\u001b[38;5;124m\"\u001b[39m\u001b[38;5;124mCreating variables on a non-first call to a function\u001b[39m\u001b[38;5;124m\"\u001b[39m\n\u001b[1;32m    881\u001b[0m                    \u001b[38;5;124m\"\u001b[39m\u001b[38;5;124m decorated with tf.function.\u001b[39m\u001b[38;5;124m\"\u001b[39m)\n",
      "File \u001b[0;32m~/lp/algori/retrain_bert/venv/lib/python3.11/site-packages/tensorflow/python/eager/polymorphic_function/tracing_compilation.py:139\u001b[0m, in \u001b[0;36mcall_function\u001b[0;34m(args, kwargs, tracing_options)\u001b[0m\n\u001b[1;32m    137\u001b[0m bound_args \u001b[38;5;241m=\u001b[39m function\u001b[38;5;241m.\u001b[39mfunction_type\u001b[38;5;241m.\u001b[39mbind(\u001b[38;5;241m*\u001b[39margs, \u001b[38;5;241m*\u001b[39m\u001b[38;5;241m*\u001b[39mkwargs)\n\u001b[1;32m    138\u001b[0m flat_inputs \u001b[38;5;241m=\u001b[39m function\u001b[38;5;241m.\u001b[39mfunction_type\u001b[38;5;241m.\u001b[39munpack_inputs(bound_args)\n\u001b[0;32m--> 139\u001b[0m \u001b[38;5;28;01mreturn\u001b[39;00m \u001b[43mfunction\u001b[49m\u001b[38;5;241;43m.\u001b[39;49m\u001b[43m_call_flat\u001b[49m\u001b[43m(\u001b[49m\u001b[43m  \u001b[49m\u001b[38;5;66;43;03m# pylint: disable=protected-access\u001b[39;49;00m\n\u001b[1;32m    140\u001b[0m \u001b[43m    \u001b[49m\u001b[43mflat_inputs\u001b[49m\u001b[43m,\u001b[49m\u001b[43m \u001b[49m\u001b[43mcaptured_inputs\u001b[49m\u001b[38;5;241;43m=\u001b[39;49m\u001b[43mfunction\u001b[49m\u001b[38;5;241;43m.\u001b[39;49m\u001b[43mcaptured_inputs\u001b[49m\n\u001b[1;32m    141\u001b[0m \u001b[43m\u001b[49m\u001b[43m)\u001b[49m\n",
      "File \u001b[0;32m~/lp/algori/retrain_bert/venv/lib/python3.11/site-packages/tensorflow/python/eager/polymorphic_function/concrete_function.py:1264\u001b[0m, in \u001b[0;36mConcreteFunction._call_flat\u001b[0;34m(self, tensor_inputs, captured_inputs)\u001b[0m\n\u001b[1;32m   1260\u001b[0m possible_gradient_type \u001b[38;5;241m=\u001b[39m gradients_util\u001b[38;5;241m.\u001b[39mPossibleTapeGradientTypes(args)\n\u001b[1;32m   1261\u001b[0m \u001b[38;5;28;01mif\u001b[39;00m (possible_gradient_type \u001b[38;5;241m==\u001b[39m gradients_util\u001b[38;5;241m.\u001b[39mPOSSIBLE_GRADIENT_TYPES_NONE\n\u001b[1;32m   1262\u001b[0m     \u001b[38;5;129;01mand\u001b[39;00m executing_eagerly):\n\u001b[1;32m   1263\u001b[0m   \u001b[38;5;66;03m# No tape is watching; skip to running the function.\u001b[39;00m\n\u001b[0;32m-> 1264\u001b[0m   \u001b[38;5;28;01mreturn\u001b[39;00m \u001b[38;5;28;43mself\u001b[39;49m\u001b[38;5;241;43m.\u001b[39;49m\u001b[43m_inference_function\u001b[49m\u001b[38;5;241;43m.\u001b[39;49m\u001b[43mflat_call\u001b[49m\u001b[43m(\u001b[49m\u001b[43margs\u001b[49m\u001b[43m)\u001b[49m\n\u001b[1;32m   1265\u001b[0m forward_backward \u001b[38;5;241m=\u001b[39m \u001b[38;5;28mself\u001b[39m\u001b[38;5;241m.\u001b[39m_select_forward_and_backward_functions(\n\u001b[1;32m   1266\u001b[0m     args,\n\u001b[1;32m   1267\u001b[0m     possible_gradient_type,\n\u001b[1;32m   1268\u001b[0m     executing_eagerly)\n\u001b[1;32m   1269\u001b[0m forward_function, args_with_tangents \u001b[38;5;241m=\u001b[39m forward_backward\u001b[38;5;241m.\u001b[39mforward()\n",
      "File \u001b[0;32m~/lp/algori/retrain_bert/venv/lib/python3.11/site-packages/tensorflow/python/eager/polymorphic_function/atomic_function.py:217\u001b[0m, in \u001b[0;36mAtomicFunction.flat_call\u001b[0;34m(self, args)\u001b[0m\n\u001b[1;32m    215\u001b[0m \u001b[38;5;28;01mdef\u001b[39;00m \u001b[38;5;21mflat_call\u001b[39m(\u001b[38;5;28mself\u001b[39m, args: Sequence[core\u001b[38;5;241m.\u001b[39mTensor]) \u001b[38;5;241m-\u001b[39m\u001b[38;5;241m>\u001b[39m Any:\n\u001b[1;32m    216\u001b[0m \u001b[38;5;250m  \u001b[39m\u001b[38;5;124;03m\"\"\"Calls with tensor inputs and returns the structured output.\"\"\"\u001b[39;00m\n\u001b[0;32m--> 217\u001b[0m   flat_outputs \u001b[38;5;241m=\u001b[39m \u001b[38;5;28;43mself\u001b[39;49m\u001b[43m(\u001b[49m\u001b[38;5;241;43m*\u001b[39;49m\u001b[43margs\u001b[49m\u001b[43m)\u001b[49m\n\u001b[1;32m    218\u001b[0m   \u001b[38;5;28;01mreturn\u001b[39;00m \u001b[38;5;28mself\u001b[39m\u001b[38;5;241m.\u001b[39mfunction_type\u001b[38;5;241m.\u001b[39mpack_output(flat_outputs)\n",
      "File \u001b[0;32m~/lp/algori/retrain_bert/venv/lib/python3.11/site-packages/tensorflow/python/eager/polymorphic_function/atomic_function.py:252\u001b[0m, in \u001b[0;36mAtomicFunction.__call__\u001b[0;34m(self, *args)\u001b[0m\n\u001b[1;32m    250\u001b[0m \u001b[38;5;28;01mwith\u001b[39;00m record\u001b[38;5;241m.\u001b[39mstop_recording():\n\u001b[1;32m    251\u001b[0m   \u001b[38;5;28;01mif\u001b[39;00m \u001b[38;5;28mself\u001b[39m\u001b[38;5;241m.\u001b[39m_bound_context\u001b[38;5;241m.\u001b[39mexecuting_eagerly():\n\u001b[0;32m--> 252\u001b[0m     outputs \u001b[38;5;241m=\u001b[39m \u001b[38;5;28;43mself\u001b[39;49m\u001b[38;5;241;43m.\u001b[39;49m\u001b[43m_bound_context\u001b[49m\u001b[38;5;241;43m.\u001b[39;49m\u001b[43mcall_function\u001b[49m\u001b[43m(\u001b[49m\n\u001b[1;32m    253\u001b[0m \u001b[43m        \u001b[49m\u001b[38;5;28;43mself\u001b[39;49m\u001b[38;5;241;43m.\u001b[39;49m\u001b[43mname\u001b[49m\u001b[43m,\u001b[49m\n\u001b[1;32m    254\u001b[0m \u001b[43m        \u001b[49m\u001b[38;5;28;43mlist\u001b[39;49m\u001b[43m(\u001b[49m\u001b[43margs\u001b[49m\u001b[43m)\u001b[49m\u001b[43m,\u001b[49m\n\u001b[1;32m    255\u001b[0m \u001b[43m        \u001b[49m\u001b[38;5;28;43mlen\u001b[39;49m\u001b[43m(\u001b[49m\u001b[38;5;28;43mself\u001b[39;49m\u001b[38;5;241;43m.\u001b[39;49m\u001b[43mfunction_type\u001b[49m\u001b[38;5;241;43m.\u001b[39;49m\u001b[43mflat_outputs\u001b[49m\u001b[43m)\u001b[49m\u001b[43m,\u001b[49m\n\u001b[1;32m    256\u001b[0m \u001b[43m    \u001b[49m\u001b[43m)\u001b[49m\n\u001b[1;32m    257\u001b[0m   \u001b[38;5;28;01melse\u001b[39;00m:\n\u001b[1;32m    258\u001b[0m     outputs \u001b[38;5;241m=\u001b[39m make_call_op_in_graph(\n\u001b[1;32m    259\u001b[0m         \u001b[38;5;28mself\u001b[39m,\n\u001b[1;32m    260\u001b[0m         \u001b[38;5;28mlist\u001b[39m(args),\n\u001b[1;32m    261\u001b[0m         \u001b[38;5;28mself\u001b[39m\u001b[38;5;241m.\u001b[39m_bound_context\u001b[38;5;241m.\u001b[39mfunction_call_options\u001b[38;5;241m.\u001b[39mas_attrs(),\n\u001b[1;32m    262\u001b[0m     )\n",
      "File \u001b[0;32m~/lp/algori/retrain_bert/venv/lib/python3.11/site-packages/tensorflow/python/eager/context.py:1479\u001b[0m, in \u001b[0;36mContext.call_function\u001b[0;34m(self, name, tensor_inputs, num_outputs)\u001b[0m\n\u001b[1;32m   1477\u001b[0m cancellation_context \u001b[38;5;241m=\u001b[39m cancellation\u001b[38;5;241m.\u001b[39mcontext()\n\u001b[1;32m   1478\u001b[0m \u001b[38;5;28;01mif\u001b[39;00m cancellation_context \u001b[38;5;129;01mis\u001b[39;00m \u001b[38;5;28;01mNone\u001b[39;00m:\n\u001b[0;32m-> 1479\u001b[0m   outputs \u001b[38;5;241m=\u001b[39m \u001b[43mexecute\u001b[49m\u001b[38;5;241;43m.\u001b[39;49m\u001b[43mexecute\u001b[49m\u001b[43m(\u001b[49m\n\u001b[1;32m   1480\u001b[0m \u001b[43m      \u001b[49m\u001b[43mname\u001b[49m\u001b[38;5;241;43m.\u001b[39;49m\u001b[43mdecode\u001b[49m\u001b[43m(\u001b[49m\u001b[38;5;124;43m\"\u001b[39;49m\u001b[38;5;124;43mutf-8\u001b[39;49m\u001b[38;5;124;43m\"\u001b[39;49m\u001b[43m)\u001b[49m\u001b[43m,\u001b[49m\n\u001b[1;32m   1481\u001b[0m \u001b[43m      \u001b[49m\u001b[43mnum_outputs\u001b[49m\u001b[38;5;241;43m=\u001b[39;49m\u001b[43mnum_outputs\u001b[49m\u001b[43m,\u001b[49m\n\u001b[1;32m   1482\u001b[0m \u001b[43m      \u001b[49m\u001b[43minputs\u001b[49m\u001b[38;5;241;43m=\u001b[39;49m\u001b[43mtensor_inputs\u001b[49m\u001b[43m,\u001b[49m\n\u001b[1;32m   1483\u001b[0m \u001b[43m      \u001b[49m\u001b[43mattrs\u001b[49m\u001b[38;5;241;43m=\u001b[39;49m\u001b[43mattrs\u001b[49m\u001b[43m,\u001b[49m\n\u001b[1;32m   1484\u001b[0m \u001b[43m      \u001b[49m\u001b[43mctx\u001b[49m\u001b[38;5;241;43m=\u001b[39;49m\u001b[38;5;28;43mself\u001b[39;49m\u001b[43m,\u001b[49m\n\u001b[1;32m   1485\u001b[0m \u001b[43m  \u001b[49m\u001b[43m)\u001b[49m\n\u001b[1;32m   1486\u001b[0m \u001b[38;5;28;01melse\u001b[39;00m:\n\u001b[1;32m   1487\u001b[0m   outputs \u001b[38;5;241m=\u001b[39m execute\u001b[38;5;241m.\u001b[39mexecute_with_cancellation(\n\u001b[1;32m   1488\u001b[0m       name\u001b[38;5;241m.\u001b[39mdecode(\u001b[38;5;124m\"\u001b[39m\u001b[38;5;124mutf-8\u001b[39m\u001b[38;5;124m\"\u001b[39m),\n\u001b[1;32m   1489\u001b[0m       num_outputs\u001b[38;5;241m=\u001b[39mnum_outputs,\n\u001b[0;32m   (...)\u001b[0m\n\u001b[1;32m   1493\u001b[0m       cancellation_manager\u001b[38;5;241m=\u001b[39mcancellation_context,\n\u001b[1;32m   1494\u001b[0m   )\n",
      "File \u001b[0;32m~/lp/algori/retrain_bert/venv/lib/python3.11/site-packages/tensorflow/python/eager/execute.py:60\u001b[0m, in \u001b[0;36mquick_execute\u001b[0;34m(op_name, num_outputs, inputs, attrs, ctx, name)\u001b[0m\n\u001b[1;32m     53\u001b[0m   \u001b[38;5;66;03m# Convert any objects of type core_types.Tensor to Tensor.\u001b[39;00m\n\u001b[1;32m     54\u001b[0m   inputs \u001b[38;5;241m=\u001b[39m [\n\u001b[1;32m     55\u001b[0m       tensor_conversion_registry\u001b[38;5;241m.\u001b[39mconvert(t)\n\u001b[1;32m     56\u001b[0m       \u001b[38;5;28;01mif\u001b[39;00m \u001b[38;5;28misinstance\u001b[39m(t, core_types\u001b[38;5;241m.\u001b[39mTensor)\n\u001b[1;32m     57\u001b[0m       \u001b[38;5;28;01melse\u001b[39;00m t\n\u001b[1;32m     58\u001b[0m       \u001b[38;5;28;01mfor\u001b[39;00m t \u001b[38;5;129;01min\u001b[39;00m inputs\n\u001b[1;32m     59\u001b[0m   ]\n\u001b[0;32m---> 60\u001b[0m   tensors \u001b[38;5;241m=\u001b[39m \u001b[43mpywrap_tfe\u001b[49m\u001b[38;5;241;43m.\u001b[39;49m\u001b[43mTFE_Py_Execute\u001b[49m\u001b[43m(\u001b[49m\u001b[43mctx\u001b[49m\u001b[38;5;241;43m.\u001b[39;49m\u001b[43m_handle\u001b[49m\u001b[43m,\u001b[49m\u001b[43m \u001b[49m\u001b[43mdevice_name\u001b[49m\u001b[43m,\u001b[49m\u001b[43m \u001b[49m\u001b[43mop_name\u001b[49m\u001b[43m,\u001b[49m\n\u001b[1;32m     61\u001b[0m \u001b[43m                                      \u001b[49m\u001b[43minputs\u001b[49m\u001b[43m,\u001b[49m\u001b[43m \u001b[49m\u001b[43mattrs\u001b[49m\u001b[43m,\u001b[49m\u001b[43m \u001b[49m\u001b[43mnum_outputs\u001b[49m\u001b[43m)\u001b[49m\n\u001b[1;32m     62\u001b[0m \u001b[38;5;28;01mexcept\u001b[39;00m core\u001b[38;5;241m.\u001b[39m_NotOkStatusException \u001b[38;5;28;01mas\u001b[39;00m e:\n\u001b[1;32m     63\u001b[0m   \u001b[38;5;28;01mif\u001b[39;00m name \u001b[38;5;129;01mis\u001b[39;00m \u001b[38;5;129;01mnot\u001b[39;00m \u001b[38;5;28;01mNone\u001b[39;00m:\n",
      "\u001b[0;31mKeyboardInterrupt\u001b[0m: "
     ]
    }
   ],
   "source": [
    "from datetime import datetime\n",
    "\n",
    "val_sample = val_data.sample(n=10000)\n",
    "val_sample_labels = make_targets(val_sample)\n",
    "\n",
    "for layer in model.layers:\n",
    "    layer.trainable = True\n",
    "\n",
    "model.compile(\n",
    "    optimizer=tf.keras.optimizers.Adam(learning_rate=1e-5),\n",
    "    loss=\"categorical_crossentropy\",\n",
    "    metrics=[\"accuracy\"]\n",
    ")\n",
    "\n",
    "for epoch in range(20):\n",
    "    print(f\"Epoch {epoch}\")\n",
    "    ds = create_train_dataset(model, train_data, None, unlabelled_data=unlabelled.OCR, batch_size=32)\n",
    "    model.fit(ds, epochs=1)\n",
    "    seconds_since_epoch = (datetime.now() - datetime(1970,1,1)).total_seconds()\n",
    "    model.save(settings.PROJECT_DIR / f\"models/bert_{seconds_since_epoch}.keras\")"
   ]
  }
 ],
 "metadata": {
  "kernelspec": {
   "display_name": "Python 3 (ipykernel)",
   "language": "python",
   "name": "python3"
  },
  "language_info": {
   "codemirror_mode": {
    "name": "ipython",
    "version": 3
   },
   "file_extension": ".py",
   "mimetype": "text/x-python",
   "name": "python",
   "nbconvert_exporter": "python",
   "pygments_lexer": "ipython3",
   "version": "3.11.6"
  }
 },
 "nbformat": 4,
 "nbformat_minor": 2
}
