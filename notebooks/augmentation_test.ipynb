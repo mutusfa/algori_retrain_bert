{
 "cells": [
  {
   "cell_type": "code",
   "execution_count": 1,
   "metadata": {},
   "outputs": [],
   "source": [
    "#import bert\n",
    "#import bert.run_classifier, bert.optimization, bert.tokenization\n",
    "from official.nlp.tools import tokenization\n",
    "import fasttext\n",
    "import numpy as np\n",
    "import pandas as pd\n",
    "import sklearn\n",
    "import sklearn.linear_model\n",
    "from sklearn.metrics import accuracy_score\n",
    "from sklearn.model_selection import train_test_split, cross_val_score\n",
    "import sklearn.multioutput\n",
    "import tensorflow_text as text  # tf registers ops on import\n",
    "import tensorflow as tf\n",
    "import tensorflow_hub as hub\n",
    "import transformers\n",
    "import official.nlp\n",
    "\n",
    "from retrain_bert import settings\n",
    "from retrain_bert.preprocessor import load_labels"
   ]
  },
  {
   "cell_type": "code",
   "execution_count": 2,
   "metadata": {},
   "outputs": [
    {
     "name": "stderr",
     "output_type": "stream",
     "text": [
      "Read 0M words\n",
      "Number of words:  10597\n",
      "Number of labels: 0\n",
      "Progress: 100.0% words/sec/thread:  144876 lr:  0.000000 avg.loss:  2.344322 ETA:   0h 0m 0s\n"
     ]
    },
    {
     "data": {
      "text/plain": [
       "[(0.9858386516571045, 'COCA-COLA'),\n",
       " (0.9580371975898743, 'C.COLA'),\n",
       " (0.9579880237579346, 'COLA'),\n",
       " (0.953836977481842, '\"COCA-COLA'),\n",
       " (0.9526646137237549, 'CCOLA'),\n",
       " (0.9510554075241089, '\"CCOLA'),\n",
       " (0.9508345127105713, '\"C.COLA'),\n",
       " (0.9497575759887695, '\"COLA'),\n",
       " (0.9407392740249634, 'COCA'),\n",
       " (0.9332975149154663, '\"COCA')]"
      ]
     },
     "execution_count": 2,
     "metadata": {},
     "output_type": "execute_result"
    }
   ],
   "source": [
    "ft_model = fasttext.train_unsupervised(str(settings.PROJECT_DIR / \"data/train/ocr_values.txt\"))\n",
    "ft_model.get_nearest_neighbors(\"COCACOLA\")"
   ]
  },
  {
   "cell_type": "code",
   "execution_count": 3,
   "metadata": {},
   "outputs": [
    {
     "data": {
      "text/plain": [
       "[(0.9698216915130615, 'F.LECHE'),\n",
       " (0.9546820521354675, 'LECH'),\n",
       " (0.9491689801216125, 'C/LECHE'),\n",
       " (0.9330211281776428, 'CH.LECHE'),\n",
       " (0.9276202321052551, '\"LECHE'),\n",
       " (0.9107973575592041, 'SUN/LECHE'),\n",
       " (0.9106990098953247, 'LECHERA'),\n",
       " (0.9016475081443787, 'CHO.LECHE'),\n",
       " (0.8994547128677368, 'LEC'),\n",
       " (0.8812580108642578, 'LECHO')]"
      ]
     },
     "execution_count": 3,
     "metadata": {},
     "output_type": "execute_result"
    }
   ],
   "source": [
    "ft_model.get_nearest_neighbors(\"LECHE\")"
   ]
  },
  {
   "cell_type": "code",
   "execution_count": 4,
   "metadata": {},
   "outputs": [
    {
     "data": {
      "text/plain": [
       "[(0.9407394528388977, 'COCACOLA'),\n",
       " (0.924970805644989, 'COCA-COLA'),\n",
       " (0.896226167678833, '\"COCA'),\n",
       " (0.8849631547927856, 'COC.IFA'),\n",
       " (0.8837031722068787, 'COCER'),\n",
       " (0.8750007152557373, 'OCA'),\n",
       " (0.8747854828834534, 'COC.'),\n",
       " (0.8695996403694153, 'COLA'),\n",
       " (0.8668878674507141, 'COLADA'),\n",
       " (0.8580245971679688, '\"COCA-COLA')]"
      ]
     },
     "execution_count": 4,
     "metadata": {},
     "output_type": "execute_result"
    }
   ],
   "source": [
    "ft_model.get_nearest_neighbors(\"COCA\")"
   ]
  },
  {
   "cell_type": "code",
   "execution_count": 9,
   "metadata": {},
   "outputs": [],
   "source": [
    "ft_model.save_model(str(settings.PROJECT_DIR / \"models/fasttext_model.bin\"))"
   ]
  },
  {
   "cell_type": "code",
   "execution_count": null,
   "metadata": {},
   "outputs": [],
   "source": [
    "train_data, val_data = train_test_split(pd.read_csv(settings.PROJECT_DIR / \"data/train/train.csv\"))\n",
    "labels = load_labels()"
   ]
  }
 ],
 "metadata": {
  "kernelspec": {
   "display_name": "Python 3.10.5 ('venv': venv)",
   "language": "python",
   "name": "python3"
  },
  "language_info": {
   "codemirror_mode": {
    "name": "ipython",
    "version": 3
   },
   "file_extension": ".py",
   "mimetype": "text/x-python",
   "name": "python",
   "nbconvert_exporter": "python",
   "pygments_lexer": "ipython3",
   "version": "3.10.6"
  },
  "orig_nbformat": 4,
  "vscode": {
   "interpreter": {
    "hash": "86ab8d4916c4a5da2793c6264341d61f20680658314f07d96ed1da85891f63f8"
   }
  }
 },
 "nbformat": 4,
 "nbformat_minor": 2
}
