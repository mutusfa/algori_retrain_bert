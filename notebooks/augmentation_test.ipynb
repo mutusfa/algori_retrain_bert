{
 "cells": [
  {
   "cell_type": "code",
   "execution_count": 1,
   "metadata": {},
   "outputs": [],
   "source": [
    "#import bert\n",
    "#import bert.run_classifier, bert.optimization, bert.tokenization\n",
    "from official.nlp.tools import tokenization\n",
    "import fasttext\n",
    "import numpy as np\n",
    "import pandas as pd\n",
    "import sklearn\n",
    "import sklearn.linear_model\n",
    "from sklearn.metrics import accuracy_score\n",
    "from sklearn.model_selection import train_test_split, cross_val_score\n",
    "import sklearn.multioutput\n",
    "import tensorflow_text as text  # tf registers ops on import\n",
    "import tensorflow as tf\n",
    "import tensorflow_hub as hub\n",
    "import transformers\n",
    "import official.nlp\n",
    "\n",
    "from retrain_bert import settings\n",
    "from retrain_bert.preprocessor import load_labels"
   ]
  },
  {
   "cell_type": "code",
   "execution_count": 3,
   "metadata": {},
   "outputs": [
    {
     "name": "stderr",
     "output_type": "stream",
     "text": [
      "Read 53M words\n",
      "Number of words:  388809\n",
      "Number of labels: 0\n",
      "Progress: 100.0% words/sec/thread:   76664 lr:  0.000000 avg.loss:  0.959023 ETA:   0h 0m 0s 20.6% words/sec/thread:   75169 lr:  0.039702 avg.loss:  1.428123 ETA:   0h 6m45s 88.1% words/sec/thread:   77647 lr:  0.005964 avg.loss:  1.004195 ETA:   0h 0m58s 97.4% words/sec/thread:   77118 lr:  0.001297 avg.loss:  0.967889 ETA:   0h 0m12s\n"
     ]
    },
    {
     "ename": "KeyboardInterrupt",
     "evalue": "",
     "output_type": "error",
     "traceback": [
      "\u001b[0;31m---------------------------------------------------------------------------\u001b[0m",
      "\u001b[0;31mKeyboardInterrupt\u001b[0m                         Traceback (most recent call last)",
      "\u001b[1;32m/home/julius/lp/algori/retrain_bert/notebooks/augmentation_test.ipynb Cell 2\u001b[0m in \u001b[0;36m<cell line: 1>\u001b[0;34m()\u001b[0m\n\u001b[0;32m----> <a href='vscode-notebook-cell:/home/julius/lp/algori/retrain_bert/notebooks/augmentation_test.ipynb#W1sZmlsZQ%3D%3D?line=0'>1</a>\u001b[0m ft_model \u001b[39m=\u001b[39m fasttext\u001b[39m.\u001b[39;49mtrain_unsupervised(\u001b[39mstr\u001b[39;49m(settings\u001b[39m.\u001b[39;49mPROJECT_DIR \u001b[39m/\u001b[39;49m \u001b[39m\"\u001b[39;49m\u001b[39mdata/train/ocr_values.txt\u001b[39;49m\u001b[39m\"\u001b[39;49m))\n\u001b[1;32m      <a href='vscode-notebook-cell:/home/julius/lp/algori/retrain_bert/notebooks/augmentation_test.ipynb#W1sZmlsZQ%3D%3D?line=1'>2</a>\u001b[0m ft_model\u001b[39m.\u001b[39mget_nearest_neighbors(\u001b[39m\"\u001b[39m\u001b[39mCOCACOLA\u001b[39m\u001b[39m\"\u001b[39m)\n",
      "File \u001b[0;32m~/lp/algori/retrain_bert/venv/lib/python3.10/site-packages/fasttext/FastText.py:559\u001b[0m, in \u001b[0;36mtrain_unsupervised\u001b[0;34m(*kargs, **kwargs)\u001b[0m\n\u001b[1;32m    557\u001b[0m a \u001b[39m=\u001b[39m _build_args(args, manually_set_args)\n\u001b[1;32m    558\u001b[0m ft \u001b[39m=\u001b[39m _FastText(args\u001b[39m=\u001b[39ma)\n\u001b[0;32m--> 559\u001b[0m fasttext\u001b[39m.\u001b[39;49mtrain(ft\u001b[39m.\u001b[39;49mf, a)\n\u001b[1;32m    560\u001b[0m ft\u001b[39m.\u001b[39mset_args(ft\u001b[39m.\u001b[39mf\u001b[39m.\u001b[39mgetArgs())\n\u001b[1;32m    561\u001b[0m \u001b[39mreturn\u001b[39;00m ft\n",
      "\u001b[0;31mKeyboardInterrupt\u001b[0m: "
     ]
    }
   ],
   "source": [
    "ft_model = fasttext.train_unsupervised(str(settings.PROJECT_DIR / \"data/train/ocr_values.txt\"))\n",
    "ft_model.get_nearest_neighbors(\"COCACOLA\")"
   ]
  },
  {
   "cell_type": "code",
   "execution_count": 5,
   "metadata": {},
   "outputs": [
    {
     "data": {
      "text/plain": [
       "[(0.9280210733413696, 'CDLA'),\n",
       " (0.9173718094825745, 'C0LA'),\n",
       " (0.9056563973426819, 'CCLA'),\n",
       " (0.8977223634719849, 'COCA~COLA'),\n",
       " (0.8891436457633972, 'COLACOLA'),\n",
       " (0.8874726891517639, '*COLA'),\n",
       " (0.8862571716308594, 'COCA_COLA'),\n",
       " (0.8846409916877747, 'COCA-DCOLA'),\n",
       " (0.8823016285896301, '|COLA'),\n",
       " (0.8804470896720886, 'CDCACOLA')]"
      ]
     },
     "execution_count": 5,
     "metadata": {},
     "output_type": "execute_result"
    }
   ],
   "source": [
    "get_nearest_neighbors(\"COCACOLA\")"
   ]
  },
  {
   "cell_type": "code",
   "execution_count": null,
   "metadata": {},
   "outputs": [],
   "source": [
    "train_data, val_data = train_test_split(pd.read_csv(settings.PROJECT_DIR / \"data/train/train.csv\"))\n",
    "labels = load_labels()"
   ]
  }
 ],
 "metadata": {
  "kernelspec": {
   "display_name": "Python 3.10.5 ('venv': venv)",
   "language": "python",
   "name": "python3"
  },
  "language_info": {
   "codemirror_mode": {
    "name": "ipython",
    "version": 3
   },
   "file_extension": ".py",
   "mimetype": "text/x-python",
   "name": "python",
   "nbconvert_exporter": "python",
   "pygments_lexer": "ipython3",
   "version": "3.10.5"
  },
  "orig_nbformat": 4,
  "vscode": {
   "interpreter": {
    "hash": "86ab8d4916c4a5da2793c6264341d61f20680658314f07d96ed1da85891f63f8"
   }
  }
 },
 "nbformat": 4,
 "nbformat_minor": 2
}
