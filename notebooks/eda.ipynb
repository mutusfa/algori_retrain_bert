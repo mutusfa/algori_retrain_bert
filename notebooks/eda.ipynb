{
 "cells": [
  {
   "cell_type": "code",
   "execution_count": 1,
   "metadata": {},
   "outputs": [
    {
     "name": "stderr",
     "output_type": "stream",
     "text": [
      "[nltk_data] Downloading package stopwords to /home/julius/nltk_data...\n",
      "[nltk_data]   Package stopwords is already up-to-date!\n"
     ]
    },
    {
     "data": {
      "text/plain": [
       "True"
      ]
     },
     "execution_count": 1,
     "metadata": {},
     "output_type": "execute_result"
    }
   ],
   "source": [
    "import io\n",
    "from collections import Counter\n",
    "\n",
    "import matplotlib.pyplot as plt\n",
    "import nltk\n",
    "from nltk.util import ngrams\n",
    "import pandas as pd\n",
    "import plotly.graph_objects as go\n",
    "from pygtrie import CharTrie\n",
    "from pygtrie import ShortKeyError\n",
    "import seaborn as sns\n",
    "from sklearn.feature_extraction.text import CountVectorizer\n",
    "from sklearn.metrics import f1_score, recall_score\n",
    "from sklearn.model_selection import train_test_split\n",
    "\n",
    "from retrain_bert import settings\n",
    "from retrain_bert.inference import categories_to_ids_table, chunk_it, InferenceModel\n",
    "\n",
    "nltk.download('stopwords')"
   ]
  },
  {
   "cell_type": "code",
   "execution_count": 2,
   "metadata": {},
   "outputs": [],
   "source": [
    "classified_ocr = pd.read_csv(settings.PROJECT_DIR / 'data/raw/classified_ocr.csv', dtype={\"Category_BERT\": str, \"Category_MasterProduct\": str})"
   ]
  },
  {
   "cell_type": "code",
   "execution_count": 3,
   "metadata": {},
   "outputs": [
    {
     "data": {
      "text/html": [
       "<div>\n",
       "<style scoped>\n",
       "    .dataframe tbody tr th:only-of-type {\n",
       "        vertical-align: middle;\n",
       "    }\n",
       "\n",
       "    .dataframe tbody tr th {\n",
       "        vertical-align: top;\n",
       "    }\n",
       "\n",
       "    .dataframe thead th {\n",
       "        text-align: right;\n",
       "    }\n",
       "</style>\n",
       "<table border=\"1\" class=\"dataframe\">\n",
       "  <thead>\n",
       "    <tr style=\"text-align: right;\">\n",
       "      <th></th>\n",
       "      <th>MappingGroupId</th>\n",
       "      <th>OcrValueId</th>\n",
       "      <th>OcrValue</th>\n",
       "      <th>ReceiptCount</th>\n",
       "      <th>Language</th>\n",
       "      <th>Category_BERT</th>\n",
       "      <th>VerifiedAt</th>\n",
       "      <th>BarcodeRequestId</th>\n",
       "      <th>ProductId</th>\n",
       "      <th>Category_MasterProduct</th>\n",
       "      <th>Brand</th>\n",
       "    </tr>\n",
       "  </thead>\n",
       "  <tbody>\n",
       "    <tr>\n",
       "      <th>0</th>\n",
       "      <td>56</td>\n",
       "      <td>72911</td>\n",
       "      <td>PATATA ROJA</td>\n",
       "      <td>1038</td>\n",
       "      <td>es</td>\n",
       "      <td>0206020501</td>\n",
       "      <td>2021-12-14</td>\n",
       "      <td>2460</td>\n",
       "      <td>316654</td>\n",
       "      <td>02060205</td>\n",
       "      <td>NaN</td>\n",
       "    </tr>\n",
       "    <tr>\n",
       "      <th>1</th>\n",
       "      <td>56</td>\n",
       "      <td>72911</td>\n",
       "      <td>PATATA ROJA</td>\n",
       "      <td>1038</td>\n",
       "      <td>es</td>\n",
       "      <td>0206020501</td>\n",
       "      <td>2021-12-14</td>\n",
       "      <td>29634</td>\n",
       "      <td>316654</td>\n",
       "      <td>02060205</td>\n",
       "      <td>NaN</td>\n",
       "    </tr>\n",
       "    <tr>\n",
       "      <th>2</th>\n",
       "      <td>56</td>\n",
       "      <td>730245</td>\n",
       "      <td>CRISPY CHICKEN</td>\n",
       "      <td>176</td>\n",
       "      <td>es</td>\n",
       "      <td>0202</td>\n",
       "      <td>2021-12-14</td>\n",
       "      <td>7155</td>\n",
       "      <td>316646</td>\n",
       "      <td>02040504</td>\n",
       "      <td>NaN</td>\n",
       "    </tr>\n",
       "    <tr>\n",
       "      <th>3</th>\n",
       "      <td>56</td>\n",
       "      <td>730245</td>\n",
       "      <td>CRISPY CHICKEN</td>\n",
       "      <td>176</td>\n",
       "      <td>es</td>\n",
       "      <td>0202</td>\n",
       "      <td>2021-12-14</td>\n",
       "      <td>170356</td>\n",
       "      <td>316646</td>\n",
       "      <td>02040504</td>\n",
       "      <td>NaN</td>\n",
       "    </tr>\n",
       "    <tr>\n",
       "      <th>4</th>\n",
       "      <td>56</td>\n",
       "      <td>45025</td>\n",
       "      <td>LOMO IBÉRICO ADOB</td>\n",
       "      <td>222</td>\n",
       "      <td>es</td>\n",
       "      <td>020102</td>\n",
       "      <td>2021-12-14</td>\n",
       "      <td>2873</td>\n",
       "      <td>316640</td>\n",
       "      <td>02010203</td>\n",
       "      <td>NaN</td>\n",
       "    </tr>\n",
       "  </tbody>\n",
       "</table>\n",
       "</div>"
      ],
      "text/plain": [
       "   MappingGroupId  OcrValueId           OcrValue  ReceiptCount Language  \\\n",
       "0              56       72911        PATATA ROJA          1038       es   \n",
       "1              56       72911        PATATA ROJA          1038       es   \n",
       "2              56      730245     CRISPY CHICKEN           176       es   \n",
       "3              56      730245     CRISPY CHICKEN           176       es   \n",
       "4              56       45025  LOMO IBÉRICO ADOB           222       es   \n",
       "\n",
       "  Category_BERT  VerifiedAt  BarcodeRequestId  ProductId  \\\n",
       "0    0206020501  2021-12-14              2460     316654   \n",
       "1    0206020501  2021-12-14             29634     316654   \n",
       "2          0202  2021-12-14              7155     316646   \n",
       "3          0202  2021-12-14            170356     316646   \n",
       "4        020102  2021-12-14              2873     316640   \n",
       "\n",
       "  Category_MasterProduct Brand  \n",
       "0               02060205   NaN  \n",
       "1               02060205   NaN  \n",
       "2               02040504   NaN  \n",
       "3               02040504   NaN  \n",
       "4               02010203   NaN  "
      ]
     },
     "execution_count": 3,
     "metadata": {},
     "output_type": "execute_result"
    }
   ],
   "source": [
    "classified_ocr.head()"
   ]
  },
  {
   "cell_type": "code",
   "execution_count": 4,
   "metadata": {},
   "outputs": [
    {
     "data": {
      "image/png": "[encoded data removed]",
      "text/plain": [
       "<Figure size 432x288 with 1 Axes>"
      ]
     },
     "metadata": {},
     "output_type": "display_data"
    }
   ],
   "source": [
    "sns.histplot(data=classified_ocr, x=classified_ocr.ReceiptCount + 1, log_scale=True)\n",
    "#plt.xscale('log')\n",
    "plt.show()"
   ]
  },
  {
   "cell_type": "code",
   "execution_count": 5,
   "metadata": {},
   "outputs": [
    {
     "data": {
      "image/png": "[encoded data removed]",
      "text/plain": [
       "<Figure size 432x288 with 1 Axes>"
      ]
     },
     "metadata": {},
     "output_type": "display_data"
    }
   ],
   "source": [
    "by_category = classified_ocr.groupby('Category_MasterProduct')['ReceiptCount'].sum()\n",
    "sns.histplot(data=by_category, log_scale=(True, False))#, x=\"ReceiptCount\")\n",
    "#plt.xscale('log')\n",
    "plt.show()"
   ]
  },
  {
   "cell_type": "code",
   "execution_count": 6,
   "metadata": {},
   "outputs": [
    {
     "data": {
      "text/plain": [
       "(1629,)"
      ]
     },
     "execution_count": 6,
     "metadata": {},
     "output_type": "execute_result"
    }
   ],
   "source": [
    "classified_ocr.Category_MasterProduct.unique().shape"
   ]
  },
  {
   "cell_type": "code",
   "execution_count": 7,
   "metadata": {},
   "outputs": [
    {
     "data": {
      "text/plain": [
       "1552"
      ]
     },
     "execution_count": 7,
     "metadata": {},
     "output_type": "execute_result"
    }
   ],
   "source": [
    "(by_category > 100).sum()"
   ]
  },
  {
   "cell_type": "code",
   "execution_count": 8,
   "metadata": {},
   "outputs": [
    {
     "data": {
      "text/plain": [
       "<AxesSubplot:xlabel='OcrValue', ylabel='Count'>"
      ]
     },
     "execution_count": 8,
     "metadata": {},
     "output_type": "execute_result"
    },
    {
     "data": {
      "image/png": "[encoded data removed]",
      "text/plain": [
       "<Figure size 432x288 with 1 Axes>"
      ]
     },
     "metadata": {},
     "output_type": "display_data"
    }
   ],
   "source": [
    "sns.histplot(x=classified_ocr.OcrValue.str.len(), discrete=True)"
   ]
  },
  {
   "cell_type": "code",
   "execution_count": 9,
   "metadata": {},
   "outputs": [
    {
     "data": {
      "text/plain": [
       "<AxesSubplot:xlabel='OcrValue', ylabel='Count'>"
      ]
     },
     "execution_count": 9,
     "metadata": {},
     "output_type": "execute_result"
    },
    {
     "data": {
      "image/png": "[encoded data removed]",
      "text/plain": [
       "<Figure size 432x288 with 1 Axes>"
      ]
     },
     "metadata": {},
     "output_type": "display_data"
    }
   ],
   "source": [
    "sns.histplot(x=classified_ocr.OcrValue.str.split().str.len(), discrete=True)"
   ]
  },
  {
   "cell_type": "code",
   "execution_count": 10,
   "metadata": {},
   "outputs": [
    {
     "data": {
      "text/plain": [
       "[('DE', 2222),\n",
       " ('LECHE', 1764),\n",
       " ('AGUA', 1235),\n",
       " ('1L', 1169),\n",
       " ('QUESO', 1063),\n",
       " ('PAN', 930),\n",
       " ('ZERO', 921),\n",
       " ('COLA', 905),\n",
       " ('G', 758),\n",
       " ('DIA', 735),\n",
       " ('NARANJA', 697),\n",
       " ('L', 692),\n",
       " ('POLLO', 667),\n",
       " ('1', 656),\n",
       " ('TOMATE', 648),\n",
       " ('ALIPENDE', 647),\n",
       " ('GALLETA', 619),\n",
       " ('CHOCO', 590),\n",
       " ('BEBIDA', 553),\n",
       " ('NATURAL', 544),\n",
       " ('LA', 535),\n",
       " ('YOGUR', 534),\n",
       " ('SEMI', 520),\n",
       " ('MINI', 506),\n",
       " ('PIZZA', 505),\n",
       " ('LIMON', 504),\n",
       " ('CONSUM', 487),\n",
       " ('CHOCOLATE', 485),\n",
       " ('ZUMO', 475),\n",
       " ('FRESA', 474),\n",
       " ('CON', 472),\n",
       " ('2', 468),\n",
       " ('ARROZ', 467),\n",
       " ('CERVEZA', 450),\n",
       " ('SIN', 441),\n",
       " ('NATA', 435),\n",
       " ('CREMA', 431),\n",
       " ('LATA', 413),\n",
       " ('1,5L', 409),\n",
       " ('COCA', 406)]"
      ]
     },
     "execution_count": 10,
     "metadata": {},
     "output_type": "execute_result"
    }
   ],
   "source": [
    "word_counts = Counter()\n",
    "for ocr_value in classified_ocr.OcrValue:\n",
    "    word_counts.update(ocr_value.strip().split())\n",
    "word_counts.most_common(40)"
   ]
  },
  {
   "cell_type": "code",
   "execution_count": 11,
   "metadata": {},
   "outputs": [],
   "source": [
    "stopwords = nltk.corpus.stopwords.words('spanish')\n",
    "\n",
    "def most_common_ngrams(corpus, n=2, ignore=stopwords):\n",
    "    count_vect = CountVectorizer(ngram_range=(n, n), stop_words=ignore)\n",
    "    count_vect.fit(io.StringIO(corpus))\n",
    "    freqs = count_vect.transform(io.StringIO(corpus))\n",
    "    freqs = freqs.sum(axis=0)\n",
    "    # countvectorizer doesn't seem to give predictable order\n",
    "    words_list = [word for word in count_vect.vocabulary_.keys()]\n",
    "    freq_list = [freqs[0, idx] for idx in count_vect.vocabulary_.values()]\n",
    "    words_freq = pd.Series(index=words_list, data=freq_list)\n",
    "    return words_freq.sort_values(ascending=False)"
   ]
  },
  {
   "cell_type": "code",
   "execution_count": 12,
   "metadata": {},
   "outputs": [
    {
     "data": {
      "text/plain": [
       "leche      2158\n",
       "agua       1327\n",
       "1l         1307\n",
       "queso      1272\n",
       "cola       1233\n",
       "           ... \n",
       "muralla       1\n",
       "110ml         1\n",
       "laise         1\n",
       "burr          1\n",
       "tomt          1\n",
       "Length: 13215, dtype: int64"
      ]
     },
     "execution_count": 12,
     "metadata": {},
     "output_type": "execute_result"
    }
   ],
   "source": [
    "f = most_common_ngrams(classified_ocr.OcrValue.str.cat(sep='\\n'), n=1)\n",
    "f"
   ]
  },
  {
   "cell_type": "code",
   "execution_count": 13,
   "metadata": {},
   "outputs": [
    {
     "data": {
      "text/plain": [
       "(20,)"
      ]
     },
     "execution_count": 13,
     "metadata": {},
     "output_type": "execute_result"
    }
   ],
   "source": [
    "classified_ocr.MappingGroupId.unique().shape"
   ]
  },
  {
   "cell_type": "code",
   "execution_count": 14,
   "metadata": {},
   "outputs": [
    {
     "data": {
      "text/html": [
       "<div>\n",
       "<style scoped>\n",
       "    .dataframe tbody tr th:only-of-type {\n",
       "        vertical-align: middle;\n",
       "    }\n",
       "\n",
       "    .dataframe tbody tr th {\n",
       "        vertical-align: top;\n",
       "    }\n",
       "\n",
       "    .dataframe thead th {\n",
       "        text-align: right;\n",
       "    }\n",
       "</style>\n",
       "<table border=\"1\" class=\"dataframe\">\n",
       "  <thead>\n",
       "    <tr style=\"text-align: right;\">\n",
       "      <th></th>\n",
       "      <th>MappingGroupId</th>\n",
       "      <th>OcrValueId</th>\n",
       "      <th>OcrValue</th>\n",
       "      <th>ReceiptCount</th>\n",
       "      <th>Language</th>\n",
       "      <th>Category_BERT</th>\n",
       "      <th>VerifiedAt</th>\n",
       "      <th>BarcodeRequestId</th>\n",
       "      <th>ProductId</th>\n",
       "      <th>Category_MasterProduct</th>\n",
       "      <th>Brand</th>\n",
       "    </tr>\n",
       "  </thead>\n",
       "  <tbody>\n",
       "    <tr>\n",
       "      <th>0</th>\n",
       "      <td>56</td>\n",
       "      <td>72911</td>\n",
       "      <td>PATATA ROJA</td>\n",
       "      <td>1038</td>\n",
       "      <td>es</td>\n",
       "      <td>0206020501</td>\n",
       "      <td>2021-12-14</td>\n",
       "      <td>2460</td>\n",
       "      <td>316654</td>\n",
       "      <td>02060205</td>\n",
       "      <td>NaN</td>\n",
       "    </tr>\n",
       "    <tr>\n",
       "      <th>1</th>\n",
       "      <td>56</td>\n",
       "      <td>72911</td>\n",
       "      <td>PATATA ROJA</td>\n",
       "      <td>1038</td>\n",
       "      <td>es</td>\n",
       "      <td>0206020501</td>\n",
       "      <td>2021-12-14</td>\n",
       "      <td>29634</td>\n",
       "      <td>316654</td>\n",
       "      <td>02060205</td>\n",
       "      <td>NaN</td>\n",
       "    </tr>\n",
       "    <tr>\n",
       "      <th>2</th>\n",
       "      <td>56</td>\n",
       "      <td>730245</td>\n",
       "      <td>CRISPY CHICKEN</td>\n",
       "      <td>176</td>\n",
       "      <td>es</td>\n",
       "      <td>0202</td>\n",
       "      <td>2021-12-14</td>\n",
       "      <td>7155</td>\n",
       "      <td>316646</td>\n",
       "      <td>02040504</td>\n",
       "      <td>NaN</td>\n",
       "    </tr>\n",
       "    <tr>\n",
       "      <th>3</th>\n",
       "      <td>56</td>\n",
       "      <td>730245</td>\n",
       "      <td>CRISPY CHICKEN</td>\n",
       "      <td>176</td>\n",
       "      <td>es</td>\n",
       "      <td>0202</td>\n",
       "      <td>2021-12-14</td>\n",
       "      <td>170356</td>\n",
       "      <td>316646</td>\n",
       "      <td>02040504</td>\n",
       "      <td>NaN</td>\n",
       "    </tr>\n",
       "    <tr>\n",
       "      <th>4</th>\n",
       "      <td>56</td>\n",
       "      <td>45025</td>\n",
       "      <td>LOMO IBÉRICO ADOB</td>\n",
       "      <td>222</td>\n",
       "      <td>es</td>\n",
       "      <td>020102</td>\n",
       "      <td>2021-12-14</td>\n",
       "      <td>2873</td>\n",
       "      <td>316640</td>\n",
       "      <td>02010203</td>\n",
       "      <td>NaN</td>\n",
       "    </tr>\n",
       "    <tr>\n",
       "      <th>...</th>\n",
       "      <td>...</td>\n",
       "      <td>...</td>\n",
       "      <td>...</td>\n",
       "      <td>...</td>\n",
       "      <td>...</td>\n",
       "      <td>...</td>\n",
       "      <td>...</td>\n",
       "      <td>...</td>\n",
       "      <td>...</td>\n",
       "      <td>...</td>\n",
       "      <td>...</td>\n",
       "    </tr>\n",
       "    <tr>\n",
       "      <th>61600</th>\n",
       "      <td>56</td>\n",
       "      <td>7123212</td>\n",
       "      <td>CAMPLLONG LECHE</td>\n",
       "      <td>21</td>\n",
       "      <td>es</td>\n",
       "      <td>01030101</td>\n",
       "      <td>2022-03-22</td>\n",
       "      <td>173084</td>\n",
       "      <td>347597</td>\n",
       "      <td>0103010103</td>\n",
       "      <td>Campllong</td>\n",
       "    </tr>\n",
       "    <tr>\n",
       "      <th>61601</th>\n",
       "      <td>56</td>\n",
       "      <td>7821681</td>\n",
       "      <td>AGROS LECHE ENTERA</td>\n",
       "      <td>12</td>\n",
       "      <td>es</td>\n",
       "      <td>0103010101</td>\n",
       "      <td>2022-05-12</td>\n",
       "      <td>242408</td>\n",
       "      <td>354527</td>\n",
       "      <td>0103010101</td>\n",
       "      <td>Agros</td>\n",
       "    </tr>\n",
       "    <tr>\n",
       "      <th>61602</th>\n",
       "      <td>56</td>\n",
       "      <td>7615157</td>\n",
       "      <td>AGROS DESNATADA</td>\n",
       "      <td>29</td>\n",
       "      <td>es</td>\n",
       "      <td>0103010102</td>\n",
       "      <td>2022-04-01</td>\n",
       "      <td>185939</td>\n",
       "      <td>347599</td>\n",
       "      <td>0103010102</td>\n",
       "      <td>Agros</td>\n",
       "    </tr>\n",
       "    <tr>\n",
       "      <th>61603</th>\n",
       "      <td>56</td>\n",
       "      <td>7615157</td>\n",
       "      <td>AGROS DESNATADA</td>\n",
       "      <td>29</td>\n",
       "      <td>es</td>\n",
       "      <td>0103010102</td>\n",
       "      <td>2022-04-01</td>\n",
       "      <td>269782</td>\n",
       "      <td>347599</td>\n",
       "      <td>0103010102</td>\n",
       "      <td>Agros</td>\n",
       "    </tr>\n",
       "    <tr>\n",
       "      <th>61604</th>\n",
       "      <td>56</td>\n",
       "      <td>8281851</td>\n",
       "      <td>ATHLETE AGUA</td>\n",
       "      <td>57</td>\n",
       "      <td>es</td>\n",
       "      <td>01040101</td>\n",
       "      <td>2022-05-04</td>\n",
       "      <td>200127</td>\n",
       "      <td>354487</td>\n",
       "      <td>0104010101</td>\n",
       "      <td>Athlete Agua</td>\n",
       "    </tr>\n",
       "  </tbody>\n",
       "</table>\n",
       "<p>61605 rows × 11 columns</p>\n",
       "</div>"
      ],
      "text/plain": [
       "       MappingGroupId  OcrValueId            OcrValue  ReceiptCount Language  \\\n",
       "0                  56       72911         PATATA ROJA          1038       es   \n",
       "1                  56       72911         PATATA ROJA          1038       es   \n",
       "2                  56      730245      CRISPY CHICKEN           176       es   \n",
       "3                  56      730245      CRISPY CHICKEN           176       es   \n",
       "4                  56       45025   LOMO IBÉRICO ADOB           222       es   \n",
       "...               ...         ...                 ...           ...      ...   \n",
       "61600              56     7123212     CAMPLLONG LECHE            21       es   \n",
       "61601              56     7821681  AGROS LECHE ENTERA            12       es   \n",
       "61602              56     7615157     AGROS DESNATADA            29       es   \n",
       "61603              56     7615157     AGROS DESNATADA            29       es   \n",
       "61604              56     8281851        ATHLETE AGUA            57       es   \n",
       "\n",
       "      Category_BERT  VerifiedAt  BarcodeRequestId  ProductId  \\\n",
       "0        0206020501  2021-12-14              2460     316654   \n",
       "1        0206020501  2021-12-14             29634     316654   \n",
       "2              0202  2021-12-14              7155     316646   \n",
       "3              0202  2021-12-14            170356     316646   \n",
       "4            020102  2021-12-14              2873     316640   \n",
       "...             ...         ...               ...        ...   \n",
       "61600      01030101  2022-03-22            173084     347597   \n",
       "61601    0103010101  2022-05-12            242408     354527   \n",
       "61602    0103010102  2022-04-01            185939     347599   \n",
       "61603    0103010102  2022-04-01            269782     347599   \n",
       "61604      01040101  2022-05-04            200127     354487   \n",
       "\n",
       "      Category_MasterProduct         Brand  \n",
       "0                   02060205           NaN  \n",
       "1                   02060205           NaN  \n",
       "2                   02040504           NaN  \n",
       "3                   02040504           NaN  \n",
       "4                   02010203           NaN  \n",
       "...                      ...           ...  \n",
       "61600             0103010103     Campllong  \n",
       "61601             0103010101         Agros  \n",
       "61602             0103010102         Agros  \n",
       "61603             0103010102         Agros  \n",
       "61604             0104010101  Athlete Agua  \n",
       "\n",
       "[61605 rows x 11 columns]"
      ]
     },
     "execution_count": 14,
     "metadata": {},
     "output_type": "execute_result"
    }
   ],
   "source": [
    "classified_ocr"
   ]
  },
  {
   "cell_type": "code",
   "execution_count": 15,
   "metadata": {},
   "outputs": [
    {
     "data": {
      "text/plain": [
       "(40861, 11)"
      ]
     },
     "execution_count": 15,
     "metadata": {},
     "output_type": "execute_result"
    }
   ],
   "source": [
    "classified_ocr.drop_duplicates(subset=['OcrValueId', 'MappingGroupId', 'Category_MasterProduct'], inplace=True)\n",
    "classified_ocr.shape"
   ]
  },
  {
   "cell_type": "code",
   "execution_count": 16,
   "metadata": {},
   "outputs": [
    {
     "data": {
      "text/plain": [
       "1338"
      ]
     },
     "execution_count": 16,
     "metadata": {},
     "output_type": "execute_result"
    }
   ],
   "source": [
    "classified_ocr.Category_MasterProduct.isna().sum()"
   ]
  },
  {
   "cell_type": "code",
   "execution_count": 17,
   "metadata": {},
   "outputs": [
    {
     "data": {
      "text/plain": [
       "15"
      ]
     },
     "execution_count": 17,
     "metadata": {},
     "output_type": "execute_result"
    }
   ],
   "source": [
    "classified_ocr.Category_BERT.isna().sum()"
   ]
  },
  {
   "cell_type": "code",
   "execution_count": 18,
   "metadata": {},
   "outputs": [
    {
     "data": {
      "text/plain": [
       "(39509, 11)"
      ]
     },
     "execution_count": 18,
     "metadata": {},
     "output_type": "execute_result"
    }
   ],
   "source": [
    "classified_ocr.dropna(subset=['Category_MasterProduct', 'Category_BERT'], inplace=True)\n",
    "classified_ocr.shape"
   ]
  },
  {
   "cell_type": "code",
   "execution_count": 19,
   "metadata": {},
   "outputs": [],
   "source": [
    "def chunk_string(string, chunk_size):\n",
    "    return [string[i:i+chunk_size] for i in range(0, len(string), chunk_size)]\n",
    "\n",
    "def split_into_categories(category_code, num_categories=5):\n",
    "    categories = chunk_string(category_code, 2)\n",
    "    categories += [None] * (num_categories - len(categories))\n",
    "    if len(categories) != num_categories:\n",
    "        print(categories)\n",
    "    return categories"
   ]
  },
  {
   "cell_type": "code",
   "execution_count": 20,
   "metadata": {},
   "outputs": [
    {
     "data": {
      "text/plain": [
       "['02', '06', '02', '05', None]"
      ]
     },
     "execution_count": 20,
     "metadata": {},
     "output_type": "execute_result"
    }
   ],
   "source": [
    "split_into_categories(\"02060205\")"
   ]
  },
  {
   "cell_type": "code",
   "execution_count": 21,
   "metadata": {},
   "outputs": [
    {
     "name": "stdout",
     "output_type": "stream",
     "text": [
      "Sankey description:\n",
      "             value\n",
      "count  1628.000000\n",
      "mean     24.268428\n",
      "std      42.094734\n",
      "min       1.000000\n",
      "25%       4.000000\n",
      "50%      10.000000\n",
      "75%      28.000000\n",
      "max     696.000000\n"
     ]
    },
    {
     "data": {
      "text/html": [
       "<div>\n",
       "<style scoped>\n",
       "    .dataframe tbody tr th:only-of-type {\n",
       "        vertical-align: middle;\n",
       "    }\n",
       "\n",
       "    .dataframe tbody tr th {\n",
       "        vertical-align: top;\n",
       "    }\n",
       "\n",
       "    .dataframe thead th {\n",
       "        text-align: right;\n",
       "    }\n",
       "</style>\n",
       "<table border=\"1\" class=\"dataframe\">\n",
       "  <thead>\n",
       "    <tr style=\"text-align: right;\">\n",
       "      <th></th>\n",
       "      <th>source</th>\n",
       "      <th>target</th>\n",
       "      <th>value</th>\n",
       "    </tr>\n",
       "  </thead>\n",
       "  <tbody>\n",
       "    <tr>\n",
       "      <th>1</th>\n",
       "      <td></td>\n",
       "      <td>01</td>\n",
       "      <td>61719</td>\n",
       "    </tr>\n",
       "    <tr>\n",
       "      <th>2</th>\n",
       "      <td></td>\n",
       "      <td>02</td>\n",
       "      <td>28200</td>\n",
       "    </tr>\n",
       "    <tr>\n",
       "      <th>3</th>\n",
       "      <td></td>\n",
       "      <td>03</td>\n",
       "      <td>10341</td>\n",
       "    </tr>\n",
       "    <tr>\n",
       "      <th>4</th>\n",
       "      <td></td>\n",
       "      <td>04</td>\n",
       "      <td>1660</td>\n",
       "    </tr>\n",
       "    <tr>\n",
       "      <th>5</th>\n",
       "      <td>01</td>\n",
       "      <td>0101</td>\n",
       "      <td>19167</td>\n",
       "    </tr>\n",
       "    <tr>\n",
       "      <th>...</th>\n",
       "      <td>...</td>\n",
       "      <td>...</td>\n",
       "      <td>...</td>\n",
       "    </tr>\n",
       "    <tr>\n",
       "      <th>1709</th>\n",
       "      <td>04081603</td>\n",
       "      <td>0408160302</td>\n",
       "      <td>4</td>\n",
       "    </tr>\n",
       "    <tr>\n",
       "      <th>1710</th>\n",
       "      <td>04081603</td>\n",
       "      <td>0408160306</td>\n",
       "      <td>7</td>\n",
       "    </tr>\n",
       "    <tr>\n",
       "      <th>1711</th>\n",
       "      <td>0409</td>\n",
       "      <td>040917</td>\n",
       "      <td>332</td>\n",
       "    </tr>\n",
       "    <tr>\n",
       "      <th>1712</th>\n",
       "      <td>040917</td>\n",
       "      <td>04091701</td>\n",
       "      <td>166</td>\n",
       "    </tr>\n",
       "    <tr>\n",
       "      <th>1713</th>\n",
       "      <td>04091701</td>\n",
       "      <td>0409170101</td>\n",
       "      <td>81</td>\n",
       "    </tr>\n",
       "  </tbody>\n",
       "</table>\n",
       "<p>1713 rows × 3 columns</p>\n",
       "</div>"
      ],
      "text/plain": [
       "        source      target  value\n",
       "1                       01  61719\n",
       "2                       02  28200\n",
       "3                       03  10341\n",
       "4                       04   1660\n",
       "5           01        0101  19167\n",
       "...        ...         ...    ...\n",
       "1709  04081603  0408160302      4\n",
       "1710  04081603  0408160306      7\n",
       "1711      0409      040917    332\n",
       "1712    040917    04091701    166\n",
       "1713  04091701  0409170101     81\n",
       "\n",
       "[1713 rows x 3 columns]"
      ]
     },
     "execution_count": 21,
     "metadata": {},
     "output_type": "execute_result"
    }
   ],
   "source": [
    "sankey_values = []\n",
    "for idx, row in classified_ocr.iterrows():\n",
    "    categories = split_into_categories(row.Category_MasterProduct)\n",
    "    sankey_values.append(\n",
    "        {\n",
    "            \"target\": row.Category_MasterProduct,\n",
    "            \"source\": row.Category_MasterProduct[:-2],\n",
    "        }\n",
    "    )\n",
    "sankey_df = pd.DataFrame(sankey_values)\n",
    "sankey_df[\"value\"] = 1\n",
    "sankey_df = sankey_df.groupby([\"source\", \"target\"]).count().reset_index()\n",
    "\n",
    "\n",
    "print(\"Sankey description:\")\n",
    "print(sankey_df.describe())\n",
    "\n",
    "\n",
    "sankey_df = sankey_df.sort_values(by=[\"source\", \"target\"]).reset_index(drop=True)\n",
    "\n",
    "# add missing sources\n",
    "missing_sources = set(sankey_df.source) - set(sankey_df.target)\n",
    "while len(missing_sources) > 1:\n",
    "    # start by filling in most specific categories\n",
    "    missing_sources = sorted(missing_sources, key=len, reverse=True)\n",
    "    missing_sankeys = []\n",
    "    for source in missing_sources:\n",
    "        loc = sankey_df.source == source\n",
    "        missing_sankeys.append(\n",
    "            # we'll add downsteam values later\n",
    "            {\"source\": source[:-2], \"target\": source, \"value\": 0}\n",
    "        )\n",
    "    sankey_df = pd.concat([sankey_df, pd.DataFrame(missing_sankeys)])\n",
    "    missing_sources = set(sankey_df.source) - set(sankey_df.target)\n",
    "\n",
    "\n",
    "sankey_df = sankey_df.sort_values(by=[\"source\", \"target\"]).reset_index(drop=True)\n",
    "\n",
    "# add downstream values\n",
    "for row in sankey_df[::-1].itertuples(index=True):\n",
    "    idx = row.Index\n",
    "    while idx < len(sankey_df) and sankey_df.loc[idx, \"source\"] != row.target:\n",
    "        idx += 1\n",
    "    if idx < len(sankey_df):\n",
    "        summed_values = sankey_df.loc[idx, \"value\"]\n",
    "        while idx < len(sankey_df) and sankey_df.loc[idx, \"source\"] == row.target:\n",
    "            summed_values += sankey_df.loc[idx, \"value\"]\n",
    "            idx += 1\n",
    "        sankey_df.loc[row.Index, \"value\"] += summed_values\n",
    "\n",
    "if sankey_df.loc[0, \"source\"] == sankey_df.loc[0, \"target\"]:\n",
    "    sankey_df = sankey_df.loc[1:]\n",
    "\n",
    "\n",
    "sankey_df"
   ]
  },
  {
   "cell_type": "code",
   "execution_count": 22,
   "metadata": {},
   "outputs": [],
   "source": [
    "def parent_categories(category_code):\n",
    "    for i in range(len(category_code) // 2):\n",
    "        yield category_code[:-2*i]\n",
    "\n",
    "labels = set(classified_ocr.Category_MasterProduct.unique())\n",
    "for cat in classified_ocr.Category_MasterProduct.unique():\n",
    "    labels = labels.union(parent_categories(cat))\n",
    "labels = sorted(labels)\n",
    "labels_table = {l: idx for idx, l in enumerate(labels)}"
   ]
  },
  {
   "cell_type": "code",
   "execution_count": 23,
   "metadata": {},
   "outputs": [
    {
     "name": "stdout",
     "output_type": "stream",
     "text": [
      "188\n"
     ]
    }
   ],
   "source": [
    "use_for_plot = sankey_df[sankey_df.target.str.len() < 8]\n",
    "\n",
    "print(len(use_for_plot))\n",
    "\n",
    "sources = [labels_table[s] for s in use_for_plot.source]\n",
    "targets = [labels_table[t] for t in use_for_plot.target]"
   ]
  },
  {
   "cell_type": "code",
   "execution_count": 24,
   "metadata": {},
   "outputs": [
    {
     "data": {
      "application/vnd.plotly.v1+json": {
       "config": {
        "plotlyServerURL": "https://plot.ly"
       },
       "data": [
        {
         "link": {
          "source": [
           0,
           0,
           0,
           0,
           1,
           1,
           1,
           1,
           2,
           2,
           2,
           2,
           2,
           2,
           2,
           2,
           2,
           2,
           2,
           2,
           2,
           2,
           2,
           2,
           2,
           2,
           2,
           2,
           2,
           2,
           2,
           2,
           2,
           2,
           2,
           384,
           384,
           384,
           384,
           384,
           384,
           515,
           515,
           515,
           515,
           543,
           543,
           543,
           543,
           543,
           543,
           543,
           543,
           686,
           686,
           686,
           686,
           686,
           686,
           686,
           686,
           686,
           686,
           687,
           687,
           687,
           687,
           687,
           687,
           760,
           760,
           760,
           760,
           760,
           760,
           760,
           760,
           760,
           760,
           760,
           777,
           777,
           777,
           777,
           777,
           777,
           777,
           777,
           777,
           777,
           777,
           777,
           777,
           777,
           777,
           777,
           777,
           777,
           777,
           777,
           911,
           911,
           911,
           911,
           911,
           911,
           911,
           992,
           992,
           992,
           992,
           992,
           992,
           1067,
           1067,
           1151,
           1151,
           1151,
           1151,
           1191,
           1191,
           1221,
           1221,
           1221,
           1221,
           1221,
           1221,
           1221,
           1221,
           1221,
           1221,
           1221,
           1221,
           1221,
           1221,
           1221,
           1221,
           1221,
           1221,
           1334,
           1334,
           1339,
           1339,
           1340,
           1340,
           1340,
           1340,
           1340,
           1340,
           1340,
           1340,
           1340,
           1340,
           1340,
           1340,
           1475,
           1475,
           1475,
           1475,
           1475,
           1475,
           1475,
           1475,
           1475,
           1475,
           1475,
           1475,
           1475,
           1475,
           1475,
           1638,
           1638,
           1638,
           1638,
           1638,
           1638,
           1638,
           1639,
           1639,
           1647,
           1647,
           1659,
           1659,
           1659,
           1687,
           1694,
           1699,
           1710
          ],
          "target": [
           1,
           686,
           1339,
           1638,
           2,
           384,
           515,
           543,
           3,
           13,
           33,
           45,
           63,
           71,
           80,
           93,
           115,
           133,
           143,
           170,
           184,
           206,
           235,
           254,
           261,
           275,
           293,
           301,
           320,
           335,
           338,
           352,
           355,
           364,
           368,
           385,
           416,
           448,
           469,
           478,
           502,
           516,
           524,
           534,
           539,
           544,
           552,
           596,
           614,
           620,
           658,
           666,
           685,
           687,
           760,
           777,
           911,
           992,
           1067,
           1151,
           1191,
           1221,
           1334,
           688,
           704,
           718,
           723,
           745,
           746,
           761,
           763,
           764,
           765,
           766,
           767,
           768,
           773,
           774,
           775,
           776,
           778,
           787,
           807,
           822,
           834,
           836,
           839,
           844,
           847,
           848,
           852,
           864,
           867,
           881,
           889,
           898,
           905,
           906,
           909,
           910,
           912,
           931,
           935,
           944,
           956,
           967,
           980,
           993,
           1030,
           1045,
           1050,
           1054,
           1061,
           1068,
           1105,
           1152,
           1166,
           1181,
           1190,
           1192,
           1207,
           1222,
           1231,
           1236,
           1246,
           1249,
           1253,
           1266,
           1276,
           1285,
           1288,
           1294,
           1297,
           1300,
           1309,
           1313,
           1317,
           1328,
           1331,
           1335,
           1337,
           1340,
           1475,
           1341,
           1352,
           1362,
           1367,
           1379,
           1388,
           1413,
           1434,
           1447,
           1455,
           1459,
           1469,
           1476,
           1495,
           1501,
           1508,
           1518,
           1528,
           1557,
           1565,
           1572,
           1573,
           1580,
           1592,
           1602,
           1603,
           1633,
           1639,
           1647,
           1659,
           1687,
           1694,
           1699,
           1710,
           1640,
           1644,
           1648,
           1655,
           1660,
           1662,
           1682,
           1688,
           1695,
           1700,
           1711
          ],
          "value": [
           61719,
           28200,
           10341,
           1660,
           19167,
           4098,
           5375,
           13912,
           318,
           958,
           297,
           1514,
           389,
           617,
           794,
           1023,
           598,
           181,
           2162,
           556,
           1026,
           1827,
           864,
           317,
           153,
           953,
           1539,
           1198,
           604,
           203,
           224,
           59,
           74,
           41,
           345,
           893,
           650,
           416,
           85,
           532,
           629,
           2332,
           133,
           457,
           120,
           2970,
           4019,
           1344,
           1311,
           682,
           118,
           162,
           336,
           2637,
           1223,
           3612,
           2974,
           4939,
           4748,
           2471,
           691,
           2260,
           6,
           260,
           684,
           30,
           984,
           127,
           290,
           30,
           83,
           142,
           38,
           32,
           270,
           301,
           228,
           2,
           4,
           60,
           496,
           601,
           260,
           117,
           51,
           197,
           61,
           90,
           8,
           117,
           448,
           31,
           90,
           312,
           69,
           109,
           1,
           8,
           42,
           4,
           417,
           139,
           397,
           200,
           519,
           678,
           204,
           1659,
           701,
           217,
           177,
           170,
           353,
           1166,
           2416,
           899,
           553,
           116,
           4,
           219,
           251,
           176,
           107,
           142,
           47,
           53,
           99,
           90,
           164,
           11,
           336,
           229,
           21,
           34,
           124,
           101,
           288,
           37,
           18,
           2,
           2,
           3216,
           3909,
           306,
           121,
           159,
           269,
           208,
           560,
           325,
           106,
           264,
           37,
           178,
           376,
           493,
           136,
           75,
           105,
           464,
           913,
           38,
           78,
           4,
           142,
           218,
           467,
           6,
           221,
           56,
           54,
           187,
           308,
           116,
           10,
           266,
           664,
           6,
           42,
           56,
           75,
           8,
           248,
           31,
           58,
           5,
           133,
           332
          ]
         },
         "node": {
          "label": [
           "",
           "01",
           "0101",
           "010101",
           "01010101",
           "0101010101",
           "0101010102",
           "0101010103",
           "0101010104",
           "01010102",
           "01010103",
           "01010104",
           "0101010404",
           "010102",
           "01010201",
           "0101020101",
           "0101020102",
           "0101020103",
           "01010202",
           "0101020201",
           "0101020202",
           "0101020204",
           "0101020205",
           "01010203",
           "0101020301",
           "0101020302",
           "0101020303",
           "0101020304",
           "01010204",
           "0101020401",
           "0101020402",
           "0101020403",
           "01010205",
           "010103",
           "01010301",
           "0101030101",
           "01010302",
           "0101030201",
           "01010303",
           "0101030301",
           "01010304",
           "01010305",
           "01010306",
           "0101030601",
           "0101030602",
           "010104",
           "01010401",
           "0101040101",
           "0101040102",
           "0101040103",
           "0101040104",
           "0101040105",
           "0101040106",
           "01010402",
           "0101040203",
           "01010403",
           "0101040301",
           "0101040302",
           "01010404",
           "0101040401",
           "0101040402",
           "0101040403",
           "0101040404",
           "010105",
           "01010501",
           "0101050101",
           "01010502",
           "0101050201",
           "01010503",
           "0101050301",
           "0101050302",
           "010106",
           "01010601",
           "0101060101",
           "0101060102",
           "0101060103",
           "01010602",
           "0101060201",
           "0101060202",
           "0101060203",
           "010107",
           "01010701",
           "0101070101",
           "0101070102",
           "0101070103",
           "0101070104",
           "0101070105",
           "0101070106",
           "0101070107",
           "01010702",
           "0101070201",
           "0101070202",
           "01010703",
           "010108",
           "01010801",
           "0101080101",
           "0101080102",
           "01010802",
           "01010803",
           "0101080301",
           "0101080302",
           "01010804",
           "0101080402",
           "0101080404",
           "01010805",
           "0101080502",
           "0101080503",
           "0101080505",
           "0101080506",
           "01010806",
           "0101080601",
           "0101080603",
           "0101080604",
           "0101080606",
           "01010808",
           "010109",
           "01010901",
           "0101090102",
           "0101090103",
           "01010902",
           "0101090201",
           "0101090203",
           "0101090204",
           "01010903",
           "01010904",
           "01010905",
           "0101090501",
           "0101090502",
           "0101090503",
           "0101090504",
           "0101090505",
           "01010906",
           "01010907",
           "010110",
           "01011001",
           "01011003",
           "01011004",
           "01011005",
           "01011006",
           "01011007",
           "01011008",
           "01011009",
           "01011010",
           "010111",
           "01011101",
           "0101110101",
           "0101110102",
           "0101110103",
           "0101110104",
           "01011102",
           "0101110201",
           "0101110202",
           "01011103",
           "01011104",
           "01011105",
           "01011106",
           "0101110601",
           "0101110602",
           "01011107",
           "01011108",
           "0101110801",
           "0101110802",
           "01011109",
           "0101110901",
           "0101110902",
           "0101110903",
           "01011110",
           "0101111001",
           "0101111002",
           "01011111",
           "010112",
           "01011201",
           "0101120101",
           "0101120102",
           "0101120103",
           "0101120104",
           "01011202",
           "0101120201",
           "0101120202",
           "0101120203",
           "01011203",
           "0101120301",
           "0101120302",
           "0101120303",
           "010113",
           "01011301",
           "0101130101",
           "0101130102",
           "0101130103",
           "0101130104",
           "0101130105",
           "01011302",
           "0101130201",
           "0101130202",
           "0101130204",
           "01011303",
           "0101130301",
           "0101130302",
           "0101130303",
           "0101130304",
           "0101130305",
           "01011304",
           "01011305",
           "0101130502",
           "01011306",
           "01011307",
           "010114",
           "01011401",
           "0101140101",
           "0101140102",
           "0101140103",
           "01011402",
           "0101140201",
           "0101140202",
           "0101140203",
           "01011403",
           "0101140301",
           "0101140302",
           "0101140303",
           "01011404",
           "0101140401",
           "0101140402",
           "0101140403",
           "01011405",
           "0101140501",
           "0101140502",
           "01011406",
           "0101140601",
           "0101140602",
           "0101140603",
           "01011407",
           "01011408",
           "01011409",
           "0101140901",
           "0101140902",
           "010115",
           "01011501",
           "0101150101",
           "0101150102",
           "0101150103",
           "0101150104",
           "0101150105",
           "01011502",
           "0101150201",
           "0101150202",
           "01011503",
           "0101150301",
           "0101150302",
           "01011504",
           "01011505",
           "0101150502",
           "01011506",
           "0101150601",
           "0101150602",
           "010116",
           "01011601",
           "01011602",
           "01011603",
           "01011604",
           "01011605",
           "01011606",
           "010117",
           "01011701",
           "0101170101",
           "0101170102",
           "0101170103",
           "01011702",
           "0101170201",
           "0101170202",
           "0101170203",
           "01011703",
           "0101170301",
           "0101170303",
           "0101170304",
           "01011704",
           "010118",
           "01011801",
           "0101180101",
           "0101180102",
           "0101180103",
           "01011802",
           "0101180201",
           "0101180202",
           "0101180203",
           "0101180204",
           "01011803",
           "0101180302",
           "01011804",
           "0101180402",
           "01011805",
           "0101180501",
           "0101180502",
           "01011806",
           "010119",
           "01011901",
           "0101190101",
           "0101190102",
           "0101190103",
           "01011902",
           "01011903",
           "01011904",
           "010120",
           "01012001",
           "0101200101",
           "0101200102",
           "0101200103",
           "0101200104",
           "0101200105",
           "0101200106",
           "0101200108",
           "0101200109",
           "0101200110",
           "01012002",
           "0101200201",
           "0101200202",
           "0101200203",
           "0101200205",
           "0101200206",
           "01012003",
           "01012004",
           "010121",
           "01012101",
           "0101210101",
           "0101210102",
           "0101210103",
           "01012102",
           "0101210201",
           "0101210202",
           "0101210203",
           "01012103",
           "0101210301",
           "01012104",
           "0101210405",
           "01012105",
           "01012106",
           "010122",
           "01012201",
           "01012205",
           "010123",
           "01012301",
           "0101230101",
           "0101230102",
           "0101230103",
           "0101230104",
           "0101230105",
           "0101230106",
           "0101230108",
           "01012302",
           "01012303",
           "01012304",
           "0101230402",
           "0101230404",
           "010124",
           "01012401",
           "01012402",
           "010125",
           "01012501",
           "0101250104",
           "01012502",
           "0101250201",
           "01012503",
           "0101250301",
           "0101250303",
           "0101250304",
           "010126",
           "01012601",
           "01012602",
           "01012604",
           "010127",
           "01012701",
           "0101270101",
           "0101270102",
           "0101270103",
           "0101270104",
           "0101270105",
           "01012702",
           "0101270201",
           "0101270202",
           "01012703",
           "0101270301",
           "0101270302",
           "0101270303",
           "01012704",
           "01012705",
           "0102",
           "010201",
           "01020101",
           "0102010101",
           "0102010102",
           "0102010103",
           "0102010104",
           "0102010105",
           "0102010106",
           "01020102",
           "0102010201",
           "0102010203",
           "0102010204",
           "01020103",
           "0102010301",
           "0102010302",
           "01020104",
           "0102010401",
           "0102010402",
           "0102010403",
           "01020105",
           "01020106",
           "01020107",
           "01020108",
           "01020109",
           "01020110",
           "01020111",
           "0102011102",
           "0102011104",
           "0102011105",
           "0102011108",
           "01020112",
           "010202",
           "01020201",
           "0102020101",
           "0102020102",
           "0102020103",
           "01020202",
           "0102020201",
           "0102020202",
           "0102020203",
           "0102020204",
           "01020203",
           "0102020301",
           "0102020302",
           "01020204",
           "0102020401",
           "0102020402",
           "0102020403",
           "01020205",
           "0102020501",
           "0102020503",
           "01020206",
           "0102020603",
           "01020207",
           "0102020701",
           "01020208",
           "01020209",
           "0102020901",
           "0102020902",
           "0102020904",
           "0102020911",
           "0102020912",
           "0102020915",
           "010203",
           "01020301",
           "0102030101",
           "0102030102",
           "0102030103",
           "0102030104",
           "0102030105",
           "0102030106",
           "01020302",
           "0102030201",
           "0102030202",
           "0102030205",
           "0102030206",
           "01020303",
           "01020304",
           "01020305",
           "0102030501",
           "0102030502",
           "0102030503",
           "0102030504",
           "01020306",
           "010204",
           "01020401",
           "01020402",
           "0102040201",
           "0102040205",
           "0102040207",
           "01020403",
           "01020404",
           "01020405",
           "010205",
           "01020501",
           "0102050101",
           "0102050102",
           "0102050103",
           "0102050104",
           "01020502",
           "0102050201",
           "0102050203",
           "0102050204",
           "01020503",
           "0102050302",
           "0102050304",
           "01020504",
           "0102050401",
           "0102050402",
           "0102050403",
           "01020505",
           "01020506",
           "01020507",
           "01020508",
           "01020509",
           "01020510",
           "01020511",
           "010206",
           "01020601",
           "0102060101",
           "0102060102",
           "0102060103",
           "0102060104",
           "0102060105",
           "0102060106",
           "01020602",
           "0102060201",
           "0102060204",
           "0102060205",
           "0102060207",
           "0103",
           "010301",
           "01030101",
           "0103010101",
           "0103010102",
           "0103010103",
           "0103010104",
           "01030102",
           "01030103",
           "010302",
           "01030201",
           "0103020101",
           "0103020102",
           "0103020103",
           "01030202",
           "0103020201",
           "0103020202",
           "01030203",
           "01030204",
           "010303",
           "01030301",
           "01030302",
           "01030303",
           "01030304",
           "010304",
           "01030401",
           "01030402",
           "01030403",
           "0104",
           "010401",
           "01040101",
           "0104010101",
           "0104010102",
           "0104010103",
           "01040102",
           "0104010201",
           "0104010202",
           "010402",
           "01040201",
           "0104020101",
           "0104020102",
           "0104020103",
           "01040202",
           "0104020201",
           "0104020202",
           "01040203",
           "0104020301",
           "0104020302",
           "01040204",
           "0104020401",
           "0104020402",
           "01040205",
           "0104020501",
           "0104020502",
           "01040206",
           "0104020601",
           "0104020602",
           "01040207",
           "0104020701",
           "0104020702",
           "01040208",
           "01040209",
           "0104020901",
           "0104020902",
           "01040210",
           "0104021001",
           "0104021002",
           "0104021003",
           "01040211",
           "0104021101",
           "0104021102",
           "01040212",
           "0104021201",
           "01040213",
           "0104021301",
           "0104021302",
           "0104021303",
           "0104021304",
           "0104021305",
           "01040214",
           "01040215",
           "010403",
           "01040301",
           "0104030101",
           "0104030102",
           "0104030103",
           "0104030104",
           "0104030105",
           "0104030106",
           "01040302",
           "0104030201",
           "0104030202",
           "0104030203",
           "0104030204",
           "0104030205",
           "0104030206",
           "01040303",
           "01040304",
           "01040305",
           "010404",
           "01040401",
           "0104040101",
           "0104040102",
           "0104040103",
           "01040402",
           "010405",
           "01040501",
           "0104050101",
           "0104050102",
           "0104050103",
           "01040502",
           "0104050201",
           "0104050202",
           "0104050203",
           "0104050205",
           "0104050206",
           "01040504",
           "0104050401",
           "0104050402",
           "0104050403",
           "0104050406",
           "01040505",
           "01040506",
           "01040507",
           "0104050701",
           "0104050702",
           "01040509",
           "0104050901",
           "0104050902",
           "0104050903",
           "0104050905",
           "0104050906",
           "01040510",
           "01040511",
           "01040512",
           "0104051201",
           "0104051202",
           "01040513",
           "0104051301",
           "0104051302",
           "0104051303",
           "01040514",
           "0104051405",
           "010406",
           "01040601",
           "0104060101",
           "0104060103",
           "01040602",
           "01040603",
           "0104060302",
           "01040606",
           "010407",
           "01040701",
           "0104070101",
           "0104070102",
           "0104070105",
           "01040702",
           "01040704",
           "01040705",
           "01040706",
           "0104070601",
           "0104070604",
           "01040707",
           "0104070701",
           "01040708",
           "0104070801",
           "0104070802",
           "01040709",
           "01040710",
           "01040711",
           "010409",
           "02",
           "0201",
           "020101",
           "02010101",
           "0201010101",
           "0201010102",
           "0201010103",
           "0201010104",
           "0201010105",
           "02010102",
           "0201010203",
           "0201010204",
           "02010103",
           "0201010301",
           "0201010302",
           "0201010303",
           "0201010304",
           "02010104",
           "020102",
           "02010202",
           "0201020201",
           "0201020202",
           "0201020203",
           "0201020204",
           "0201020205",
           "02010203",
           "0201020301",
           "0201020302",
           "0201020303",
           "0201020304",
           "0201020305",
           "02010204",
           "020103",
           "02010301",
           "0201030101",
           "0201030103",
           "0201030104",
           "020105",
           "02010501",
           "0201050101",
           "0201050102",
           "0201050103",
           "0201050104",
           "0201050105",
           "0201050106",
           "02010502",
           "0201050202",
           "02010503",
           "02010504",
           "0201050402",
           "0201050403",
           "0201050404",
           "02010505",
           "0201050502",
           "02010506",
           "02010507",
           "02010508",
           "0201050801",
           "0201050802",
           "020106",
           "020107",
           "02010701",
           "0201070104",
           "02010702",
           "0201070201",
           "0201070202",
           "0201070203",
           "02010703",
           "02010704",
           "02010706",
           "02010707",
           "02010708",
           "02010709",
           "02010710",
           "0202",
           "020201",
           "02020106",
           "020202",
           "020203",
           "020204",
           "020205",
           "020206",
           "020207",
           "02020701",
           "02020702",
           "02020703",
           "02020704",
           "020208",
           "020211",
           "020215",
           "020222",
           "0203",
           "020301",
           "02030101",
           "0203010101",
           "0203010102",
           "0203010103",
           "02030102",
           "0203010202",
           "02030103",
           "0203010302",
           "020302",
           "02030201",
           "0203020101",
           "0203020102",
           "0203020103",
           "02030202",
           "0203020202",
           "0203020203",
           "02030203",
           "0203020301",
           "0203020302",
           "0203020303",
           "02030204",
           "0203020401",
           "0203020402",
           "02030205",
           "0203020501",
           "0203020502",
           "0203020503",
           "02030206",
           "020303",
           "02030301",
           "0203030101",
           "0203030102",
           "02030302",
           "0203030201",
           "0203030202",
           "02030303",
           "0203030301",
           "0203030302",
           "0203030303",
           "02030304",
           "0203030401",
           "0203030402",
           "0203030403",
           "020304",
           "02030401",
           "0203040101",
           "0203040102",
           "0203040103",
           "02030402",
           "0203040201",
           "0203040202",
           "0203040203",
           "02030403",
           "0203040301",
           "0203040302",
           "020305",
           "02030502",
           "020306",
           "02030601",
           "02030603",
           "020307",
           "02030701",
           "0203070101",
           "02030702",
           "0203070202",
           "020308",
           "02030802",
           "02030803",
           "020309",
           "020310",
           "02031001",
           "02031002",
           "02031003",
           "020311",
           "02031101",
           "0203110101",
           "0203110102",
           "0203110103",
           "0203110104",
           "02031103",
           "0203110303",
           "02031104",
           "0203110402",
           "02031105",
           "02031106",
           "020312",
           "02031202",
           "02031203",
           "020313",
           "02031301",
           "0203130102",
           "02031302",
           "0203130202",
           "02031303",
           "0203130302",
           "02031304",
           "0203130402",
           "02031305",
           "0203130502",
           "02031306",
           "02031307",
           "02031308",
           "020314",
           "02031401",
           "02031402",
           "02031403",
           "02031404",
           "02031405",
           "02031406",
           "02031407",
           "020315",
           "02031501",
           "0203150102",
           "02031502",
           "02031503",
           "02031504",
           "02031505",
           "02031506",
           "02031507",
           "020316",
           "02031601",
           "0203160101",
           "0203160102",
           "02031602",
           "02031603",
           "02031604",
           "020317",
           "020319",
           "02031901",
           "02031902",
           "020320",
           "020321",
           "0204",
           "020401",
           "02040101",
           "0204010101",
           "0204010102",
           "0204010103",
           "02040102",
           "02040103",
           "02040104",
           "0204010401",
           "0204010402",
           "02040105",
           "0204010501",
           "0204010502",
           "02040106",
           "02040107",
           "02040109",
           "0204010901",
           "0204010902",
           "02040110",
           "020402",
           "02040201",
           "02040202",
           "02040203",
           "020403",
           "02040301",
           "02040302",
           "02040303",
           "02040304",
           "02040305",
           "02040306",
           "02040307",
           "02040308",
           "020404",
           "02040401",
           "0204040101",
           "0204040102",
           "0204040103",
           "0204040106",
           "0204040107",
           "02040402",
           "0204040201",
           "0204040202",
           "02040403",
           "02040404",
           "020405",
           "02040501",
           "02040502",
           "0204050201",
           "0204050202",
           "0204050203",
           "02040503",
           "02040504",
           "02040505",
           "02040506",
           "02040507",
           "020406",
           "02040601",
           "0204060101",
           "0204060102",
           "02040602",
           "02040603",
           "02040604",
           "0204060401",
           "0204060402",
           "0204060403",
           "0204060404",
           "0204060406",
           "0204060407",
           "020407",
           "02040701",
           "02040702",
           "02040703",
           "02040704",
           "02040705",
           "02040706",
           "02040707",
           "02040708",
           "02040709",
           "02040710",
           "02040711",
           "0205",
           "020501",
           "02050101",
           "0205010101",
           "0205010102",
           "0205010103",
           "02050102",
           "0205010201",
           "0205010202",
           "0205010203",
           "0205010204",
           "02050103",
           "0205010301",
           "0205010302",
           "02050104",
           "0205010401",
           "0205010402",
           "0205010403",
           "0205010404",
           "02050105",
           "0205010501",
           "0205010502",
           "0205010503",
           "02050106",
           "0205010601",
           "0205010602",
           "0205010603",
           "02050107",
           "0205010701",
           "0205010702",
           "02050108",
           "0205010801",
           "0205010802",
           "0205010803",
           "0205010804",
           "02050109",
           "02050110",
           "02050111",
           "020502",
           "02050201",
           "0205020101",
           "0205020102",
           "02050202",
           "0205020201",
           "0205020202",
           "02050203",
           "02050204",
           "02050205",
           "0205020501",
           "0205020502",
           "0205020503",
           "0205020504",
           "0205020505",
           "020504",
           "02050401",
           "0205040101",
           "0205040102",
           "02050402",
           "020505",
           "02050501",
           "02050502",
           "02050503",
           "020506",
           "02050601",
           "0205060102",
           "0205060103",
           "0205060104",
           "02050602",
           "02050603",
           "020507",
           "02050701",
           "02050702",
           "0205070201",
           "0205070202",
           "0205070203",
           "0206",
           "020601",
           "02060101",
           "0206010101",
           "0206010102",
           "0206010103",
           "0206010104",
           "02060102",
           "0206010201",
           "0206010202",
           "0206010203",
           "0206010204",
           "0206010205",
           "0206010206",
           "0206010207",
           "02060103",
           "0206010301",
           "0206010302",
           "0206010303",
           "0206010304",
           "0206010306",
           "0206010307",
           "0206010308",
           "0206010309",
           "02060104",
           "0206010401",
           "0206010402",
           "0206010403",
           "02060105",
           "0206010501",
           "0206010502",
           "0206010503",
           "0206010504",
           "0206010506",
           "0206010507",
           "0206010508",
           "0206010509",
           "02060106",
           "020602",
           "02060201",
           "0206020101",
           "0206020102",
           "0206020103",
           "0206020104",
           "0206020105",
           "0206020106",
           "0206020107",
           "0206020108",
           "0206020109",
           "0206020110",
           "02060202",
           "0206020201",
           "0206020202",
           "0206020203",
           "0206020205",
           "02060203",
           "0206020301",
           "0206020302",
           "0206020303",
           "0206020304",
           "0206020305",
           "0206020306",
           "0206020308",
           "02060204",
           "0206020401",
           "02060205",
           "0206020501",
           "0206020502",
           "02060206",
           "0206020601",
           "0206020605",
           "02060207",
           "0206020701",
           "0206020703",
           "02060208",
           "0206020801",
           "0206020802",
           "0206020803",
           "0206020804",
           "0206020805",
           "02060209",
           "0206020901",
           "0206020902",
           "02060211",
           "0207",
           "020701",
           "02070101",
           "0207010101",
           "0207010102",
           "0207010103",
           "02070102",
           "0207010201",
           "0207010202",
           "0207010204",
           "02070103",
           "02070104",
           "02070105",
           "02070106",
           "02070109",
           "020702",
           "02070201",
           "0207020101",
           "0207020102",
           "02070202",
           "0207020201",
           "02070203",
           "0207020301",
           "0207020302",
           "02070204",
           "02070205",
           "02070206",
           "02070207",
           "02070208",
           "02070209",
           "020703",
           "02070301",
           "0207030101",
           "0207030102",
           "0207030103",
           "02070302",
           "0207030201",
           "0207030202",
           "02070303",
           "020704",
           "0208",
           "020801",
           "02080101",
           "0208010101",
           "0208010102",
           "0208010104",
           "0208010106",
           "0208010108",
           "0208010109",
           "02080102",
           "0208010201",
           "0208010204",
           "0208010205",
           "0208010208",
           "0208010210",
           "0208010213",
           "020802",
           "02080201",
           "0208020101",
           "0208020102",
           "0208020107",
           "02080202",
           "0208020201",
           "0208020203",
           "0208020204",
           "02080203",
           "0208020301",
           "0208020302",
           "0208020304",
           "0208020306",
           "0209",
           "020901",
           "02090101",
           "0209010101",
           "0209010102",
           "02090102",
           "0209010202",
           "0209010203",
           "02090103",
           "0209010302",
           "020902",
           "02090201",
           "0209020102",
           "02090202",
           "0209020202",
           "020903",
           "02090301",
           "02090302",
           "0209030201",
           "0209030202",
           "02090303",
           "0209030301",
           "0209030302",
           "02090304",
           "0209030402",
           "020904",
           "02090402",
           "02090403",
           "020905",
           "02090501",
           "02090502",
           "02090503",
           "020906",
           "02090601",
           "0209060102",
           "0209060103",
           "02090602",
           "0209060202",
           "02090603",
           "0209060302",
           "02090604",
           "0209060402",
           "02090605",
           "02090606",
           "0209060602",
           "020907",
           "02090701",
           "0209070102",
           "0209070103",
           "02090702",
           "0209070202",
           "0209070203",
           "02090703",
           "0209070302",
           "0209070303",
           "020908",
           "02090801",
           "0209080103",
           "02090802",
           "0209080202",
           "0209080203",
           "02090803",
           "0209080302",
           "0209080303",
           "020909",
           "02090902",
           "02090903",
           "020910",
           "02091001",
           "0209100101",
           "0209100102",
           "02091002",
           "0209100202",
           "020911",
           "02091101",
           "02091102",
           "020912",
           "02091201",
           "02091202",
           "020913",
           "02091301",
           "0209130102",
           "0209130103",
           "02091303",
           "0209130303",
           "02091304",
           "0209130402",
           "0209130403",
           "020914",
           "02091401",
           "02091402",
           "02091403",
           "020915",
           "02091501",
           "02091502",
           "02091503",
           "020916",
           "02091601",
           "0209160101",
           "0209160102",
           "0209160103",
           "02091602",
           "0209160202",
           "0209160203",
           "02091603",
           "0209160302",
           "0209160303",
           "020917",
           "02091702",
           "02091703",
           "020918",
           "02091801",
           "02091802",
           "0211",
           "021108",
           "02110805",
           "021109",
           "02110904",
           "03",
           "0301",
           "030101",
           "03010101",
           "0301010101",
           "0301010103",
           "0301010105",
           "03010102",
           "0301010201",
           "0301010202",
           "0301010204",
           "03010103",
           "0301010302",
           "030102",
           "03010201",
           "03010202",
           "0301020201",
           "0301020202",
           "03010203",
           "03010204",
           "03010205",
           "03010207",
           "03010208",
           "030103",
           "03010301",
           "03010302",
           "0301030201",
           "0301030203",
           "030104",
           "03010401",
           "0301040101",
           "0301040102",
           "03010402",
           "0301040203",
           "0301040204",
           "03010403",
           "0301040301",
           "0301040302",
           "0301040303",
           "0301040304",
           "030105",
           "03010501",
           "0301050101",
           "0301050102",
           "0301050103",
           "03010502",
           "0301050201",
           "0301050202",
           "0301050205",
           "030106",
           "03010601",
           "0301060101",
           "0301060102",
           "0301060103",
           "03010602",
           "0301060201",
           "0301060202",
           "0301060203",
           "03010603",
           "03010604",
           "0301060401",
           "0301060402",
           "03010605",
           "0301060501",
           "0301060502",
           "0301060503",
           "0301060504",
           "0301060505",
           "0301060506",
           "0301060507",
           "0301060508",
           "0301060510",
           "03010606",
           "03010607",
           "030107",
           "03010701",
           "0301070101",
           "0301070102",
           "0301070103",
           "0301070105",
           "03010702",
           "0301070201",
           "0301070202",
           "03010703",
           "0301070301",
           "0301070303",
           "0301070304",
           "03010704",
           "03010705",
           "0301070501",
           "03010706",
           "03010707",
           "03010708",
           "03010709",
           "03010710",
           "030108",
           "03010801",
           "0301080101",
           "0301080102",
           "0301080103",
           "03010802",
           "03010803",
           "0301080301",
           "0301080303",
           "03010804",
           "0301080403",
           "03010805",
           "03010806",
           "030109",
           "03010901",
           "03010902",
           "0301090201",
           "0301090202",
           "03010903",
           "03010904",
           "03010905",
           "030110",
           "03011001",
           "0301100101",
           "03011002",
           "030111",
           "03011101",
           "03011102",
           "03011103",
           "0301110301",
           "03011104",
           "0301110401",
           "0301110402",
           "0301110403",
           "03011105",
           "030112",
           "03011201",
           "0301120101",
           "0301120102",
           "03011202",
           "03011203",
           "0302",
           "030201",
           "03020101",
           "0302010101",
           "0302010102",
           "0302010103",
           "0302010105",
           "03020102",
           "0302010201",
           "0302010202",
           "0302010203",
           "0302010204",
           "03020103",
           "0302010301",
           "0302010302",
           "0302010303",
           "03020104",
           "0302010403",
           "03020105",
           "03020106",
           "030202",
           "03020201",
           "0302020101",
           "03020202",
           "0302020202",
           "0302020205",
           "030203",
           "03020301",
           "03020302",
           "03020303",
           "0302030301",
           "0302030302",
           "03020304",
           "030204",
           "03020401",
           "0302040101",
           "0302040102",
           "03020402",
           "03020403",
           "0302040301",
           "0302040302",
           "03020404",
           "0302040401",
           "030205",
           "03020501",
           "0302050101",
           "0302050102",
           "03020502",
           "03020503",
           "03020504",
           "03020505",
           "03020506",
           "0302050602",
           "030206",
           "03020601",
           "0302060101",
           "0302060102",
           "0302060103",
           "03020602",
           "03020603",
           "0302060301",
           "03020604",
           "0302060401",
           "0302060402",
           "0302060403",
           "0302060404",
           "03020605",
           "0302060501",
           "0302060503",
           "03020606",
           "0302060601",
           "0302060602",
           "0302060603",
           "03020607",
           "0302060701",
           "0302060702",
           "0302060703",
           "03020608",
           "0302060801",
           "03020609",
           "0302060903",
           "0302060905",
           "030207",
           "03020701",
           "0302070101",
           "0302070102",
           "03020702",
           "03020703",
           "0302070301",
           "03020704",
           "030208",
           "03020801",
           "03020802",
           "03020804",
           "03020805",
           "03020806",
           "03020807",
           "030209",
           "030210",
           "03021001",
           "0302100101",
           "0302100102",
           "03021002",
           "0302100201",
           "0302100206",
           "030211",
           "03021101",
           "0302110101",
           "0302110102",
           "03021102",
           "0302110201",
           "0302110203",
           "0302110204",
           "03021103",
           "03021104",
           "0302110401",
           "0302110402",
           "030212",
           "03021201",
           "0302120101",
           "0302120102",
           "0302120103",
           "03021202",
           "0302120201",
           "03021203",
           "03021204",
           "0302120401",
           "030213",
           "030214",
           "03021401",
           "03021402",
           "03021403",
           "03021404",
           "03021405",
           "03021406",
           "03021407",
           "03021408",
           "03021409",
           "03021410",
           "03021411",
           "03021412",
           "03021414",
           "03021415",
           "03021416",
           "03021417",
           "03021418",
           "03021419",
           "03021420",
           "03021421",
           "03021422",
           "03021428",
           "03021429",
           "03021430",
           "03021431",
           "03021435",
           "03021436",
           "03021438",
           "03021442",
           "030218",
           "03021801",
           "0302180103",
           "0302180105",
           "03021802",
           "04",
           "0401",
           "040102",
           "04010204",
           "0401020411",
           "04010205",
           "040103",
           "04010304",
           "0401030403",
           "0402",
           "040205",
           "04020502",
           "04020503",
           "04020504",
           "0402050407",
           "04020511",
           "0402051101",
           "040206",
           "04020604",
           "0402060401",
           "0402060407",
           "0404",
           "040409",
           "04040901",
           "040410",
           "04041001",
           "0404100118",
           "04041002",
           "0404100205",
           "0404100208",
           "0404100212",
           "04041003",
           "0404100302",
           "0404100310",
           "04041004",
           "0404100401",
           "0404100402",
           "04041005",
           "0404100504",
           "0404100505",
           "04041006",
           "0404100602",
           "04041010",
           "0404101001",
           "040411",
           "04041101",
           "04041103",
           "04041104",
           "0404110401",
           "0405",
           "040513",
           "04051301",
           "0405130128",
           "0405130129",
           "0405130131",
           "04051302",
           "0407",
           "040715",
           "04071502",
           "04071506",
           "04071508",
           "0408",
           "040816",
           "04081601",
           "0408160101",
           "0408160107",
           "04081602",
           "0408160202",
           "04081603",
           "0408160301",
           "0408160302",
           "0408160306",
           "0409",
           "040917",
           "04091701",
           "0409170101"
          ]
         },
         "orientation": "v",
         "type": "sankey"
        }
       ],
       "layout": {
        "template": {
         "data": {
          "bar": [
           {
            "error_x": {
             "color": "#2a3f5f"
            },
            "error_y": {
             "color": "#2a3f5f"
            },
            "marker": {
             "line": {
              "color": "#E5ECF6",
              "width": 0.5
             },
             "pattern": {
              "fillmode": "overlay",
              "size": 10,
              "solidity": 0.2
             }
            },
            "type": "bar"
           }
          ],
          "barpolar": [
           {
            "marker": {
             "line": {
              "color": "#E5ECF6",
              "width": 0.5
             },
             "pattern": {
              "fillmode": "overlay",
              "size": 10,
              "solidity": 0.2
             }
            },
            "type": "barpolar"
           }
          ],
          "carpet": [
           {
            "aaxis": {
             "endlinecolor": "#2a3f5f",
             "gridcolor": "white",
             "linecolor": "white",
             "minorgridcolor": "white",
             "startlinecolor": "#2a3f5f"
            },
            "baxis": {
             "endlinecolor": "#2a3f5f",
             "gridcolor": "white",
             "linecolor": "white",
             "minorgridcolor": "white",
             "startlinecolor": "#2a3f5f"
            },
            "type": "carpet"
           }
          ],
          "choropleth": [
           {
            "colorbar": {
             "outlinewidth": 0,
             "ticks": ""
            },
            "type": "choropleth"
           }
          ],
          "contour": [
           {
            "colorbar": {
             "outlinewidth": 0,
             "ticks": ""
            },
            "colorscale": [
             [
              0,
              "#0d0887"
             ],
             [
              0.1111111111111111,
              "#46039f"
             ],
             [
              0.2222222222222222,
              "#7201a8"
             ],
             [
              0.3333333333333333,
              "#9c179e"
             ],
             [
              0.4444444444444444,
              "#bd3786"
             ],
             [
              0.5555555555555556,
              "#d8576b"
             ],
             [
              0.6666666666666666,
              "#ed7953"
             ],
             [
              0.7777777777777778,
              "#fb9f3a"
             ],
             [
              0.8888888888888888,
              "#fdca26"
             ],
             [
              1,
              "#f0f921"
             ]
            ],
            "type": "contour"
           }
          ],
          "contourcarpet": [
           {
            "colorbar": {
             "outlinewidth": 0,
             "ticks": ""
            },
            "type": "contourcarpet"
           }
          ],
          "heatmap": [
           {
            "colorbar": {
             "outlinewidth": 0,
             "ticks": ""
            },
            "colorscale": [
             [
              0,
              "#0d0887"
             ],
             [
              0.1111111111111111,
              "#46039f"
             ],
             [
              0.2222222222222222,
              "#7201a8"
             ],
             [
              0.3333333333333333,
              "#9c179e"
             ],
             [
              0.4444444444444444,
              "#bd3786"
             ],
             [
              0.5555555555555556,
              "#d8576b"
             ],
             [
              0.6666666666666666,
              "#ed7953"
             ],
             [
              0.7777777777777778,
              "#fb9f3a"
             ],
             [
              0.8888888888888888,
              "#fdca26"
             ],
             [
              1,
              "#f0f921"
             ]
            ],
            "type": "heatmap"
           }
          ],
          "heatmapgl": [
           {
            "colorbar": {
             "outlinewidth": 0,
             "ticks": ""
            },
            "colorscale": [
             [
              0,
              "#0d0887"
             ],
             [
              0.1111111111111111,
              "#46039f"
             ],
             [
              0.2222222222222222,
              "#7201a8"
             ],
             [
              0.3333333333333333,
              "#9c179e"
             ],
             [
              0.4444444444444444,
              "#bd3786"
             ],
             [
              0.5555555555555556,
              "#d8576b"
             ],
             [
              0.6666666666666666,
              "#ed7953"
             ],
             [
              0.7777777777777778,
              "#fb9f3a"
             ],
             [
              0.8888888888888888,
              "#fdca26"
             ],
             [
              1,
              "#f0f921"
             ]
            ],
            "type": "heatmapgl"
           }
          ],
          "histogram": [
           {
            "marker": {
             "pattern": {
              "fillmode": "overlay",
              "size": 10,
              "solidity": 0.2
             }
            },
            "type": "histogram"
           }
          ],
          "histogram2d": [
           {
            "colorbar": {
             "outlinewidth": 0,
             "ticks": ""
            },
            "colorscale": [
             [
              0,
              "#0d0887"
             ],
             [
              0.1111111111111111,
              "#46039f"
             ],
             [
              0.2222222222222222,
              "#7201a8"
             ],
             [
              0.3333333333333333,
              "#9c179e"
             ],
             [
              0.4444444444444444,
              "#bd3786"
             ],
             [
              0.5555555555555556,
              "#d8576b"
             ],
             [
              0.6666666666666666,
              "#ed7953"
             ],
             [
              0.7777777777777778,
              "#fb9f3a"
             ],
             [
              0.8888888888888888,
              "#fdca26"
             ],
             [
              1,
              "#f0f921"
             ]
            ],
            "type": "histogram2d"
           }
          ],
          "histogram2dcontour": [
           {
            "colorbar": {
             "outlinewidth": 0,
             "ticks": ""
            },
            "colorscale": [
             [
              0,
              "#0d0887"
             ],
             [
              0.1111111111111111,
              "#46039f"
             ],
             [
              0.2222222222222222,
              "#7201a8"
             ],
             [
              0.3333333333333333,
              "#9c179e"
             ],
             [
              0.4444444444444444,
              "#bd3786"
             ],
             [
              0.5555555555555556,
              "#d8576b"
             ],
             [
              0.6666666666666666,
              "#ed7953"
             ],
             [
              0.7777777777777778,
              "#fb9f3a"
             ],
             [
              0.8888888888888888,
              "#fdca26"
             ],
             [
              1,
              "#f0f921"
             ]
            ],
            "type": "histogram2dcontour"
           }
          ],
          "mesh3d": [
           {
            "colorbar": {
             "outlinewidth": 0,
             "ticks": ""
            },
            "type": "mesh3d"
           }
          ],
          "parcoords": [
           {
            "line": {
             "colorbar": {
              "outlinewidth": 0,
              "ticks": ""
             }
            },
            "type": "parcoords"
           }
          ],
          "pie": [
           {
            "automargin": true,
            "type": "pie"
           }
          ],
          "scatter": [
           {
            "fillpattern": {
             "fillmode": "overlay",
             "size": 10,
             "solidity": 0.2
            },
            "type": "scatter"
           }
          ],
          "scatter3d": [
           {
            "line": {
             "colorbar": {
              "outlinewidth": 0,
              "ticks": ""
             }
            },
            "marker": {
             "colorbar": {
              "outlinewidth": 0,
              "ticks": ""
             }
            },
            "type": "scatter3d"
           }
          ],
          "scattercarpet": [
           {
            "marker": {
             "colorbar": {
              "outlinewidth": 0,
              "ticks": ""
             }
            },
            "type": "scattercarpet"
           }
          ],
          "scattergeo": [
           {
            "marker": {
             "colorbar": {
              "outlinewidth": 0,
              "ticks": ""
             }
            },
            "type": "scattergeo"
           }
          ],
          "scattergl": [
           {
            "marker": {
             "colorbar": {
              "outlinewidth": 0,
              "ticks": ""
             }
            },
            "type": "scattergl"
           }
          ],
          "scattermapbox": [
           {
            "marker": {
             "colorbar": {
              "outlinewidth": 0,
              "ticks": ""
             }
            },
            "type": "scattermapbox"
           }
          ],
          "scatterpolar": [
           {
            "marker": {
             "colorbar": {
              "outlinewidth": 0,
              "ticks": ""
             }
            },
            "type": "scatterpolar"
           }
          ],
          "scatterpolargl": [
           {
            "marker": {
             "colorbar": {
              "outlinewidth": 0,
              "ticks": ""
             }
            },
            "type": "scatterpolargl"
           }
          ],
          "scatterternary": [
           {
            "marker": {
             "colorbar": {
              "outlinewidth": 0,
              "ticks": ""
             }
            },
            "type": "scatterternary"
           }
          ],
          "surface": [
           {
            "colorbar": {
             "outlinewidth": 0,
             "ticks": ""
            },
            "colorscale": [
             [
              0,
              "#0d0887"
             ],
             [
              0.1111111111111111,
              "#46039f"
             ],
             [
              0.2222222222222222,
              "#7201a8"
             ],
             [
              0.3333333333333333,
              "#9c179e"
             ],
             [
              0.4444444444444444,
              "#bd3786"
             ],
             [
              0.5555555555555556,
              "#d8576b"
             ],
             [
              0.6666666666666666,
              "#ed7953"
             ],
             [
              0.7777777777777778,
              "#fb9f3a"
             ],
             [
              0.8888888888888888,
              "#fdca26"
             ],
             [
              1,
              "#f0f921"
             ]
            ],
            "type": "surface"
           }
          ],
          "table": [
           {
            "cells": {
             "fill": {
              "color": "#EBF0F8"
             },
             "line": {
              "color": "white"
             }
            },
            "header": {
             "fill": {
              "color": "#C8D4E3"
             },
             "line": {
              "color": "white"
             }
            },
            "type": "table"
           }
          ]
         },
         "layout": {
          "annotationdefaults": {
           "arrowcolor": "#2a3f5f",
           "arrowhead": 0,
           "arrowwidth": 1
          },
          "autotypenumbers": "strict",
          "coloraxis": {
           "colorbar": {
            "outlinewidth": 0,
            "ticks": ""
           }
          },
          "colorscale": {
           "diverging": [
            [
             0,
             "#8e0152"
            ],
            [
             0.1,
             "#c51b7d"
            ],
            [
             0.2,
             "#de77ae"
            ],
            [
             0.3,
             "#f1b6da"
            ],
            [
             0.4,
             "#fde0ef"
            ],
            [
             0.5,
             "#f7f7f7"
            ],
            [
             0.6,
             "#e6f5d0"
            ],
            [
             0.7,
             "#b8e186"
            ],
            [
             0.8,
             "#7fbc41"
            ],
            [
             0.9,
             "#4d9221"
            ],
            [
             1,
             "#276419"
            ]
           ],
           "sequential": [
            [
             0,
             "#0d0887"
            ],
            [
             0.1111111111111111,
             "#46039f"
            ],
            [
             0.2222222222222222,
             "#7201a8"
            ],
            [
             0.3333333333333333,
             "#9c179e"
            ],
            [
             0.4444444444444444,
             "#bd3786"
            ],
            [
             0.5555555555555556,
             "#d8576b"
            ],
            [
             0.6666666666666666,
             "#ed7953"
            ],
            [
             0.7777777777777778,
             "#fb9f3a"
            ],
            [
             0.8888888888888888,
             "#fdca26"
            ],
            [
             1,
             "#f0f921"
            ]
           ],
           "sequentialminus": [
            [
             0,
             "#0d0887"
            ],
            [
             0.1111111111111111,
             "#46039f"
            ],
            [
             0.2222222222222222,
             "#7201a8"
            ],
            [
             0.3333333333333333,
             "#9c179e"
            ],
            [
             0.4444444444444444,
             "#bd3786"
            ],
            [
             0.5555555555555556,
             "#d8576b"
            ],
            [
             0.6666666666666666,
             "#ed7953"
            ],
            [
             0.7777777777777778,
             "#fb9f3a"
            ],
            [
             0.8888888888888888,
             "#fdca26"
            ],
            [
             1,
             "#f0f921"
            ]
           ]
          },
          "colorway": [
           "#636efa",
           "#EF553B",
           "#00cc96",
           "#ab63fa",
           "#FFA15A",
           "#19d3f3",
           "#FF6692",
           "#B6E880",
           "#FF97FF",
           "#FECB52"
          ],
          "font": {
           "color": "#2a3f5f"
          },
          "geo": {
           "bgcolor": "white",
           "lakecolor": "white",
           "landcolor": "#E5ECF6",
           "showlakes": true,
           "showland": true,
           "subunitcolor": "white"
          },
          "hoverlabel": {
           "align": "left"
          },
          "hovermode": "closest",
          "mapbox": {
           "style": "light"
          },
          "paper_bgcolor": "white",
          "plot_bgcolor": "#E5ECF6",
          "polar": {
           "angularaxis": {
            "gridcolor": "white",
            "linecolor": "white",
            "ticks": ""
           },
           "bgcolor": "#E5ECF6",
           "radialaxis": {
            "gridcolor": "white",
            "linecolor": "white",
            "ticks": ""
           }
          },
          "scene": {
           "xaxis": {
            "backgroundcolor": "#E5ECF6",
            "gridcolor": "white",
            "gridwidth": 2,
            "linecolor": "white",
            "showbackground": true,
            "ticks": "",
            "zerolinecolor": "white"
           },
           "yaxis": {
            "backgroundcolor": "#E5ECF6",
            "gridcolor": "white",
            "gridwidth": 2,
            "linecolor": "white",
            "showbackground": true,
            "ticks": "",
            "zerolinecolor": "white"
           },
           "zaxis": {
            "backgroundcolor": "#E5ECF6",
            "gridcolor": "white",
            "gridwidth": 2,
            "linecolor": "white",
            "showbackground": true,
            "ticks": "",
            "zerolinecolor": "white"
           }
          },
          "shapedefaults": {
           "line": {
            "color": "#2a3f5f"
           }
          },
          "ternary": {
           "aaxis": {
            "gridcolor": "white",
            "linecolor": "white",
            "ticks": ""
           },
           "baxis": {
            "gridcolor": "white",
            "linecolor": "white",
            "ticks": ""
           },
           "bgcolor": "#E5ECF6",
           "caxis": {
            "gridcolor": "white",
            "linecolor": "white",
            "ticks": ""
           }
          },
          "title": {
           "x": 0.05
          },
          "xaxis": {
           "automargin": true,
           "gridcolor": "white",
           "linecolor": "white",
           "ticks": "",
           "title": {
            "standoff": 15
           },
           "zerolinecolor": "white",
           "zerolinewidth": 2
          },
          "yaxis": {
           "automargin": true,
           "gridcolor": "white",
           "linecolor": "white",
           "ticks": "",
           "title": {
            "standoff": 15
           },
           "zerolinecolor": "white",
           "zerolinewidth": 2
          }
         }
        }
       }
      }
     },
     "metadata": {},
     "output_type": "display_data"
    }
   ],
   "source": [
    "node = go.sankey.Node(label=labels)\n",
    "link = go.sankey.Link(source=sources, target=targets, value=use_for_plot.value)\n",
    "\n",
    "fig = go.Figure(data=go.Sankey(node=node, link=link, orientation=\"v\"))\n",
    "\n",
    "fig.show()"
   ]
  },
  {
   "cell_type": "code",
   "execution_count": 25,
   "metadata": {},
   "outputs": [
    {
     "data": {
      "text/plain": [
       "861"
      ]
     },
     "execution_count": 25,
     "metadata": {},
     "output_type": "execute_result"
    }
   ],
   "source": [
    "unique_nodes = CharTrie((v, True) for v in sankey_df[sankey_df.target.str.len() == 5 * 2].target.values)\n",
    "len(unique_nodes)"
   ]
  },
  {
   "cell_type": "code",
   "execution_count": 26,
   "metadata": {},
   "outputs": [],
   "source": [
    "for target in sankey_df.target:\n",
    "    try:\n",
    "        unique_nodes[target]\n",
    "    except ShortKeyError:\n",
    "        continue\n",
    "    except KeyError:\n",
    "        unique_nodes[target] = True"
   ]
  },
  {
   "cell_type": "code",
   "execution_count": 27,
   "metadata": {},
   "outputs": [
    {
     "data": {
      "text/plain": [
       "1256"
      ]
     },
     "execution_count": 27,
     "metadata": {},
     "output_type": "execute_result"
    }
   ],
   "source": [
    "len(unique_nodes)"
   ]
  },
  {
   "cell_type": "code",
   "execution_count": 28,
   "metadata": {},
   "outputs": [
    {
     "data": {
      "text/plain": [
       "(438, 4)"
      ]
     },
     "execution_count": 28,
     "metadata": {},
     "output_type": "execute_result"
    }
   ],
   "source": [
    "cats = classified_ocr.Category_MasterProduct.apply(lambda x: split_into_categories(x))\n",
    "cats_df = pd.DataFrame.from_records(cats.values)\n",
    "cats_df.columns = [f\"level_{i}\" for i in range(1, 6)]\n",
    "\n",
    "cats_sankey_values = []\n",
    "for target in cats_df[\"level_1\"].unique():\n",
    "    value = cats_df[cats_df[f\"level_1\"] == target].shape[0]\n",
    "    cats_sankey_values.append({\"level\": 1, \"source\": \"00\", \"target\": target, \"value\": value})\n",
    "for level in range(2, 6):\n",
    "    for target in cats_df[f\"level_{level}\"].unique():\n",
    "        for source in cats_df[f\"level_{level - 1}\"].unique():\n",
    "            value = cats_df[(cats_df[f\"level_{level - 1}\"] == source) & (cats_df[f\"level_{level}\"] == target)].shape[0]\n",
    "            cats_sankey_values.append({\n",
    "                \"level\": level,\n",
    "                \"source\": source,\n",
    "                \"target\": target,\n",
    "                \"value\": value\n",
    "            })\n",
    "cats_sankey_df = pd.DataFrame(cats_sankey_values)\n",
    "cats_sankey_df = cats_sankey_df[cats_sankey_df.value > 0]\n",
    "cats_sankey_df.shape"
   ]
  },
  {
   "cell_type": "code",
   "execution_count": 29,
   "metadata": {},
   "outputs": [],
   "source": [
    "cats_labels = [f\"l{l}_{t}\" for l in cats_sankey_df.level.unique() for t in cats_sankey_df.target.unique()]\n",
    "cats_labels += [\"l1_00\", ]\n",
    "\n",
    "cats_labels = sorted(cats_labels)\n",
    "cats_labels_table = {l: idx for idx, l in enumerate(cats_labels)}"
   ]
  },
  {
   "cell_type": "code",
   "execution_count": 30,
   "metadata": {},
   "outputs": [
    {
     "data": {
      "text/html": [
       "<div>\n",
       "<style scoped>\n",
       "    .dataframe tbody tr th:only-of-type {\n",
       "        vertical-align: middle;\n",
       "    }\n",
       "\n",
       "    .dataframe tbody tr th {\n",
       "        vertical-align: top;\n",
       "    }\n",
       "\n",
       "    .dataframe thead th {\n",
       "        text-align: right;\n",
       "    }\n",
       "</style>\n",
       "<table border=\"1\" class=\"dataframe\">\n",
       "  <thead>\n",
       "    <tr style=\"text-align: right;\">\n",
       "      <th></th>\n",
       "      <th>level</th>\n",
       "      <th>source</th>\n",
       "      <th>target</th>\n",
       "      <th>value</th>\n",
       "    </tr>\n",
       "  </thead>\n",
       "  <tbody>\n",
       "    <tr>\n",
       "      <th>0</th>\n",
       "      <td>1</td>\n",
       "      <td>00</td>\n",
       "      <td>02</td>\n",
       "      <td>13883</td>\n",
       "    </tr>\n",
       "    <tr>\n",
       "      <th>1</th>\n",
       "      <td>1</td>\n",
       "      <td>00</td>\n",
       "      <td>01</td>\n",
       "      <td>20960</td>\n",
       "    </tr>\n",
       "    <tr>\n",
       "      <th>2</th>\n",
       "      <td>1</td>\n",
       "      <td>00</td>\n",
       "      <td>03</td>\n",
       "      <td>4195</td>\n",
       "    </tr>\n",
       "    <tr>\n",
       "      <th>3</th>\n",
       "      <td>1</td>\n",
       "      <td>00</td>\n",
       "      <td>04</td>\n",
       "      <td>471</td>\n",
       "    </tr>\n",
       "    <tr>\n",
       "      <th>9</th>\n",
       "      <td>2</td>\n",
       "      <td>01</td>\n",
       "      <td>04</td>\n",
       "      <td>5588</td>\n",
       "    </tr>\n",
       "    <tr>\n",
       "      <th>...</th>\n",
       "      <td>...</td>\n",
       "      <td>...</td>\n",
       "      <td>...</td>\n",
       "      <td>...</td>\n",
       "    </tr>\n",
       "    <tr>\n",
       "      <th>1307</th>\n",
       "      <td>5</td>\n",
       "      <td>13</td>\n",
       "      <td>03</td>\n",
       "      <td>3</td>\n",
       "    </tr>\n",
       "    <tr>\n",
       "      <th>1338</th>\n",
       "      <td>5</td>\n",
       "      <td>13</td>\n",
       "      <td>02</td>\n",
       "      <td>32</td>\n",
       "    </tr>\n",
       "    <tr>\n",
       "      <th>1369</th>\n",
       "      <td>5</td>\n",
       "      <td>13</td>\n",
       "      <td>05</td>\n",
       "      <td>47</td>\n",
       "    </tr>\n",
       "    <tr>\n",
       "      <th>1524</th>\n",
       "      <td>5</td>\n",
       "      <td>13</td>\n",
       "      <td>04</td>\n",
       "      <td>105</td>\n",
       "    </tr>\n",
       "    <tr>\n",
       "      <th>1361</th>\n",
       "      <td>5</td>\n",
       "      <td>14</td>\n",
       "      <td>05</td>\n",
       "      <td>2</td>\n",
       "    </tr>\n",
       "  </tbody>\n",
       "</table>\n",
       "<p>438 rows × 4 columns</p>\n",
       "</div>"
      ],
      "text/plain": [
       "      level source target  value\n",
       "0         1     00     02  13883\n",
       "1         1     00     01  20960\n",
       "2         1     00     03   4195\n",
       "3         1     00     04    471\n",
       "9         2     01     04   5588\n",
       "...     ...    ...    ...    ...\n",
       "1307      5     13     03      3\n",
       "1338      5     13     02     32\n",
       "1369      5     13     05     47\n",
       "1524      5     13     04    105\n",
       "1361      5     14     05      2\n",
       "\n",
       "[438 rows x 4 columns]"
      ]
     },
     "execution_count": 30,
     "metadata": {},
     "output_type": "execute_result"
    }
   ],
   "source": [
    "cats_sankey_df.sort_values([\"level\", \"source\"])"
   ]
  },
  {
   "cell_type": "code",
   "execution_count": 31,
   "metadata": {},
   "outputs": [
    {
     "data": {
      "text/html": [
       "<div>\n",
       "<style scoped>\n",
       "    .dataframe tbody tr th:only-of-type {\n",
       "        vertical-align: middle;\n",
       "    }\n",
       "\n",
       "    .dataframe tbody tr th {\n",
       "        vertical-align: top;\n",
       "    }\n",
       "\n",
       "    .dataframe thead th {\n",
       "        text-align: right;\n",
       "    }\n",
       "</style>\n",
       "<table border=\"1\" class=\"dataframe\">\n",
       "  <thead>\n",
       "    <tr style=\"text-align: right;\">\n",
       "      <th></th>\n",
       "      <th>MappingGroupId</th>\n",
       "      <th>OcrValueId</th>\n",
       "      <th>OcrValue</th>\n",
       "      <th>ReceiptCount</th>\n",
       "      <th>Language</th>\n",
       "      <th>Category_BERT</th>\n",
       "      <th>VerifiedAt</th>\n",
       "      <th>BarcodeRequestId</th>\n",
       "      <th>ProductId</th>\n",
       "      <th>Category_MasterProduct</th>\n",
       "      <th>Brand</th>\n",
       "    </tr>\n",
       "  </thead>\n",
       "  <tbody>\n",
       "    <tr>\n",
       "      <th>0</th>\n",
       "      <td>56</td>\n",
       "      <td>72911</td>\n",
       "      <td>PATATA ROJA</td>\n",
       "      <td>1038</td>\n",
       "      <td>es</td>\n",
       "      <td>0206020501</td>\n",
       "      <td>2021-12-14</td>\n",
       "      <td>2460</td>\n",
       "      <td>316654</td>\n",
       "      <td>02060205</td>\n",
       "      <td>NaN</td>\n",
       "    </tr>\n",
       "    <tr>\n",
       "      <th>2</th>\n",
       "      <td>56</td>\n",
       "      <td>730245</td>\n",
       "      <td>CRISPY CHICKEN</td>\n",
       "      <td>176</td>\n",
       "      <td>es</td>\n",
       "      <td>0202</td>\n",
       "      <td>2021-12-14</td>\n",
       "      <td>7155</td>\n",
       "      <td>316646</td>\n",
       "      <td>02040504</td>\n",
       "      <td>NaN</td>\n",
       "    </tr>\n",
       "    <tr>\n",
       "      <th>4</th>\n",
       "      <td>56</td>\n",
       "      <td>45025</td>\n",
       "      <td>LOMO IBÉRICO ADOB</td>\n",
       "      <td>222</td>\n",
       "      <td>es</td>\n",
       "      <td>020102</td>\n",
       "      <td>2021-12-14</td>\n",
       "      <td>2873</td>\n",
       "      <td>316640</td>\n",
       "      <td>02010203</td>\n",
       "      <td>NaN</td>\n",
       "    </tr>\n",
       "    <tr>\n",
       "      <th>5</th>\n",
       "      <td>16</td>\n",
       "      <td>5510</td>\n",
       "      <td>TOMATE RAMA CARREF</td>\n",
       "      <td>2580</td>\n",
       "      <td>es</td>\n",
       "      <td>0206020301</td>\n",
       "      <td>2021-12-14</td>\n",
       "      <td>28555</td>\n",
       "      <td>238222</td>\n",
       "      <td>0206020301</td>\n",
       "      <td>NaN</td>\n",
       "    </tr>\n",
       "    <tr>\n",
       "      <th>6</th>\n",
       "      <td>29</td>\n",
       "      <td>74990</td>\n",
       "      <td>TOMAQUET BRANCA</td>\n",
       "      <td>298</td>\n",
       "      <td>ca</td>\n",
       "      <td>0206020301</td>\n",
       "      <td>2022-01-05</td>\n",
       "      <td>100501</td>\n",
       "      <td>238222</td>\n",
       "      <td>0206020301</td>\n",
       "      <td>NaN</td>\n",
       "    </tr>\n",
       "    <tr>\n",
       "      <th>...</th>\n",
       "      <td>...</td>\n",
       "      <td>...</td>\n",
       "      <td>...</td>\n",
       "      <td>...</td>\n",
       "      <td>...</td>\n",
       "      <td>...</td>\n",
       "      <td>...</td>\n",
       "      <td>...</td>\n",
       "      <td>...</td>\n",
       "      <td>...</td>\n",
       "      <td>...</td>\n",
       "    </tr>\n",
       "    <tr>\n",
       "      <th>61598</th>\n",
       "      <td>56</td>\n",
       "      <td>8752259</td>\n",
       "      <td>GAREA LECHE SEMI</td>\n",
       "      <td>50</td>\n",
       "      <td>es</td>\n",
       "      <td>0103010103</td>\n",
       "      <td>2022-05-25</td>\n",
       "      <td>223289</td>\n",
       "      <td>354520</td>\n",
       "      <td>0103010103</td>\n",
       "      <td>Garea</td>\n",
       "    </tr>\n",
       "    <tr>\n",
       "      <th>61599</th>\n",
       "      <td>56</td>\n",
       "      <td>7123212</td>\n",
       "      <td>CAMPLLONG LECHE</td>\n",
       "      <td>21</td>\n",
       "      <td>es</td>\n",
       "      <td>01030101</td>\n",
       "      <td>2022-03-22</td>\n",
       "      <td>204115</td>\n",
       "      <td>354518</td>\n",
       "      <td>0103010101</td>\n",
       "      <td>Campllong</td>\n",
       "    </tr>\n",
       "    <tr>\n",
       "      <th>61600</th>\n",
       "      <td>56</td>\n",
       "      <td>7123212</td>\n",
       "      <td>CAMPLLONG LECHE</td>\n",
       "      <td>21</td>\n",
       "      <td>es</td>\n",
       "      <td>01030101</td>\n",
       "      <td>2022-03-22</td>\n",
       "      <td>173084</td>\n",
       "      <td>347597</td>\n",
       "      <td>0103010103</td>\n",
       "      <td>Campllong</td>\n",
       "    </tr>\n",
       "    <tr>\n",
       "      <th>61601</th>\n",
       "      <td>56</td>\n",
       "      <td>7821681</td>\n",
       "      <td>AGROS LECHE ENTERA</td>\n",
       "      <td>12</td>\n",
       "      <td>es</td>\n",
       "      <td>0103010101</td>\n",
       "      <td>2022-05-12</td>\n",
       "      <td>242408</td>\n",
       "      <td>354527</td>\n",
       "      <td>0103010101</td>\n",
       "      <td>Agros</td>\n",
       "    </tr>\n",
       "    <tr>\n",
       "      <th>61602</th>\n",
       "      <td>56</td>\n",
       "      <td>7615157</td>\n",
       "      <td>AGROS DESNATADA</td>\n",
       "      <td>29</td>\n",
       "      <td>es</td>\n",
       "      <td>0103010102</td>\n",
       "      <td>2022-04-01</td>\n",
       "      <td>185939</td>\n",
       "      <td>347599</td>\n",
       "      <td>0103010102</td>\n",
       "      <td>Agros</td>\n",
       "    </tr>\n",
       "  </tbody>\n",
       "</table>\n",
       "<p>39509 rows × 11 columns</p>\n",
       "</div>"
      ],
      "text/plain": [
       "       MappingGroupId  OcrValueId            OcrValue  ReceiptCount Language  \\\n",
       "0                  56       72911         PATATA ROJA          1038       es   \n",
       "2                  56      730245      CRISPY CHICKEN           176       es   \n",
       "4                  56       45025   LOMO IBÉRICO ADOB           222       es   \n",
       "5                  16        5510  TOMATE RAMA CARREF          2580       es   \n",
       "6                  29       74990     TOMAQUET BRANCA           298       ca   \n",
       "...               ...         ...                 ...           ...      ...   \n",
       "61598              56     8752259    GAREA LECHE SEMI            50       es   \n",
       "61599              56     7123212     CAMPLLONG LECHE            21       es   \n",
       "61600              56     7123212     CAMPLLONG LECHE            21       es   \n",
       "61601              56     7821681  AGROS LECHE ENTERA            12       es   \n",
       "61602              56     7615157     AGROS DESNATADA            29       es   \n",
       "\n",
       "      Category_BERT  VerifiedAt  BarcodeRequestId  ProductId  \\\n",
       "0        0206020501  2021-12-14              2460     316654   \n",
       "2              0202  2021-12-14              7155     316646   \n",
       "4            020102  2021-12-14              2873     316640   \n",
       "5        0206020301  2021-12-14             28555     238222   \n",
       "6        0206020301  2022-01-05            100501     238222   \n",
       "...             ...         ...               ...        ...   \n",
       "61598    0103010103  2022-05-25            223289     354520   \n",
       "61599      01030101  2022-03-22            204115     354518   \n",
       "61600      01030101  2022-03-22            173084     347597   \n",
       "61601    0103010101  2022-05-12            242408     354527   \n",
       "61602    0103010102  2022-04-01            185939     347599   \n",
       "\n",
       "      Category_MasterProduct      Brand  \n",
       "0                   02060205        NaN  \n",
       "2                   02040504        NaN  \n",
       "4                   02010203        NaN  \n",
       "5                 0206020301        NaN  \n",
       "6                 0206020301        NaN  \n",
       "...                      ...        ...  \n",
       "61598             0103010103      Garea  \n",
       "61599             0103010101  Campllong  \n",
       "61600             0103010103  Campllong  \n",
       "61601             0103010101      Agros  \n",
       "61602             0103010102      Agros  \n",
       "\n",
       "[39509 rows x 11 columns]"
      ]
     },
     "execution_count": 31,
     "metadata": {},
     "output_type": "execute_result"
    }
   ],
   "source": [
    "classified_ocr"
   ]
  },
  {
   "cell_type": "code",
   "execution_count": 32,
   "metadata": {},
   "outputs": [],
   "source": [
    "classified_ocr[\"Category_BERT_Truncated\"] = classified_ocr.apply(\n",
    "    lambda row: row.Category_BERT[:len(row.Category_MasterProduct)], axis=\"columns\"\n",
    ")"
   ]
  },
  {
   "cell_type": "code",
   "execution_count": 33,
   "metadata": {},
   "outputs": [
    {
     "name": "stdout",
     "output_type": "stream",
     "text": [
      "Headline accuracy: 0.20, retailer-macro accuracy: 0.22\n"
     ]
    }
   ],
   "source": [
    "classified_ocr[\"Category_match\"] = classified_ocr.Category_BERT_Truncated == classified_ocr.Category_MasterProduct \n",
    "acc = classified_ocr.Category_match.mean()\n",
    "macro_acc = classified_ocr[[\"MappingGroupId\", \"Category_match\"]\n",
    "    ].groupby([\"MappingGroupId\"]\n",
    "    ).agg({\"Category_match\": \"mean\"}\n",
    "    ).mean().Category_match\n",
    "\n",
    "print(f\"Headline accuracy: {acc:.2f}, retailer-macro accuracy: {macro_acc:.2f}\")"
   ]
  },
  {
   "cell_type": "code",
   "execution_count": 34,
   "metadata": {},
   "outputs": [
    {
     "name": "stdout",
     "output_type": "stream",
     "text": [
      "Average across retailers:\n",
      "Level 1 acc: 0.90\n",
      "Level 2 acc: 0.84\n",
      "Level 3 acc: 0.75\n",
      "Level 4 acc: 0.28\n",
      "Level 5 acc: 0.20\n"
     ]
    }
   ],
   "source": [
    "def level_specific_accuracy(classified_ocr, level):\n",
    "    bert_pred = classified_ocr.Category_BERT_Truncated.str[:level * 2]\n",
    "    master_pred = classified_ocr.Category_MasterProduct.str[:level * 2]\n",
    "    return (bert_pred == master_pred).mean()\n",
    "\n",
    "print(\"Average across retailers:\")\n",
    "for level in range(1, 6):\n",
    "   print(f\"Level {level} acc: {level_specific_accuracy(classified_ocr, level):.2f}\")"
   ]
  },
  {
   "cell_type": "code",
   "execution_count": 35,
   "metadata": {},
   "outputs": [
    {
     "name": "stdout",
     "output_type": "stream",
     "text": [
      "Average across retailers:\n",
      "Level 1 f1: 0.80\n",
      "Level 2 f1: 0.62\n",
      "Level 3 f1: 0.55\n",
      "Level 4 f1: 0.13\n",
      "Level 5 f1: 0.10\n"
     ]
    }
   ],
   "source": [
    "def level_specific_accuracy(classified_ocr, level):\n",
    "    bert_pred = classified_ocr.Category_BERT_Truncated.str[:level * 2]\n",
    "    master_pred = classified_ocr.Category_MasterProduct.str[:level * 2]\n",
    "    return f1_score(bert_pred, master_pred, average=\"macro\")\n",
    "\n",
    "print(\"Average across retailers:\")\n",
    "for level in range(1, 6):\n",
    "   print(f\"Level {level} f1: {level_specific_accuracy(classified_ocr, level):.2f}\")"
   ]
  },
  {
   "cell_type": "code",
   "execution_count": 36,
   "metadata": {},
   "outputs": [
    {
     "name": "stdout",
     "output_type": "stream",
     "text": [
      "ca: [0.62, 0.42, 0.37, 0.11, 0.09]\n",
      "es: [0.85, 0.66, 0.57, 0.13, 0.1]\n"
     ]
    }
   ],
   "source": [
    "for lang, group in classified_ocr.groupby(\"Language\"):\n",
    "    accs = [level_specific_accuracy(group, level).round(2) for level in range(1, 6)]\n",
    "    print(f\"{lang}: {accs}\")"
   ]
  },
  {
   "cell_type": "code",
   "execution_count": 37,
   "metadata": {},
   "outputs": [
    {
     "name": "stdout",
     "output_type": "stream",
     "text": [
      "1: [0.9395996643976096, 0.8148252591807756, 0.722513013349901, 0.16517189884425326, 0.15735860959167064]\n",
      "2: [0.7937666168924982, 0.7373128018480981, 0.6043213263293417, 0.13199806581482218, 0.1392422323788131]\n",
      "3: [0.8634420188742005, 0.6721202105109959, 0.6541380909499336, 0.18920112628587407, 0.19654940999047413]\n",
      "4: [0.739275179098188, 0.5985285811631996, 0.6665697897061995, 0.175310549239744, 0.1272406605739939]\n",
      "13: [0.4414404809686267, 0.28686009112838373, 0.24319861173309448, 0.0943667098946602, 0.056672599819807934]\n",
      "15: [0.5343533697632058, 0.34284016636957815, 0.2943287037037037, 0.08436213991769546, 0.03951890034364261]\n",
      "16: [0.8496193570717839, 0.7316576108541476, 0.5864990374055358, 0.12590483943556866, 0.10292644571543277]\n",
      "28: [0.5084415584415584, 0.37754227196951656, 0.35413178091749525, 0.12132505175983437, 0.07688679245283017]\n",
      "29: [0.7416966991578201, 0.5263500108090254, 0.5209597277158416, 0.1374199332902931, 0.13755657428396806]\n",
      "34: [0.797339922833485, 0.6632864949676053, 0.5487127359595477, 0.14901707403902312, 0.1584126984126984]\n",
      "36: [0.7069565107411631, 0.5839648062112611, 0.5862703885641267, 0.11600874488322431, 0.10540168867865203]\n",
      "43: [0.9320344129554656, 0.8067047817047818, 0.7073242073242074, 0.2587301587301587, 0.2727272727272727]\n",
      "44: [0.9758351813951471, 0.8921871550980081, 0.731401943377316, 0.15968744649631264, 0.13242738630511375]\n",
      "45: [0.8432558544596008, 0.6674756004115266, 0.6524279610375361, 0.1664096856794241, 0.1495242456166802]\n",
      "48: [0.9701104613385315, 0.9333333333333332, 0.6923076923076923, 0.45, 0.1724137931034483]\n",
      "56: [0.9373798001755949, 0.7421315369746077, 0.6354536749050883, 0.1372912043443614, 0.1259091302096423]\n",
      "57: [0.980238302818948, 0.8805935127674258, 0.7129198966408269, 0.2991967871485944, 0.24019607843137256]\n",
      "59: [1.0, 1.0, 0.0, 0.0, 0.0]\n",
      "62: [0.7586350870453915, 0.5511300825383637, 0.49442751271756463, 0.10558061440267956, 0.08516044685765321]\n",
      "69: [0.6769151138716356, 0.43668909592822636, 0.3586195286195286, 0.13333333333333333, 0.07142857142857142]\n"
     ]
    }
   ],
   "source": [
    "for mapping_group_id, group in classified_ocr.groupby(\"MappingGroupId\"):\n",
    "    accs = [level_specific_accuracy(group, level) for level in range(1, 6)]\n",
    "    print(f\"{mapping_group_id}: {accs}\")"
   ]
  },
  {
   "cell_type": "code",
   "execution_count": 38,
   "metadata": {},
   "outputs": [
    {
     "data": {
      "text/plain": [
       "(178, 13)"
      ]
     },
     "execution_count": 38,
     "metadata": {},
     "output_type": "execute_result"
    }
   ],
   "source": [
    "classified_ocr[classified_ocr.MappingGroupId == 13].shape"
   ]
  },
  {
   "cell_type": "code",
   "execution_count": 39,
   "metadata": {},
   "outputs": [
    {
     "data": {
      "text/plain": [
       "(75, 13)"
      ]
     },
     "execution_count": 39,
     "metadata": {},
     "output_type": "execute_result"
    }
   ],
   "source": [
    "classified_ocr[classified_ocr.MappingGroupId == 15].shape"
   ]
  },
  {
   "cell_type": "code",
   "execution_count": 40,
   "metadata": {},
   "outputs": [
    {
     "data": {
      "text/plain": [
       "(92, 13)"
      ]
     },
     "execution_count": 40,
     "metadata": {},
     "output_type": "execute_result"
    }
   ],
   "source": [
    "classified_ocr[classified_ocr.MappingGroupId == 28].shape"
   ]
  },
  {
   "cell_type": "code",
   "execution_count": 41,
   "metadata": {},
   "outputs": [
    {
     "data": {
      "text/plain": [
       "(13708, 13)"
      ]
     },
     "execution_count": 41,
     "metadata": {},
     "output_type": "execute_result"
    }
   ],
   "source": [
    "classified_ocr[classified_ocr.MappingGroupId == 62].shape"
   ]
  },
  {
   "cell_type": "code",
   "execution_count": 42,
   "metadata": {},
   "outputs": [
    {
     "data": {
      "text/plain": [
       "(67, 13)"
      ]
     },
     "execution_count": 42,
     "metadata": {},
     "output_type": "execute_result"
    }
   ],
   "source": [
    "classified_ocr[classified_ocr.MappingGroupId == 69].shape"
   ]
  },
  {
   "cell_type": "code",
   "execution_count": 43,
   "metadata": {},
   "outputs": [
    {
     "data": {
      "text/plain": [
       "(4, 13)"
      ]
     },
     "execution_count": 43,
     "metadata": {},
     "output_type": "execute_result"
    }
   ],
   "source": [
    "classified_ocr[classified_ocr.MappingGroupId == 59].shape"
   ]
  },
  {
   "cell_type": "code",
   "execution_count": 44,
   "metadata": {},
   "outputs": [],
   "source": [
    "train, val = train_test_split(classified_ocr, random_state=42)"
   ]
  },
  {
   "cell_type": "code",
   "execution_count": 45,
   "metadata": {},
   "outputs": [
    {
     "name": "stderr",
     "output_type": "stream",
     "text": [
      "2022-09-08 15:36:12.909473: I tensorflow/stream_executor/cuda/cuda_gpu_executor.cc:975] successful NUMA node read from SysFS had negative value (-1), but there must be at least one NUMA node, so returning NUMA node zero\n",
      "2022-09-08 15:36:13.391683: I tensorflow/stream_executor/cuda/cuda_gpu_executor.cc:975] successful NUMA node read from SysFS had negative value (-1), but there must be at least one NUMA node, so returning NUMA node zero\n",
      "2022-09-08 15:36:13.392509: I tensorflow/stream_executor/cuda/cuda_gpu_executor.cc:975] successful NUMA node read from SysFS had negative value (-1), but there must be at least one NUMA node, so returning NUMA node zero\n",
      "2022-09-08 15:36:13.395457: I tensorflow/core/platform/cpu_feature_guard.cc:193] This TensorFlow binary is optimized with oneAPI Deep Neural Network Library (oneDNN) to use the following CPU instructions in performance-critical operations:  AVX2 FMA\n",
      "To enable them in other operations, rebuild TensorFlow with the appropriate compiler flags.\n",
      "2022-09-08 15:36:13.398173: I tensorflow/stream_executor/cuda/cuda_gpu_executor.cc:975] successful NUMA node read from SysFS had negative value (-1), but there must be at least one NUMA node, so returning NUMA node zero\n",
      "2022-09-08 15:36:13.399049: I tensorflow/stream_executor/cuda/cuda_gpu_executor.cc:975] successful NUMA node read from SysFS had negative value (-1), but there must be at least one NUMA node, so returning NUMA node zero\n",
      "2022-09-08 15:36:13.399758: I tensorflow/stream_executor/cuda/cuda_gpu_executor.cc:975] successful NUMA node read from SysFS had negative value (-1), but there must be at least one NUMA node, so returning NUMA node zero\n",
      "2022-09-08 15:36:14.688427: I tensorflow/stream_executor/cuda/cuda_gpu_executor.cc:975] successful NUMA node read from SysFS had negative value (-1), but there must be at least one NUMA node, so returning NUMA node zero\n",
      "2022-09-08 15:36:14.688767: I tensorflow/stream_executor/cuda/cuda_gpu_executor.cc:975] successful NUMA node read from SysFS had negative value (-1), but there must be at least one NUMA node, so returning NUMA node zero\n",
      "2022-09-08 15:36:14.688951: I tensorflow/stream_executor/cuda/cuda_gpu_executor.cc:975] successful NUMA node read from SysFS had negative value (-1), but there must be at least one NUMA node, so returning NUMA node zero\n",
      "2022-09-08 15:36:14.689093: I tensorflow/core/common_runtime/gpu/gpu_process_state.cc:222] Using CUDA malloc Async allocator for GPU: 0\n",
      "2022-09-08 15:36:14.690220: I tensorflow/core/common_runtime/gpu/gpu_device.cc:1532] Created device /job:localhost/replica:0/task:0/device:GPU:0 with 4592 MB memory:  -> device: 0, name: NVIDIA GeForce RTX 2060, pci bus id: 0000:01:00.0, compute capability: 7.5\n",
      "2022-09-08 15:36:25.419731: W tensorflow/core/framework/cpu_allocator_impl.cc:82] Allocation of 367248384 exceeds 10% of free system memory.\n",
      "ERROR:absl:hub.KerasLayer is trainable but has zero trainable weights.\n",
      "2022-09-08 15:36:33.114801: W tensorflow/core/framework/cpu_allocator_impl.cc:82] Allocation of 367248384 exceeds 10% of free system memory.\n",
      "2022-09-08 15:36:34.342382: W tensorflow/core/framework/cpu_allocator_impl.cc:82] Allocation of 367248384 exceeds 10% of free system memory.\n",
      "2022-09-08 15:36:35.067649: W tensorflow/core/framework/cpu_allocator_impl.cc:82] Allocation of 367248384 exceeds 10% of free system memory.\n",
      "2022-09-08 15:36:39.062287: W tensorflow/core/framework/cpu_allocator_impl.cc:82] Allocation of 367248384 exceeds 10% of free system memory.\n",
      "2022-09-08 15:36:47.626824: I tensorflow/stream_executor/cuda/cuda_dnn.cc:384] Loaded cuDNN version 8401\n"
     ]
    }
   ],
   "source": [
    "model = InferenceModel()\n",
    "\n",
    "new_val_cats = []\n",
    "for batch in chunk_it(val.OcrValue, 64):\n",
    "    new_val_cats.extend(model.infer(batch))"
   ]
  },
  {
   "cell_type": "code",
   "execution_count": null,
   "metadata": {},
   "outputs": [],
   "source": []
  },
  {
   "cell_type": "code",
   "execution_count": 46,
   "metadata": {},
   "outputs": [],
   "source": [
    "val[\"Category_new\"] = new_val_cats"
   ]
  },
  {
   "cell_type": "code",
   "execution_count": 47,
   "metadata": {},
   "outputs": [
    {
     "data": {
      "text/plain": [
       "0.15863535128568537"
      ]
     },
     "execution_count": 47,
     "metadata": {},
     "output_type": "execute_result"
    }
   ],
   "source": [
    "(val[\"Category_BERT\"] == val[\"Category_new\"]).mean()"
   ]
  },
  {
   "cell_type": "code",
   "execution_count": 48,
   "metadata": {},
   "outputs": [
    {
     "data": {
      "text/plain": [
       "0.589289329823851"
      ]
     },
     "execution_count": 48,
     "metadata": {},
     "output_type": "execute_result"
    }
   ],
   "source": [
    "(val[\"Category_MasterProduct\"] == val[\"Category_new\"]).mean()"
   ]
  },
  {
   "cell_type": "code",
   "execution_count": 49,
   "metadata": {},
   "outputs": [
    {
     "data": {
      "text/plain": [
       "[0.97, 0.93, 0.86, 0.74, 0.68]"
      ]
     },
     "execution_count": 49,
     "metadata": {},
     "output_type": "execute_result"
    }
   ],
   "source": [
    "def exact_category_accuracy(pred_cat_str, true_cat_str, level):\n",
    "    # making copies since I'm later modifying them in-place\n",
    "    pred_cat_str = list(pred_cat_str)\n",
    "    true_cat_str = list(true_cat_str)\n",
    "    for idx, (pred_cat, true_cat) in enumerate(zip(pred_cat_str, true_cat_str)):\n",
    "        true_cat = true_cat[:2*level]\n",
    "        pred_cat = pred_cat[:len(true_cat)]\n",
    "        pred_cat_str[idx] = pred_cat\n",
    "        true_cat_str[idx] = true_cat\n",
    "    return sum(pred == true for pred, true in zip(pred_cat_str, true_cat_str)) / len(pred_cat_str)\n",
    "\n",
    "[round(exact_category_accuracy(val.Category_new, val.Category_MasterProduct, level), 2) for level in range(1, 6)]"
   ]
  },
  {
   "cell_type": "code",
   "execution_count": 50,
   "metadata": {},
   "outputs": [
    {
     "data": {
      "text/plain": [
       "['0101140102']"
      ]
     },
     "execution_count": 50,
     "metadata": {},
     "output_type": "execute_result"
    }
   ],
   "source": [
    "model.predict(\"P.MOLDE 100% INT\")"
   ]
  }
 ],
 "metadata": {
  "kernelspec": {
   "display_name": "Python 3.10.6 ('venv': venv)",
   "language": "python",
   "name": "python3"
  },
  "language_info": {
   "codemirror_mode": {
    "name": "ipython",
    "version": 3
   },
   "file_extension": ".py",
   "mimetype": "text/x-python",
   "name": "python",
   "nbconvert_exporter": "python",
   "pygments_lexer": "ipython3",
   "version": "3.10.6"
  },
  "orig_nbformat": 4,
  "vscode": {
   "interpreter": {
    "hash": "86ab8d4916c4a5da2793c6264341d61f20680658314f07d96ed1da85891f63f8"
   }
  }
 },
 "nbformat": 4,
 "nbformat_minor": 2
}
