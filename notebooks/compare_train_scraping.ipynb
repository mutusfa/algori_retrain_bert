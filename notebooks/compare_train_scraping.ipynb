{
 "cells": [
  {
   "cell_type": "code",
   "execution_count": 6,
   "metadata": {},
   "outputs": [],
   "source": [
    "from pathlib import Path\n",
    "\n",
    "import pandas as pd\n",
    "import seaborn as sns\n",
    "\n",
    "from retrain_bert import settings"
   ]
  },
  {
   "cell_type": "code",
   "execution_count": 7,
   "metadata": {},
   "outputs": [],
   "source": [
    "scraping_products = pd.read_csv(settings.DATA_DIR / 'intermediate' / 'scraping_products_cat.csv', dtype=str)\n",
    "train_products = pd.read_csv(settings.DATA_DIR / 'raw' / 'classified_ocr_2023_11_01.csv', dtype=str)"
   ]
  },
  {
   "cell_type": "code",
   "execution_count": 8,
   "metadata": {},
   "outputs": [
    {
     "data": {
      "text/html": [
       "<div>\n",
       "<style scoped>\n",
       "    .dataframe tbody tr th:only-of-type {\n",
       "        vertical-align: middle;\n",
       "    }\n",
       "\n",
       "    .dataframe tbody tr th {\n",
       "        vertical-align: top;\n",
       "    }\n",
       "\n",
       "    .dataframe thead th {\n",
       "        text-align: right;\n",
       "    }\n",
       "</style>\n",
       "<table border=\"1\" class=\"dataframe\">\n",
       "  <thead>\n",
       "    <tr style=\"text-align: right;\">\n",
       "      <th></th>\n",
       "      <th>category</th>\n",
       "      <th>OcrValue</th>\n",
       "      <th>Category_MasterProduct</th>\n",
       "    </tr>\n",
       "  </thead>\n",
       "  <tbody>\n",
       "    <tr>\n",
       "      <th>0</th>\n",
       "      <td>Productos frescos &gt; Derivados lácteos &gt; Yogure...</td>\n",
       "      <td>Pouche Solo Eco Pera,Platano y naranja</td>\n",
       "      <td>02050110</td>\n",
       "    </tr>\n",
       "    <tr>\n",
       "      <th>1</th>\n",
       "      <td>Productos frescos &gt; Derivados lácteos &gt; Yogure...</td>\n",
       "      <td>Pouche Manzana Fresa Platano Arandano Solo</td>\n",
       "      <td>02050110</td>\n",
       "    </tr>\n",
       "    <tr>\n",
       "      <th>2</th>\n",
       "      <td>Alimentación y bebidas &gt; Alimentación seca &gt; A...</td>\n",
       "      <td>Verduras con Merluza Tarrito</td>\n",
       "      <td>0101270104</td>\n",
       "    </tr>\n",
       "    <tr>\n",
       "      <th>3</th>\n",
       "      <td>Alimentación y bebidas &gt; Alimentación seca &gt; A...</td>\n",
       "      <td>Verduras Lubina Merluza Tarrito</td>\n",
       "      <td>0101270104</td>\n",
       "    </tr>\n",
       "    <tr>\n",
       "      <th>4</th>\n",
       "      <td>Productos frescos &gt; Derivados lácteos &gt; Yogure...</td>\n",
       "      <td>Pouche Mango Yogurt y Plátano Solo Eco</td>\n",
       "      <td>02050110</td>\n",
       "    </tr>\n",
       "  </tbody>\n",
       "</table>\n",
       "</div>"
      ],
      "text/plain": [
       "                                            category  \\\n",
       "0  Productos frescos > Derivados lácteos > Yogure...   \n",
       "1  Productos frescos > Derivados lácteos > Yogure...   \n",
       "2  Alimentación y bebidas > Alimentación seca > A...   \n",
       "3  Alimentación y bebidas > Alimentación seca > A...   \n",
       "4  Productos frescos > Derivados lácteos > Yogure...   \n",
       "\n",
       "                                     OcrValue Category_MasterProduct  \n",
       "0      Pouche Solo Eco Pera,Platano y naranja               02050110  \n",
       "1  Pouche Manzana Fresa Platano Arandano Solo               02050110  \n",
       "2                Verduras con Merluza Tarrito             0101270104  \n",
       "3             Verduras Lubina Merluza Tarrito             0101270104  \n",
       "4      Pouche Mango Yogurt y Plátano Solo Eco               02050110  "
      ]
     },
     "execution_count": 8,
     "metadata": {},
     "output_type": "execute_result"
    }
   ],
   "source": [
    "scraping_products.head()"
   ]
  },
  {
   "cell_type": "code",
   "execution_count": 9,
   "metadata": {},
   "outputs": [
    {
     "data": {
      "text/html": [
       "<div>\n",
       "<style scoped>\n",
       "    .dataframe tbody tr th:only-of-type {\n",
       "        vertical-align: middle;\n",
       "    }\n",
       "\n",
       "    .dataframe tbody tr th {\n",
       "        vertical-align: top;\n",
       "    }\n",
       "\n",
       "    .dataframe thead th {\n",
       "        text-align: right;\n",
       "    }\n",
       "</style>\n",
       "<table border=\"1\" class=\"dataframe\">\n",
       "  <thead>\n",
       "    <tr style=\"text-align: right;\">\n",
       "      <th></th>\n",
       "      <th>OcrValue</th>\n",
       "      <th>OcrValueId</th>\n",
       "      <th>Category_MasterProduct</th>\n",
       "      <th>MappingGroupId</th>\n",
       "      <th>Product</th>\n",
       "    </tr>\n",
       "  </thead>\n",
       "  <tbody>\n",
       "    <tr>\n",
       "      <th>0</th>\n",
       "      <td>FAVORINA/BOLSA DE NAVIDA</td>\n",
       "      <td>579473</td>\n",
       "      <td>0101230403</td>\n",
       "      <td>56</td>\n",
       "      <td>Bolsa de chocolates surtidos FAVORINA 250g</td>\n",
       "    </tr>\n",
       "    <tr>\n",
       "      <th>1</th>\n",
       "      <td>LA CASERA LIMÓN BIPACK</td>\n",
       "      <td>6074333</td>\n",
       "      <td>0104020601</td>\n",
       "      <td>56</td>\n",
       "      <td>Bebida refrescante gaseosa de limón zero LA CA...</td>\n",
       "    </tr>\n",
       "    <tr>\n",
       "      <th>2</th>\n",
       "      <td>DELUXE/ABETO DE NAVIDAD</td>\n",
       "      <td>18124274</td>\n",
       "      <td>0101230404</td>\n",
       "      <td>56</td>\n",
       "      <td>Bizcocho de chocolate</td>\n",
       "    </tr>\n",
       "    <tr>\n",
       "      <th>3</th>\n",
       "      <td>ARGUS/UD. CERVEZA 0,</td>\n",
       "      <td>4969340</td>\n",
       "      <td>0104040201</td>\n",
       "      <td>56</td>\n",
       "      <td>Cerveza 0.0% sin alcohol ARGUS, lata, 330 ml</td>\n",
       "    </tr>\n",
       "    <tr>\n",
       "      <th>4</th>\n",
       "      <td>GIORGI GOMINA</td>\n",
       "      <td>12187827</td>\n",
       "      <td>0302010303</td>\n",
       "      <td>56</td>\n",
       "      <td>Gel fijador control total Giorgi 170 ml</td>\n",
       "    </tr>\n",
       "  </tbody>\n",
       "</table>\n",
       "</div>"
      ],
      "text/plain": [
       "                   OcrValue OcrValueId Category_MasterProduct MappingGroupId  \\\n",
       "0  FAVORINA/BOLSA DE NAVIDA     579473             0101230403             56   \n",
       "1    LA CASERA LIMÓN BIPACK    6074333             0104020601             56   \n",
       "2   DELUXE/ABETO DE NAVIDAD   18124274             0101230404             56   \n",
       "3      ARGUS/UD. CERVEZA 0,    4969340             0104040201             56   \n",
       "4             GIORGI GOMINA   12187827             0302010303             56   \n",
       "\n",
       "                                             Product  \n",
       "0         Bolsa de chocolates surtidos FAVORINA 250g  \n",
       "1  Bebida refrescante gaseosa de limón zero LA CA...  \n",
       "2                              Bizcocho de chocolate  \n",
       "3       Cerveza 0.0% sin alcohol ARGUS, lata, 330 ml  \n",
       "4            Gel fijador control total Giorgi 170 ml  "
      ]
     },
     "execution_count": 9,
     "metadata": {},
     "output_type": "execute_result"
    }
   ],
   "source": [
    "train_products.head()"
   ]
  },
  {
   "cell_type": "code",
   "execution_count": 28,
   "metadata": {},
   "outputs": [],
   "source": [
    "scraping_products[\"level_3\"] = scraping_products[\"Category_MasterProduct\"].str[:6]\n",
    "train_products[\"level_3\"] = train_products[\"Category_MasterProduct\"].str[:6]"
   ]
  },
  {
   "cell_type": "code",
   "execution_count": 37,
   "metadata": {},
   "outputs": [],
   "source": [
    "new_categories = set(scraping_products.Category_MasterProduct.unique()) - set(train_products.Category_MasterProduct.unique())\n",
    "new_level_3_categories = set(scraping_products.level_3.unique()) - set(train_products.level_3.unique())\n",
    "new_level_3_categories = set(c for c in new_level_3_categories if len(c) == 6)"
   ]
  },
  {
   "cell_type": "code",
   "execution_count": 14,
   "metadata": {},
   "outputs": [
    {
     "data": {
      "text/plain": [
       "191"
      ]
     },
     "execution_count": 14,
     "metadata": {},
     "output_type": "execute_result"
    }
   ],
   "source": [
    "len(new_categories)"
   ]
  },
  {
   "cell_type": "code",
   "execution_count": 38,
   "metadata": {},
   "outputs": [
    {
     "data": {
      "text/plain": [
       "7"
      ]
     },
     "execution_count": 38,
     "metadata": {},
     "output_type": "execute_result"
    }
   ],
   "source": [
    "len(new_level_3_categories)"
   ]
  },
  {
   "cell_type": "code",
   "execution_count": 32,
   "metadata": {},
   "outputs": [],
   "source": [
    "categories_names = pd.read_csv(settings.DATA_DIR / 'intermediate' / 'categories_names.csv', dtype=str)"
   ]
  },
  {
   "cell_type": "code",
   "execution_count": 39,
   "metadata": {},
   "outputs": [
    {
     "data": {
      "text/plain": [
       "['Alimentación y bebidas > Bebidas > Lotes',\n",
       " 'Droguería y perfumería > Perfumeria e higiene > Higiene sexual',\n",
       " 'Productos frescos > Carnes > Equino',\n",
       " 'Productos frescos > Carnes > Otras carnes',\n",
       " 'Productos frescos > Derivados lácteos > Postres lácteos sin frío',\n",
       " 'Productos frescos > Platos cocinados y precocinados > Ensaladas a granel',\n",
       " 'Productos frescos > Platos cocinados y precocinados > Postres a granel']"
      ]
     },
     "execution_count": 39,
     "metadata": {},
     "output_type": "execute_result"
    }
   ],
   "source": [
    "sorted(categories_names[categories_names.code.isin(new_level_3_categories)].name)"
   ]
  },
  {
   "cell_type": "code",
   "execution_count": null,
   "metadata": {},
   "outputs": [],
   "source": []
  },
  {
   "cell_type": "code",
   "execution_count": 17,
   "metadata": {},
   "outputs": [
    {
     "data": {
      "text/plain": [
       "183"
      ]
     },
     "execution_count": 17,
     "metadata": {},
     "output_type": "execute_result"
    }
   ],
   "source": [
    "len([c for c in new_categories if len(c) >= 6])"
   ]
  },
  {
   "cell_type": "code",
   "execution_count": 15,
   "metadata": {},
   "outputs": [
    {
     "data": {
      "text/plain": [
       "['01',\n",
       " '01010301',\n",
       " '01010302',\n",
       " '01010303',\n",
       " '01010304',\n",
       " '010106',\n",
       " '01010601',\n",
       " '01010804',\n",
       " '01011102',\n",
       " '01011108',\n",
       " '01011109',\n",
       " '01011701',\n",
       " '01011702',\n",
       " '01011703',\n",
       " '010120',\n",
       " '01012001',\n",
       " '0101230107',\n",
       " '010124',\n",
       " '0101250105',\n",
       " '01012703',\n",
       " '0102',\n",
       " '0102010202',\n",
       " '0102011101',\n",
       " '0102011103',\n",
       " '01020206',\n",
       " '0102020903',\n",
       " '0102020913',\n",
       " '0102020916',\n",
       " '01020302',\n",
       " '0102040206',\n",
       " '0103',\n",
       " '010301',\n",
       " '01030201',\n",
       " '01030202',\n",
       " '010303',\n",
       " '010304',\n",
       " '0104',\n",
       " '010401',\n",
       " '01040101',\n",
       " '01040102',\n",
       " '010402',\n",
       " '01040201',\n",
       " '01040202',\n",
       " '01040203',\n",
       " '01040204',\n",
       " '01040205',\n",
       " '01040207',\n",
       " '01040209',\n",
       " '01040210',\n",
       " '01040212',\n",
       " '01040302',\n",
       " '01040402',\n",
       " '0104050204',\n",
       " '01040503',\n",
       " '0104050301',\n",
       " '0104050302',\n",
       " '0104050305',\n",
       " '0104050306',\n",
       " '0104050405',\n",
       " '0104050505',\n",
       " '0104051103',\n",
       " '0104051401',\n",
       " '0104060102',\n",
       " '0104060104',\n",
       " '01040605',\n",
       " '01040703',\n",
       " '01040803',\n",
       " '02',\n",
       " '02010201',\n",
       " '020104',\n",
       " '02010509',\n",
       " '0201070101',\n",
       " '0201070102',\n",
       " '020108',\n",
       " '020217',\n",
       " '020218',\n",
       " '0203010203',\n",
       " '020307',\n",
       " '02031107',\n",
       " '020319',\n",
       " '0204010404',\n",
       " '0204010504',\n",
       " '020404',\n",
       " '0204040105',\n",
       " '020503',\n",
       " '02050301',\n",
       " '02050302',\n",
       " '02050304',\n",
       " '020505',\n",
       " '020507',\n",
       " '0206010505',\n",
       " '0206020307',\n",
       " '0207',\n",
       " '0207010104',\n",
       " '02070107',\n",
       " '02070108',\n",
       " '0208',\n",
       " '0208010110',\n",
       " '0208010203',\n",
       " '0208010206',\n",
       " '0208010207',\n",
       " '0208010211',\n",
       " '020802',\n",
       " '0208020103',\n",
       " '0208020105',\n",
       " '0208020205',\n",
       " '0209020301',\n",
       " '02090401',\n",
       " '02090603',\n",
       " '020909',\n",
       " '02090901',\n",
       " '020918',\n",
       " '0301010102',\n",
       " '03010103',\n",
       " '030104',\n",
       " '03010401',\n",
       " '0301040202',\n",
       " '0301050203',\n",
       " '0301060509',\n",
       " '0301070802',\n",
       " '030110',\n",
       " '0301100103',\n",
       " '0302010402',\n",
       " '0302010404',\n",
       " '0302010501',\n",
       " '0302020102',\n",
       " '0302020103',\n",
       " '0302020104',\n",
       " '0302020201',\n",
       " '0302020204',\n",
       " '0302030103',\n",
       " '0302030303',\n",
       " '0302030403',\n",
       " '0302040402',\n",
       " '03020506',\n",
       " '0302060901',\n",
       " '0302060902',\n",
       " '0302100106',\n",
       " '0302120402',\n",
       " '03021426',\n",
       " '03021434',\n",
       " '03021442',\n",
       " '030215',\n",
       " '0302180101',\n",
       " '04010101',\n",
       " '04010106',\n",
       " '04010202',\n",
       " '0401030104',\n",
       " '0401030207',\n",
       " '0401030402',\n",
       " '0402050312',\n",
       " '0402050602',\n",
       " '0402050610',\n",
       " '0402060115',\n",
       " '0402060302',\n",
       " '0402060405',\n",
       " '0404100101',\n",
       " '0404100105',\n",
       " '0404100114',\n",
       " '0404100124',\n",
       " '0404100126',\n",
       " '0404100140',\n",
       " '0404100210',\n",
       " '0404100305',\n",
       " '0404100306',\n",
       " '0404100503',\n",
       " '0404100604',\n",
       " '0404100703',\n",
       " '0404110403',\n",
       " '0405',\n",
       " '0405130106',\n",
       " '0405130107',\n",
       " '0405130112',\n",
       " '0405130115',\n",
       " '0405130116',\n",
       " '0405130124',\n",
       " '0405130402',\n",
       " '0406140301',\n",
       " '0406140702',\n",
       " '0406140805',\n",
       " '0406141102',\n",
       " '0406141401',\n",
       " '040715',\n",
       " '0407150303',\n",
       " '0407150501',\n",
       " '0407150502',\n",
       " '0407150504',\n",
       " '0407150803',\n",
       " '0407150903',\n",
       " '040816',\n",
       " '0408160304']"
      ]
     },
     "execution_count": 15,
     "metadata": {},
     "output_type": "execute_result"
    }
   ],
   "source": [
    "sorted(new_categories])"
   ]
  },
  {
   "cell_type": "code",
   "execution_count": 20,
   "metadata": {},
   "outputs": [],
   "source": [
    "cats = scraping_products[scraping_products.Category_MasterProduct.isin(new_categories) & scraping_products.Category_MasterProduct.str.len().ge(6)].Category_MasterProduct.value_counts()"
   ]
  },
  {
   "cell_type": "code",
   "execution_count": 24,
   "metadata": {},
   "outputs": [],
   "source": [
    "interesting_cats = cats[cats.ge(10)]"
   ]
  },
  {
   "cell_type": "code",
   "execution_count": 27,
   "metadata": {},
   "outputs": [
    {
     "data": {
      "text/plain": [
       "['Alimentación y bebidas > Alimentación seca > Alimentación bebé > Leches infantiles',\n",
       " 'Alimentación y bebidas > Alimentación seca > Azúcar y edulcorantes > Azúcar',\n",
       " 'Alimentación y bebidas > Alimentación seca > Barras cereales',\n",
       " 'Alimentación y bebidas > Alimentación seca > Frutos secos y fruta seca',\n",
       " 'Alimentación y bebidas > Alimentación seca > Frutos secos y fruta seca > Frutos secos',\n",
       " 'Alimentación y bebidas > Alimentación seca > Galletas > Barquillos',\n",
       " 'Alimentación y bebidas > Alimentación seca > Galletas > Rellenas',\n",
       " 'Alimentación y bebidas > Alimentación seca > Galletas > Tostada',\n",
       " 'Alimentación y bebidas > Alimentación seca > Infusiones > Manzanilla',\n",
       " 'Alimentación y bebidas > Alimentación seca > Infusiones > Tila',\n",
       " 'Alimentación y bebidas > Alimentación seca > Infusiones > Té',\n",
       " 'Alimentación y bebidas > Alimentación seca > Legumbres secas > Alubias',\n",
       " 'Alimentación y bebidas > Alimentación seca > Legumbres secas > Garbanzos',\n",
       " 'Alimentación y bebidas > Alimentación seca > Legumbres secas > Lentejas',\n",
       " 'Alimentación y bebidas > Alimentación seca > Salsas > Mostaza',\n",
       " 'Alimentación y bebidas > Bebidas > Aguas',\n",
       " 'Alimentación y bebidas > Bebidas > Aguas > Con gas',\n",
       " 'Alimentación y bebidas > Bebidas > Aguas > Sin gas',\n",
       " 'Alimentación y bebidas > Bebidas > Bebidas refrescantes',\n",
       " 'Alimentación y bebidas > Bebidas > Bebidas refrescantes > Colas',\n",
       " 'Alimentación y bebidas > Bebidas > Bebidas refrescantes > Isotónicas/ Energéticas',\n",
       " 'Alimentación y bebidas > Bebidas > Bebidas refrescantes > Limón con gas',\n",
       " 'Alimentación y bebidas > Bebidas > Bebidas refrescantes > Limón sin gas',\n",
       " 'Alimentación y bebidas > Bebidas > Bebidas refrescantes > Naranja con gas',\n",
       " 'Alimentación y bebidas > Bebidas > Bebidas refrescantes > Naranja sin gas',\n",
       " 'Alimentación y bebidas > Bebidas > Bebidas refrescantes > Té',\n",
       " 'Alimentación y bebidas > Bebidas > Bebidas refrescantes > Tónicas',\n",
       " 'Alimentación y bebidas > Bebidas > Cervezas > Sin alcohol',\n",
       " 'Alimentación y bebidas > Bebidas > Espumosos > Cavas > Seco/ Extra Seco',\n",
       " 'Alimentación y bebidas > Bebidas > Espumosos > Champagne',\n",
       " 'Alimentación y bebidas > Bebidas > Vinos > Vinos con Denominación de Origen Navarra > Rosado',\n",
       " 'Alimentación y bebidas > Bebidas > Vinos > Vinos con Denominación de Origen Penedés > Blanco',\n",
       " 'Alimentación y bebidas > Bebidas > Vinos > Vinos con Denominación de Origen Rioja > Tinto Gran Reserva',\n",
       " 'Alimentación y bebidas > Bebidas > Vinos > Vinos con Denominación de Origen Valdepeñas > Rosado',\n",
       " 'Alimentación y bebidas > Bebidas > Vinos > Vinos de importación con Denominación de Origen > Blanco',\n",
       " 'Alimentación y bebidas > Bebidas > Vinos > Vinos de licor > D.O. Jerez',\n",
       " 'Alimentación y bebidas > Bebidas > Zumos > Néctares',\n",
       " 'Alimentación y bebidas > Conservas > Conservas vegetales > Alcachofas',\n",
       " 'Alimentación y bebidas > Leches y batidos > Batidos',\n",
       " 'Alimentación y bebidas > Leches y batidos > Horchatas',\n",
       " 'Alimentación y bebidas > Leches y batidos > Leche líquida',\n",
       " 'Alimentación y bebidas > Leches y batidos > Leches no líquidas > Condensada',\n",
       " 'Alimentación y bebidas > Leches y batidos > Leches no líquidas > Polvo',\n",
       " 'Droguería y perfumería > Droguería y limpieza > Detergentes ropa > Máquina > Polvo concentrado',\n",
       " 'Droguería y perfumería > Droguería y limpieza > Detergentes ropa > Prendas delicadas',\n",
       " 'Droguería y perfumería > Droguería y limpieza > Lavavajillas',\n",
       " 'Droguería y perfumería > Droguería y limpieza > Lavavajillas > Mano',\n",
       " 'Droguería y perfumería > Perfumeria e higiene > Cosmética decorativa > Facial > Correctores',\n",
       " 'Droguería y perfumería > Perfumeria e higiene > Cosmética decorativa > Ojos > Máscara',\n",
       " 'Droguería y perfumería > Perfumeria e higiene > Cosmética decorativa > Uñas > Tratamiento de uñas',\n",
       " 'Droguería y perfumería > Perfumeria e higiene > Cosmética facial > Cremas y geles de belleza > Contorno de ojos',\n",
       " 'Droguería y perfumería > Perfumeria e higiene > Cosmética facial > Cremas y geles de belleza > Nutritivas',\n",
       " 'Droguería y perfumería > Perfumeria e higiene > Cosmética facial > Limpieza facial > Toallitas desmaquilladoras',\n",
       " 'Droguería y perfumería > Perfumeria e higiene > Higiene bucal > Higiene prótesis dentales',\n",
       " 'Droguería y perfumería > Perfumeria e higiene > Higiene sexual',\n",
       " 'Droguería y perfumería > Perfumeria e higiene > Parafarmacia > Desodorantes',\n",
       " 'Droguería y perfumería > Perfumeria e higiene > Parafarmacia > Fijador',\n",
       " 'Droguería y perfumería > Perfumeria e higiene > Pañales bebé > Bragapañal > De 3 a 6 kgs',\n",
       " 'Droguería y perfumería > Perfumeria e higiene > Productos capilares > Coloración > Tono sobre tono',\n",
       " 'Droguería y perfumería > Perfumeria e higiene > Productos de afeitado > Loción después del afeitado > Gel',\n",
       " 'Droguería y perfumería > Perfumeria e higiene > Protección e higiene femenina > Aseo íntimo > Desodorante',\n",
       " 'No alimentación > Casa-Hogar > Casa-Hogar > Equipación cocina > Utensilios de cocina y repostería',\n",
       " 'No alimentación > Casa-Hogar > Casa-Hogar > Lavado y limpieza > Bolsas y cubos de basura',\n",
       " 'No alimentación > Casa-Hogar > Casa-Hogar > Muebles y decoración > Muebles jardín',\n",
       " 'No alimentación > Casa-Hogar > Casa-Hogar > Muebles y decoración > Ventiladores',\n",
       " 'No alimentación > Casa-Hogar > Casa-Hogar > Textil decoración > Mercería',\n",
       " 'No alimentación > Ferretería, bricolaje y automóvil > Sector ferretería y bricolaje > Ferretería > Patas',\n",
       " 'No alimentación > Juguetes > Juguetes > Disfraces > Maquillaje para disfraces',\n",
       " 'No alimentación > Juguetes > Juguetes > Figurativos > Hogar',\n",
       " 'No alimentación > Juguetes > Juguetes > Muñecas > Bebe',\n",
       " 'No alimentación > Mascotas > Mascotas',\n",
       " 'No alimentación > Papeleria > Papeleria > Cuadernos papel y recambios > Cuadernos',\n",
       " 'No alimentación > Papeleria > Papeleria > Escritura y pinturas > Bolígrafos',\n",
       " 'No alimentación > Papeleria > Papeleria > Mochilas y portatodos > Mochila colegial',\n",
       " 'No alimentación > Sector Bebé > Sector bebé > Puericultura > Accesorios de viaje y paseo',\n",
       " 'No alimentación > Sector Bebé > Sector bebé > Puericultura > Hamaca-Columpio',\n",
       " 'No alimentación > Sector Bebé > Sector bebé > Puericultura > Tazas',\n",
       " 'No alimentación > Textil, calzado y deporte > Calzado > Accesorios de calzado > Cordones',\n",
       " 'No alimentación > Textil, calzado y deporte > Calzado > Señora > Zapatillas hogar',\n",
       " 'No alimentación > Textil, calzado y deporte > Deporte > Ciclismo',\n",
       " 'No alimentación > Textil, calzado y deporte > Sector textil > Textil-Hogar',\n",
       " 'Productos frescos > Carnes > Aves y caza > Caza',\n",
       " 'Productos frescos > Carnes > Huevos > Blancos > Clase L (entre 63 y 73 grs)',\n",
       " 'Productos frescos > Carnes > Porcino > Cochinillo',\n",
       " 'Productos frescos > Charcutería > Lomo embuchado',\n",
       " 'Productos frescos > Charcutería > Paletilla de Jamón Curado',\n",
       " 'Productos frescos > Congelados > Croquetas y empanadillas',\n",
       " 'Productos frescos > Congelados > Croquetas y empanadillas > Croquetas > Marisco',\n",
       " 'Productos frescos > Congelados > Pescado y marisco sin preparar > Cefalópodos > Otros',\n",
       " 'Productos frescos > Congelados > Pescado y marisco sin preparar > Surimi > Otros surimis',\n",
       " 'Productos frescos > Derivados lácteos > Mantequilla',\n",
       " 'Productos frescos > Derivados lácteos > Nata',\n",
       " 'Productos frescos > Derivados lácteos > Postres lácteos sin frío',\n",
       " 'Productos frescos > Derivados lácteos > Postres lácteos sin frío > Desnatados',\n",
       " 'Productos frescos > Derivados lácteos > Postres lácteos sin frío > Sabores',\n",
       " 'Productos frescos > Panadería y pastelería > Pan > Blanco > Molde',\n",
       " 'Productos frescos > Panadería y pastelería > Pan > Pan para hornear',\n",
       " 'Productos frescos > Panadería y pastelería > Pan > Pan tradicional tostado, rallado y otros',\n",
       " 'Productos frescos > Pescados y mariscos > Mariscos',\n",
       " 'Productos frescos > Pescados y mariscos > Pescado fresco > Blanco > Gallo',\n",
       " 'Productos frescos > Pescados y mariscos > Pescado fresco > Blanco > Rape',\n",
       " 'Productos frescos > Platos cocinados y precocinados > Ensaladas a granel',\n",
       " 'Productos frescos > Platos cocinados y precocinados > Postres a granel',\n",
       " 'Productos frescos > Quesos > Queso en barra',\n",
       " 'Productos frescos > Quesos > Requesón',\n",
       " 'Productos frescos > Quesos > Requesón > Al corte']"
      ]
     },
     "execution_count": 27,
     "metadata": {},
     "output_type": "execute_result"
    }
   ],
   "source": [
    "sorted(scraping_products[scraping_products.Category_MasterProduct.isin(interesting_cats.index)].category.unique())"
   ]
  },
  {
   "cell_type": "code",
   "execution_count": null,
   "metadata": {},
   "outputs": [],
   "source": []
  }
 ],
 "metadata": {
  "kernelspec": {
   "display_name": "venv",
   "language": "python",
   "name": "python3"
  },
  "language_info": {
   "codemirror_mode": {
    "name": "ipython",
    "version": 3
   },
   "file_extension": ".py",
   "mimetype": "text/x-python",
   "name": "python",
   "nbconvert_exporter": "python",
   "pygments_lexer": "ipython3",
   "version": "3.11.5"
  }
 },
 "nbformat": 4,
 "nbformat_minor": 2
}
